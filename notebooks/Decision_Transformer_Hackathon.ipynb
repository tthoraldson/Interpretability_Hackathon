{
  "nbformat": 4,
  "nbformat_minor": 0,
  "metadata": {
    "colab": {
      "provenance": [],
      "collapsed_sections": [],
      "authorship_tag": "ABX9TyOjCp9ejTB62Hf0yG5BniJ2",
      "include_colab_link": true
    },
    "kernelspec": {
      "name": "python3",
      "display_name": "Python 3"
    },
    "language_info": {
      "name": "python"
    },
    "accelerator": "GPU",
    "gpuClass": "standard",
    "widgets": {
      "application/vnd.jupyter.widget-state+json": {
        "858037391a754e608d48a147b591b3a2": {
          "model_module": "@jupyter-widgets/controls",
          "model_name": "HBoxModel",
          "model_module_version": "1.5.0",
          "state": {
            "_dom_classes": [],
            "_model_module": "@jupyter-widgets/controls",
            "_model_module_version": "1.5.0",
            "_model_name": "HBoxModel",
            "_view_count": null,
            "_view_module": "@jupyter-widgets/controls",
            "_view_module_version": "1.5.0",
            "_view_name": "HBoxView",
            "box_style": "",
            "children": [
              "IPY_MODEL_5d7d5e5048044edebee77bb31cd17013",
              "IPY_MODEL_f0215e39710d45019122d7971d3c3e7b",
              "IPY_MODEL_e7f82fa98e36435f985570ef57789ae5"
            ],
            "layout": "IPY_MODEL_a30fc136750145e1b23c5ab5e93dea23"
          }
        },
        "5d7d5e5048044edebee77bb31cd17013": {
          "model_module": "@jupyter-widgets/controls",
          "model_name": "HTMLModel",
          "model_module_version": "1.5.0",
          "state": {
            "_dom_classes": [],
            "_model_module": "@jupyter-widgets/controls",
            "_model_module_version": "1.5.0",
            "_model_name": "HTMLModel",
            "_view_count": null,
            "_view_module": "@jupyter-widgets/controls",
            "_view_module_version": "1.5.0",
            "_view_name": "HTMLView",
            "description": "",
            "description_tooltip": null,
            "layout": "IPY_MODEL_470b35f915bb4fd0bf8ef3dd2b3a8044",
            "placeholder": "​",
            "style": "IPY_MODEL_5b5b2d87a82247a0b0b13ec41556c7a9",
            "value": "100%"
          }
        },
        "f0215e39710d45019122d7971d3c3e7b": {
          "model_module": "@jupyter-widgets/controls",
          "model_name": "FloatProgressModel",
          "model_module_version": "1.5.0",
          "state": {
            "_dom_classes": [],
            "_model_module": "@jupyter-widgets/controls",
            "_model_module_version": "1.5.0",
            "_model_name": "FloatProgressModel",
            "_view_count": null,
            "_view_module": "@jupyter-widgets/controls",
            "_view_module_version": "1.5.0",
            "_view_name": "ProgressView",
            "bar_style": "success",
            "description": "",
            "description_tooltip": null,
            "layout": "IPY_MODEL_901a94e943124d58a06ec69f6ac5bee5",
            "max": 301,
            "min": 0,
            "orientation": "horizontal",
            "style": "IPY_MODEL_f15987e5062d434fa0ffc75ba1bc6e3a",
            "value": 301
          }
        },
        "e7f82fa98e36435f985570ef57789ae5": {
          "model_module": "@jupyter-widgets/controls",
          "model_name": "HTMLModel",
          "model_module_version": "1.5.0",
          "state": {
            "_dom_classes": [],
            "_model_module": "@jupyter-widgets/controls",
            "_model_module_version": "1.5.0",
            "_model_name": "HTMLModel",
            "_view_count": null,
            "_view_module": "@jupyter-widgets/controls",
            "_view_module_version": "1.5.0",
            "_view_name": "HTMLView",
            "description": "",
            "description_tooltip": null,
            "layout": "IPY_MODEL_0c3acf20240c49418150522ca3ba2b42",
            "placeholder": "​",
            "style": "IPY_MODEL_3d5ef274642e4cc6aae03a2d9d5b33f7",
            "value": " 301/301 [00:05&lt;00:00, 53.45it/s]"
          }
        },
        "a30fc136750145e1b23c5ab5e93dea23": {
          "model_module": "@jupyter-widgets/base",
          "model_name": "LayoutModel",
          "model_module_version": "1.2.0",
          "state": {
            "_model_module": "@jupyter-widgets/base",
            "_model_module_version": "1.2.0",
            "_model_name": "LayoutModel",
            "_view_count": null,
            "_view_module": "@jupyter-widgets/base",
            "_view_module_version": "1.2.0",
            "_view_name": "LayoutView",
            "align_content": null,
            "align_items": null,
            "align_self": null,
            "border": null,
            "bottom": null,
            "display": null,
            "flex": null,
            "flex_flow": null,
            "grid_area": null,
            "grid_auto_columns": null,
            "grid_auto_flow": null,
            "grid_auto_rows": null,
            "grid_column": null,
            "grid_gap": null,
            "grid_row": null,
            "grid_template_areas": null,
            "grid_template_columns": null,
            "grid_template_rows": null,
            "height": null,
            "justify_content": null,
            "justify_items": null,
            "left": null,
            "margin": null,
            "max_height": null,
            "max_width": null,
            "min_height": null,
            "min_width": null,
            "object_fit": null,
            "object_position": null,
            "order": null,
            "overflow": null,
            "overflow_x": null,
            "overflow_y": null,
            "padding": null,
            "right": null,
            "top": null,
            "visibility": null,
            "width": null
          }
        },
        "470b35f915bb4fd0bf8ef3dd2b3a8044": {
          "model_module": "@jupyter-widgets/base",
          "model_name": "LayoutModel",
          "model_module_version": "1.2.0",
          "state": {
            "_model_module": "@jupyter-widgets/base",
            "_model_module_version": "1.2.0",
            "_model_name": "LayoutModel",
            "_view_count": null,
            "_view_module": "@jupyter-widgets/base",
            "_view_module_version": "1.2.0",
            "_view_name": "LayoutView",
            "align_content": null,
            "align_items": null,
            "align_self": null,
            "border": null,
            "bottom": null,
            "display": null,
            "flex": null,
            "flex_flow": null,
            "grid_area": null,
            "grid_auto_columns": null,
            "grid_auto_flow": null,
            "grid_auto_rows": null,
            "grid_column": null,
            "grid_gap": null,
            "grid_row": null,
            "grid_template_areas": null,
            "grid_template_columns": null,
            "grid_template_rows": null,
            "height": null,
            "justify_content": null,
            "justify_items": null,
            "left": null,
            "margin": null,
            "max_height": null,
            "max_width": null,
            "min_height": null,
            "min_width": null,
            "object_fit": null,
            "object_position": null,
            "order": null,
            "overflow": null,
            "overflow_x": null,
            "overflow_y": null,
            "padding": null,
            "right": null,
            "top": null,
            "visibility": null,
            "width": null
          }
        },
        "5b5b2d87a82247a0b0b13ec41556c7a9": {
          "model_module": "@jupyter-widgets/controls",
          "model_name": "DescriptionStyleModel",
          "model_module_version": "1.5.0",
          "state": {
            "_model_module": "@jupyter-widgets/controls",
            "_model_module_version": "1.5.0",
            "_model_name": "DescriptionStyleModel",
            "_view_count": null,
            "_view_module": "@jupyter-widgets/base",
            "_view_module_version": "1.2.0",
            "_view_name": "StyleView",
            "description_width": ""
          }
        },
        "901a94e943124d58a06ec69f6ac5bee5": {
          "model_module": "@jupyter-widgets/base",
          "model_name": "LayoutModel",
          "model_module_version": "1.2.0",
          "state": {
            "_model_module": "@jupyter-widgets/base",
            "_model_module_version": "1.2.0",
            "_model_name": "LayoutModel",
            "_view_count": null,
            "_view_module": "@jupyter-widgets/base",
            "_view_module_version": "1.2.0",
            "_view_name": "LayoutView",
            "align_content": null,
            "align_items": null,
            "align_self": null,
            "border": null,
            "bottom": null,
            "display": null,
            "flex": null,
            "flex_flow": null,
            "grid_area": null,
            "grid_auto_columns": null,
            "grid_auto_flow": null,
            "grid_auto_rows": null,
            "grid_column": null,
            "grid_gap": null,
            "grid_row": null,
            "grid_template_areas": null,
            "grid_template_columns": null,
            "grid_template_rows": null,
            "height": null,
            "justify_content": null,
            "justify_items": null,
            "left": null,
            "margin": null,
            "max_height": null,
            "max_width": null,
            "min_height": null,
            "min_width": null,
            "object_fit": null,
            "object_position": null,
            "order": null,
            "overflow": null,
            "overflow_x": null,
            "overflow_y": null,
            "padding": null,
            "right": null,
            "top": null,
            "visibility": null,
            "width": null
          }
        },
        "f15987e5062d434fa0ffc75ba1bc6e3a": {
          "model_module": "@jupyter-widgets/controls",
          "model_name": "ProgressStyleModel",
          "model_module_version": "1.5.0",
          "state": {
            "_model_module": "@jupyter-widgets/controls",
            "_model_module_version": "1.5.0",
            "_model_name": "ProgressStyleModel",
            "_view_count": null,
            "_view_module": "@jupyter-widgets/base",
            "_view_module_version": "1.2.0",
            "_view_name": "StyleView",
            "bar_color": null,
            "description_width": ""
          }
        },
        "0c3acf20240c49418150522ca3ba2b42": {
          "model_module": "@jupyter-widgets/base",
          "model_name": "LayoutModel",
          "model_module_version": "1.2.0",
          "state": {
            "_model_module": "@jupyter-widgets/base",
            "_model_module_version": "1.2.0",
            "_model_name": "LayoutModel",
            "_view_count": null,
            "_view_module": "@jupyter-widgets/base",
            "_view_module_version": "1.2.0",
            "_view_name": "LayoutView",
            "align_content": null,
            "align_items": null,
            "align_self": null,
            "border": null,
            "bottom": null,
            "display": null,
            "flex": null,
            "flex_flow": null,
            "grid_area": null,
            "grid_auto_columns": null,
            "grid_auto_flow": null,
            "grid_auto_rows": null,
            "grid_column": null,
            "grid_gap": null,
            "grid_row": null,
            "grid_template_areas": null,
            "grid_template_columns": null,
            "grid_template_rows": null,
            "height": null,
            "justify_content": null,
            "justify_items": null,
            "left": null,
            "margin": null,
            "max_height": null,
            "max_width": null,
            "min_height": null,
            "min_width": null,
            "object_fit": null,
            "object_position": null,
            "order": null,
            "overflow": null,
            "overflow_x": null,
            "overflow_y": null,
            "padding": null,
            "right": null,
            "top": null,
            "visibility": null,
            "width": null
          }
        },
        "3d5ef274642e4cc6aae03a2d9d5b33f7": {
          "model_module": "@jupyter-widgets/controls",
          "model_name": "DescriptionStyleModel",
          "model_module_version": "1.5.0",
          "state": {
            "_model_module": "@jupyter-widgets/controls",
            "_model_module_version": "1.5.0",
            "_model_name": "DescriptionStyleModel",
            "_view_count": null,
            "_view_module": "@jupyter-widgets/base",
            "_view_module_version": "1.2.0",
            "_view_name": "StyleView",
            "description_width": ""
          }
        }
      }
    }
  },
  "cells": [
    {
      "cell_type": "markdown",
      "metadata": {
        "id": "view-in-github",
        "colab_type": "text"
      },
      "source": [
        "<a href=\"https://colab.research.google.com/github/tthoraldson/Interpretability_Hackathon/blob/main/notebooks/Decision_Transformer_Hackathon.ipynb\" target=\"_parent\"><img src=\"https://colab.research.google.com/assets/colab-badge.svg\" alt=\"Open In Colab\"/></a>"
      ]
    },
    {
      "cell_type": "markdown",
      "source": [
        "# Setup"
      ],
      "metadata": {
        "id": "Y5t9Ech7_L89"
      }
    },
    {
      "cell_type": "code",
      "source": [
        "import plotly.io as pio\n",
        "\n",
        "# Thanks to annoying rendering issues, Plotly graphics will either show up in colab OR Vscode depending on the renderer - this is bad for developing demos! Thus creating a debug mode.\n",
        "pio.renderers.default = \"colab\""
      ],
      "metadata": {
        "id": "JtBXB6qA_Ucj"
      },
      "execution_count": 1,
      "outputs": []
    },
    {
      "cell_type": "code",
      "source": [
        "!pip install git+https://github.com/neelnanda-io/Easy-Transformer.git"
      ],
      "metadata": {
        "colab": {
          "base_uri": "https://localhost:8080/"
        },
        "id": "uFqtScMO_WZ4",
        "outputId": "12d347a0-7c41-40c6-c1c3-c9e40d563615"
      },
      "execution_count": 2,
      "outputs": [
        {
          "output_type": "stream",
          "name": "stdout",
          "text": [
            "Looking in indexes: https://pypi.org/simple, https://us-python.pkg.dev/colab-wheels/public/simple/\n",
            "Collecting git+https://github.com/neelnanda-io/Easy-Transformer.git\n",
            "  Cloning https://github.com/neelnanda-io/Easy-Transformer.git to /tmp/pip-req-build-ows22p1m\n",
            "  Running command git clone -q https://github.com/neelnanda-io/Easy-Transformer.git /tmp/pip-req-build-ows22p1m\n",
            "Collecting einops\n",
            "  Downloading einops-0.6.0-py3-none-any.whl (41 kB)\n",
            "\u001b[K     |████████████████████████████████| 41 kB 561 kB/s \n",
            "\u001b[?25hRequirement already satisfied: numpy in /usr/local/lib/python3.7/dist-packages (from easy-transformer==0.1.0) (1.21.6)\n",
            "Requirement already satisfied: torch in /usr/local/lib/python3.7/dist-packages (from easy-transformer==0.1.0) (1.12.1+cu113)\n",
            "Collecting datasets\n",
            "  Downloading datasets-2.6.1-py3-none-any.whl (441 kB)\n",
            "\u001b[K     |████████████████████████████████| 441 kB 26.5 MB/s \n",
            "\u001b[?25hCollecting transformers\n",
            "  Downloading transformers-4.24.0-py3-none-any.whl (5.5 MB)\n",
            "\u001b[K     |████████████████████████████████| 5.5 MB 55.5 MB/s \n",
            "\u001b[?25hRequirement already satisfied: tqdm in /usr/local/lib/python3.7/dist-packages (from easy-transformer==0.1.0) (4.64.1)\n",
            "Requirement already satisfied: pandas in /usr/local/lib/python3.7/dist-packages (from easy-transformer==0.1.0) (1.3.5)\n",
            "Collecting wandb\n",
            "  Downloading wandb-0.13.5-py2.py3-none-any.whl (1.9 MB)\n",
            "\u001b[K     |████████████████████████████████| 1.9 MB 42.2 MB/s \n",
            "\u001b[?25hCollecting fancy_einsum\n",
            "  Downloading fancy_einsum-0.0.3-py3-none-any.whl (6.2 kB)\n",
            "Collecting torchtyping\n",
            "  Downloading torchtyping-0.1.4-py3-none-any.whl (17 kB)\n",
            "Collecting rich\n",
            "  Downloading rich-12.6.0-py3-none-any.whl (237 kB)\n",
            "\u001b[K     |████████████████████████████████| 237 kB 66.5 MB/s \n",
            "\u001b[?25hCollecting xxhash\n",
            "  Downloading xxhash-3.1.0-cp37-cp37m-manylinux_2_17_x86_64.manylinux2014_x86_64.whl (212 kB)\n",
            "\u001b[K     |████████████████████████████████| 212 kB 68.2 MB/s \n",
            "\u001b[?25hRequirement already satisfied: importlib-metadata in /usr/local/lib/python3.7/dist-packages (from datasets->easy-transformer==0.1.0) (4.13.0)\n",
            "Collecting dill<0.3.6\n",
            "  Downloading dill-0.3.5.1-py2.py3-none-any.whl (95 kB)\n",
            "\u001b[K     |████████████████████████████████| 95 kB 5.6 MB/s \n",
            "\u001b[?25hCollecting huggingface-hub<1.0.0,>=0.2.0\n",
            "  Downloading huggingface_hub-0.10.1-py3-none-any.whl (163 kB)\n",
            "\u001b[K     |████████████████████████████████| 163 kB 66.7 MB/s \n",
            "\u001b[?25hCollecting responses<0.19\n",
            "  Downloading responses-0.18.0-py3-none-any.whl (38 kB)\n",
            "Requirement already satisfied: requests>=2.19.0 in /usr/local/lib/python3.7/dist-packages (from datasets->easy-transformer==0.1.0) (2.23.0)\n",
            "Requirement already satisfied: packaging in /usr/local/lib/python3.7/dist-packages (from datasets->easy-transformer==0.1.0) (21.3)\n",
            "Requirement already satisfied: fsspec[http]>=2021.11.1 in /usr/local/lib/python3.7/dist-packages (from datasets->easy-transformer==0.1.0) (2022.10.0)\n",
            "Requirement already satisfied: pyyaml>=5.1 in /usr/local/lib/python3.7/dist-packages (from datasets->easy-transformer==0.1.0) (6.0)\n",
            "Requirement already satisfied: pyarrow>=6.0.0 in /usr/local/lib/python3.7/dist-packages (from datasets->easy-transformer==0.1.0) (6.0.1)\n",
            "Collecting multiprocess\n",
            "  Downloading multiprocess-0.70.14-py37-none-any.whl (115 kB)\n",
            "\u001b[K     |████████████████████████████████| 115 kB 73.1 MB/s \n",
            "\u001b[?25hRequirement already satisfied: aiohttp in /usr/local/lib/python3.7/dist-packages (from datasets->easy-transformer==0.1.0) (3.8.3)\n",
            "Requirement already satisfied: charset-normalizer<3.0,>=2.0 in /usr/local/lib/python3.7/dist-packages (from aiohttp->datasets->easy-transformer==0.1.0) (2.1.1)\n",
            "Requirement already satisfied: aiosignal>=1.1.2 in /usr/local/lib/python3.7/dist-packages (from aiohttp->datasets->easy-transformer==0.1.0) (1.3.1)\n",
            "Requirement already satisfied: multidict<7.0,>=4.5 in /usr/local/lib/python3.7/dist-packages (from aiohttp->datasets->easy-transformer==0.1.0) (6.0.2)\n",
            "Requirement already satisfied: attrs>=17.3.0 in /usr/local/lib/python3.7/dist-packages (from aiohttp->datasets->easy-transformer==0.1.0) (22.1.0)\n",
            "Requirement already satisfied: typing-extensions>=3.7.4 in /usr/local/lib/python3.7/dist-packages (from aiohttp->datasets->easy-transformer==0.1.0) (4.1.1)\n",
            "Requirement already satisfied: yarl<2.0,>=1.0 in /usr/local/lib/python3.7/dist-packages (from aiohttp->datasets->easy-transformer==0.1.0) (1.8.1)\n",
            "Requirement already satisfied: frozenlist>=1.1.1 in /usr/local/lib/python3.7/dist-packages (from aiohttp->datasets->easy-transformer==0.1.0) (1.3.3)\n",
            "Requirement already satisfied: asynctest==0.13.0 in /usr/local/lib/python3.7/dist-packages (from aiohttp->datasets->easy-transformer==0.1.0) (0.13.0)\n",
            "Requirement already satisfied: async-timeout<5.0,>=4.0.0a3 in /usr/local/lib/python3.7/dist-packages (from aiohttp->datasets->easy-transformer==0.1.0) (4.0.2)\n",
            "Requirement already satisfied: filelock in /usr/local/lib/python3.7/dist-packages (from huggingface-hub<1.0.0,>=0.2.0->datasets->easy-transformer==0.1.0) (3.8.0)\n",
            "Requirement already satisfied: pyparsing!=3.0.5,>=2.0.2 in /usr/local/lib/python3.7/dist-packages (from packaging->datasets->easy-transformer==0.1.0) (3.0.9)\n",
            "Requirement already satisfied: urllib3!=1.25.0,!=1.25.1,<1.26,>=1.21.1 in /usr/local/lib/python3.7/dist-packages (from requests>=2.19.0->datasets->easy-transformer==0.1.0) (1.24.3)\n",
            "Requirement already satisfied: certifi>=2017.4.17 in /usr/local/lib/python3.7/dist-packages (from requests>=2.19.0->datasets->easy-transformer==0.1.0) (2022.9.24)\n",
            "Requirement already satisfied: chardet<4,>=3.0.2 in /usr/local/lib/python3.7/dist-packages (from requests>=2.19.0->datasets->easy-transformer==0.1.0) (3.0.4)\n",
            "Requirement already satisfied: idna<3,>=2.5 in /usr/local/lib/python3.7/dist-packages (from requests>=2.19.0->datasets->easy-transformer==0.1.0) (2.10)\n",
            "Collecting urllib3!=1.25.0,!=1.25.1,<1.26,>=1.21.1\n",
            "  Downloading urllib3-1.25.11-py2.py3-none-any.whl (127 kB)\n",
            "\u001b[K     |████████████████████████████████| 127 kB 63.9 MB/s \n",
            "\u001b[?25hRequirement already satisfied: zipp>=0.5 in /usr/local/lib/python3.7/dist-packages (from importlib-metadata->datasets->easy-transformer==0.1.0) (3.10.0)\n",
            "Collecting multiprocess\n",
            "  Downloading multiprocess-0.70.13-py37-none-any.whl (115 kB)\n",
            "\u001b[K     |████████████████████████████████| 115 kB 69.6 MB/s \n",
            "\u001b[?25hRequirement already satisfied: pytz>=2017.3 in /usr/local/lib/python3.7/dist-packages (from pandas->easy-transformer==0.1.0) (2022.6)\n",
            "Requirement already satisfied: python-dateutil>=2.7.3 in /usr/local/lib/python3.7/dist-packages (from pandas->easy-transformer==0.1.0) (2.8.2)\n",
            "Requirement already satisfied: six>=1.5 in /usr/local/lib/python3.7/dist-packages (from python-dateutil>=2.7.3->pandas->easy-transformer==0.1.0) (1.15.0)\n",
            "Requirement already satisfied: pygments<3.0.0,>=2.6.0 in /usr/local/lib/python3.7/dist-packages (from rich->easy-transformer==0.1.0) (2.6.1)\n",
            "Collecting commonmark<0.10.0,>=0.9.0\n",
            "  Downloading commonmark-0.9.1-py2.py3-none-any.whl (51 kB)\n",
            "\u001b[K     |████████████████████████████████| 51 kB 8.0 MB/s \n",
            "\u001b[?25hCollecting typeguard>=2.11.1\n",
            "  Downloading typeguard-2.13.3-py3-none-any.whl (17 kB)\n",
            "Collecting tokenizers!=0.11.3,<0.14,>=0.11.1\n",
            "  Downloading tokenizers-0.13.2-cp37-cp37m-manylinux_2_17_x86_64.manylinux2014_x86_64.whl (7.6 MB)\n",
            "\u001b[K     |████████████████████████████████| 7.6 MB 51.5 MB/s \n",
            "\u001b[?25hRequirement already satisfied: regex!=2019.12.17 in /usr/local/lib/python3.7/dist-packages (from transformers->easy-transformer==0.1.0) (2022.6.2)\n",
            "Collecting shortuuid>=0.5.0\n",
            "  Downloading shortuuid-1.0.10-py3-none-any.whl (10 kB)\n",
            "Collecting GitPython>=1.0.0\n",
            "  Downloading GitPython-3.1.29-py3-none-any.whl (182 kB)\n",
            "\u001b[K     |████████████████████████████████| 182 kB 58.1 MB/s \n",
            "\u001b[?25hRequirement already satisfied: Click!=8.0.0,>=7.0 in /usr/local/lib/python3.7/dist-packages (from wandb->easy-transformer==0.1.0) (7.1.2)\n",
            "Requirement already satisfied: psutil>=5.0.0 in /usr/local/lib/python3.7/dist-packages (from wandb->easy-transformer==0.1.0) (5.4.8)\n",
            "Collecting sentry-sdk>=1.0.0\n",
            "  Downloading sentry_sdk-1.10.1-py2.py3-none-any.whl (166 kB)\n",
            "\u001b[K     |████████████████████████████████| 166 kB 71.0 MB/s \n",
            "\u001b[?25hCollecting docker-pycreds>=0.4.0\n",
            "  Downloading docker_pycreds-0.4.0-py2.py3-none-any.whl (9.0 kB)\n",
            "Collecting setproctitle\n",
            "  Downloading setproctitle-1.3.2-cp37-cp37m-manylinux_2_5_x86_64.manylinux1_x86_64.manylinux_2_17_x86_64.manylinux2014_x86_64.whl (30 kB)\n",
            "Requirement already satisfied: promise<3,>=2.0 in /usr/local/lib/python3.7/dist-packages (from wandb->easy-transformer==0.1.0) (2.3)\n",
            "Requirement already satisfied: protobuf!=4.0.*,!=4.21.0,<5,>=3.12.0 in /usr/local/lib/python3.7/dist-packages (from wandb->easy-transformer==0.1.0) (3.19.6)\n",
            "Collecting pathtools\n",
            "  Downloading pathtools-0.1.2.tar.gz (11 kB)\n",
            "Requirement already satisfied: setuptools in /usr/local/lib/python3.7/dist-packages (from wandb->easy-transformer==0.1.0) (57.4.0)\n",
            "Collecting gitdb<5,>=4.0.1\n",
            "  Downloading gitdb-4.0.9-py3-none-any.whl (63 kB)\n",
            "\u001b[K     |████████████████████████████████| 63 kB 2.1 MB/s \n",
            "\u001b[?25hCollecting smmap<6,>=3.0.1\n",
            "  Downloading smmap-5.0.0-py3-none-any.whl (24 kB)\n",
            "Collecting sentry-sdk>=1.0.0\n",
            "  Downloading sentry_sdk-1.10.0-py2.py3-none-any.whl (166 kB)\n",
            "\u001b[K     |████████████████████████████████| 166 kB 65.9 MB/s \n",
            "\u001b[?25h  Downloading sentry_sdk-1.9.10-py2.py3-none-any.whl (162 kB)\n",
            "\u001b[K     |████████████████████████████████| 162 kB 53.9 MB/s \n",
            "\u001b[?25h  Downloading sentry_sdk-1.9.9-py2.py3-none-any.whl (162 kB)\n",
            "\u001b[K     |████████████████████████████████| 162 kB 64.9 MB/s \n",
            "\u001b[?25h  Downloading sentry_sdk-1.9.8-py2.py3-none-any.whl (158 kB)\n",
            "\u001b[K     |████████████████████████████████| 158 kB 68.5 MB/s \n",
            "\u001b[?25h  Downloading sentry_sdk-1.9.7-py2.py3-none-any.whl (157 kB)\n",
            "\u001b[K     |████████████████████████████████| 157 kB 64.8 MB/s \n",
            "\u001b[?25h  Downloading sentry_sdk-1.9.6-py2.py3-none-any.whl (157 kB)\n",
            "\u001b[K     |████████████████████████████████| 157 kB 60.4 MB/s \n",
            "\u001b[?25h  Downloading sentry_sdk-1.9.5-py2.py3-none-any.whl (157 kB)\n",
            "\u001b[K     |████████████████████████████████| 157 kB 66.4 MB/s \n",
            "\u001b[?25h  Downloading sentry_sdk-1.9.4-py2.py3-none-any.whl (157 kB)\n",
            "\u001b[K     |████████████████████████████████| 157 kB 67.6 MB/s \n",
            "\u001b[?25h  Downloading sentry_sdk-1.9.3-py2.py3-none-any.whl (157 kB)\n",
            "\u001b[K     |████████████████████████████████| 157 kB 69.2 MB/s \n",
            "\u001b[?25h  Downloading sentry_sdk-1.9.2-py2.py3-none-any.whl (157 kB)\n",
            "\u001b[K     |████████████████████████████████| 157 kB 64.4 MB/s \n",
            "\u001b[?25h  Downloading sentry_sdk-1.9.1-py2.py3-none-any.whl (157 kB)\n",
            "\u001b[K     |████████████████████████████████| 157 kB 66.0 MB/s \n",
            "\u001b[?25h  Downloading sentry_sdk-1.9.0-py2.py3-none-any.whl (156 kB)\n",
            "\u001b[K     |████████████████████████████████| 156 kB 70.4 MB/s \n",
            "\u001b[?25hBuilding wheels for collected packages: easy-transformer, pathtools\n",
            "  Building wheel for easy-transformer (setup.py) ... \u001b[?25l\u001b[?25hdone\n",
            "  Created wheel for easy-transformer: filename=easy_transformer-0.1.0-py3-none-any.whl size=65986 sha256=6774858a2813568225b616f85c5477046ef0515c1d797fc7d2e5881f19e62886\n",
            "  Stored in directory: /tmp/pip-ephem-wheel-cache-869rhlto/wheels/f1/57/6b/949ba612339a1768052407ee6e7cece28873e61febf41cdc1f\n",
            "  Building wheel for pathtools (setup.py) ... \u001b[?25l\u001b[?25hdone\n",
            "  Created wheel for pathtools: filename=pathtools-0.1.2-py3-none-any.whl size=8806 sha256=d6da66f1502fa13b0077a287ff9d2859dda7d83a95d3eed0661c7aad269c5964\n",
            "  Stored in directory: /root/.cache/pip/wheels/3e/31/09/fa59cef12cdcfecc627b3d24273699f390e71828921b2cbba2\n",
            "Successfully built easy-transformer pathtools\n",
            "Installing collected packages: urllib3, smmap, gitdb, dill, xxhash, typeguard, tokenizers, shortuuid, setproctitle, sentry-sdk, responses, pathtools, multiprocess, huggingface-hub, GitPython, docker-pycreds, commonmark, wandb, transformers, torchtyping, rich, fancy-einsum, einops, datasets, easy-transformer\n",
            "  Attempting uninstall: urllib3\n",
            "    Found existing installation: urllib3 1.24.3\n",
            "    Uninstalling urllib3-1.24.3:\n",
            "      Successfully uninstalled urllib3-1.24.3\n",
            "  Attempting uninstall: dill\n",
            "    Found existing installation: dill 0.3.6\n",
            "    Uninstalling dill-0.3.6:\n",
            "      Successfully uninstalled dill-0.3.6\n",
            "  Attempting uninstall: typeguard\n",
            "    Found existing installation: typeguard 2.7.1\n",
            "    Uninstalling typeguard-2.7.1:\n",
            "      Successfully uninstalled typeguard-2.7.1\n",
            "Successfully installed GitPython-3.1.29 commonmark-0.9.1 datasets-2.6.1 dill-0.3.5.1 docker-pycreds-0.4.0 easy-transformer-0.1.0 einops-0.6.0 fancy-einsum-0.0.3 gitdb-4.0.9 huggingface-hub-0.10.1 multiprocess-0.70.13 pathtools-0.1.2 responses-0.18.0 rich-12.6.0 sentry-sdk-1.9.0 setproctitle-1.3.2 shortuuid-1.0.10 smmap-5.0.0 tokenizers-0.13.2 torchtyping-0.1.4 transformers-4.24.0 typeguard-2.13.3 urllib3-1.25.11 wandb-0.13.5 xxhash-3.1.0\n"
          ]
        }
      ]
    },
    {
      "cell_type": "code",
      "source": [
        "# Import stuff\n",
        "import torch\n",
        "import torch.nn as nn\n",
        "import torch.nn.functional as F\n",
        "import torch.optim as optim\n",
        "import numpy as np\n",
        "import einops\n",
        "import tqdm.notebook as tqdm\n",
        "\n",
        "import random\n",
        "import time\n",
        "\n",
        "# from google.colab import drive\n",
        "from pathlib import Path\n",
        "import pickle\n",
        "import os\n",
        "\n",
        "\n",
        "import matplotlib.pyplot as plt\n",
        "\n",
        "%matplotlib inline\n",
        "import plotly.express as px\n",
        "import plotly.graph_objects as go\n",
        "\n",
        "from torch.utils.data import DataLoader\n",
        "\n",
        "from functools import *\n",
        "import pandas as pd\n",
        "import gc\n",
        "import collections\n",
        "import copy\n",
        "\n",
        "# import comet_ml\n",
        "import itertools\n",
        "from transformers import AutoModelForCausalLM, AutoConfig, AutoTokenizer\n",
        "import dataclasses\n",
        "import datasets\n",
        "\n",
        "import gym"
      ],
      "metadata": {
        "id": "Dh1PHd9W_YL3"
      },
      "execution_count": 3,
      "outputs": []
    },
    {
      "cell_type": "code",
      "source": [
        "from easy_transformer.utils import (\n",
        "  gelu_new,\n",
        "  to_numpy,\n",
        "  get_corner,\n",
        "  lm_cross_entropy_loss,\n",
        ")  # Helper functions\n",
        "from easy_transformer.hook_points import (\n",
        "  HookedRootModule,\n",
        "  HookPoint,\n",
        ")  # Hooking utilities\n",
        "from easy_transformer import EasyTransformer, EasyTransformerConfig\n",
        "import easy_transformer\n",
        "from easy_transformer.experiments import (\n",
        "  ExperimentMetric,\n",
        "  AblationConfig,\n",
        "  EasyAblation,\n",
        "  EasyPatching,\n",
        "  PatchingConfig,\n",
        ")"
      ],
      "metadata": {
        "id": "uzhRftfG_gBH"
      },
      "execution_count": 4,
      "outputs": []
    },
    {
      "cell_type": "code",
      "source": [
        "device = \"cuda\" if torch.cuda.is_available() else \"cpu\""
      ],
      "metadata": {
        "id": "eaoWCKiM_iMM"
      },
      "execution_count": 5,
      "outputs": []
    },
    {
      "cell_type": "code",
      "source": [
        "print(device)"
      ],
      "metadata": {
        "colab": {
          "base_uri": "https://localhost:8080/"
        },
        "id": "n8ernw_4_luB",
        "outputId": "502f4da3-67ab-465b-f132-22ebad72aa01"
      },
      "execution_count": 6,
      "outputs": [
        {
          "output_type": "stream",
          "name": "stdout",
          "text": [
            "cuda\n"
          ]
        }
      ]
    },
    {
      "cell_type": "markdown",
      "source": [
        "Some plotting code. Wrappers around Plotly, not important to understand."
      ],
      "metadata": {
        "id": "jpzvi3MbEnXX"
      }
    },
    {
      "cell_type": "code",
      "source": [
        "def imshow(tensor, yaxis=\"\", xaxis=\"\", **kwargs):\n",
        "  tensor = to_numpy(tensor)\n",
        "  plot_kwargs = {\"color_continuous_scale\":\"RdBu\", \"color_continuous_midpoint\":0.0, \"labels\":{\"x\":xaxis, \"y\":yaxis}}\n",
        "  plot_kwargs.update(kwargs)\n",
        "  px.imshow(tensor, **plot_kwargs).show()"
      ],
      "metadata": {
        "id": "CXUKsPBWElVR"
      },
      "execution_count": 7,
      "outputs": []
    },
    {
      "cell_type": "code",
      "source": [
        "def gymEnvSample(env, batch_size=5, sequence_size=10):\n",
        "  batch = []\n",
        "\n",
        "  for i in range(batch_size):\n",
        "    env.reset()\n",
        "\n",
        "    steps = []\n",
        "    for j in range(sequence_size):\n",
        "      action = env.action_space.sample()\n",
        "      obs, reward, done, info = env.step(action)\n",
        "      steps.append([reward, obs, action])\n",
        "\n",
        "    batch.append(steps)\n",
        "\n",
        "  tensor = torch.as_tensor(batch)\n",
        "  return tensor.flatten(start_dim=1)"
      ],
      "metadata": {
        "id": "FGNmkJqq3jKa"
      },
      "execution_count": 131,
      "outputs": []
    },
    {
      "cell_type": "markdown",
      "source": [
        "# Multi-armed bandits environment"
      ],
      "metadata": {
        "id": "LY377QW0-JsE"
      }
    },
    {
      "cell_type": "code",
      "source": [
        "class MultiarmedBanditsEnv(gym.Env):\n",
        "  \"\"\"Environment for multiarmed bandits\"\"\"\n",
        "  metadata = {'render.modes': ['human']}\n",
        "\n",
        "  def __init__(self, nr_arms=10):\n",
        "    super(MultiarmedBanditsEnv, self).__init__()\n",
        "    self.action_space = gym.spaces.Discrete(nr_arms)\n",
        "    self.observation_space = gym.spaces.Discrete(1)\n",
        "    self.state = 0\n",
        "    self.reset()\n",
        "\n",
        "  def step(self, action):\n",
        "    assert self.action_space.contains(action)\n",
        "    reward = self.values[action]\n",
        "\n",
        "    return self.state, reward, False, {self.optimal}\n",
        "\n",
        "  def reset(self):\n",
        "    self.values = list(range(self.action_space.n))\n",
        "    np.random.shuffle(self.values)\n",
        "    self.optimal = np.argmax(self.values)\n",
        "    return self.state\n",
        "\n",
        "  def render(self, mode='human', close=False):\n",
        "    print(\"You are playing a %d-armed bandit\" % self.action_space.n)"
      ],
      "metadata": {
        "id": "AFTGhWik2PeF"
      },
      "execution_count": 43,
      "outputs": []
    },
    {
      "cell_type": "code",
      "source": [
        "gymEnvSample(MultiarmedBanditsEnv())"
      ],
      "metadata": {
        "id": "vPy2ujI4SZKb"
      },
      "execution_count": null,
      "outputs": []
    },
    {
      "cell_type": "markdown",
      "source": [
        "# Treasure hunt environment"
      ],
      "metadata": {
        "id": "dSpvbtBhRxQE"
      }
    },
    {
      "cell_type": "code",
      "source": [
        "class TreasureHuntEnv(gym.Env):\n",
        "  \"\"\"Environment for treasure hunt\"\"\"\n",
        "  metadata = {'render.modes': ['human']}\n",
        "\n",
        "  def __init__(self, nr_chests=10):\n",
        "    super(TreasureHuntEnv, self).__init__()\n",
        "    self.action_space = gym.spaces.Discrete(nr_chests)\n",
        "    self.observation_space = gym.spaces.Discrete(1)\n",
        "    self.state = 0\n",
        "    self.reset()\n",
        "\n",
        "  def step(self, action):\n",
        "    assert self.action_space.contains(action)\n",
        "    reward = self.values[action]\n",
        "\n",
        "    return self.state, reward, False, {self.optimal}\n",
        "\n",
        "  def reset(self):\n",
        "    self.values = np.zeros(self.action_space.n, dtype=np.int32)\n",
        "    self.values[np.random.randint(0, self.action_space.n)] = 1\n",
        "    self.optimal = np.argmax(self.values)\n",
        "    return self.state\n",
        "\n",
        "  def render(self, mode='human', close=False):\n",
        "    print(\"You are playing treasure hunt\")"
      ],
      "metadata": {
        "id": "p_P7DnVAQHj4"
      },
      "execution_count": 142,
      "outputs": []
    },
    {
      "cell_type": "code",
      "source": [
        "gymEnvSample(TreasureHuntEnv())"
      ],
      "metadata": {
        "colab": {
          "base_uri": "https://localhost:8080/"
        },
        "id": "didX_FkwSAHq",
        "outputId": "94f3f0fe-2e86-4734-fac5-b6c7b057ab24"
      },
      "execution_count": 143,
      "outputs": [
        {
          "output_type": "execute_result",
          "data": {
            "text/plain": [
              "tensor([[0, 0, 7, 0, 0, 9, 0, 0, 1, 0, 0, 3, 0, 0, 0, 0, 0, 2, 0, 0, 3, 0, 0, 8,\n",
              "         0, 0, 6, 0, 0, 9],\n",
              "        [0, 0, 4, 0, 0, 3, 0, 0, 3, 0, 0, 7, 0, 0, 6, 0, 0, 7, 0, 0, 2, 0, 0, 8,\n",
              "         0, 0, 8, 0, 0, 4],\n",
              "        [1, 0, 1, 0, 0, 3, 0, 0, 9, 0, 0, 8, 1, 0, 1, 0, 0, 0, 0, 0, 3, 0, 0, 2,\n",
              "         0, 0, 3, 0, 0, 4],\n",
              "        [0, 0, 3, 0, 0, 6, 0, 0, 2, 1, 0, 4, 1, 0, 4, 0, 0, 9, 0, 0, 0, 0, 0, 0,\n",
              "         0, 0, 7, 0, 0, 6],\n",
              "        [0, 0, 3, 0, 0, 2, 0, 0, 4, 0, 0, 4, 0, 0, 8, 0, 0, 7, 0, 0, 1, 1, 0, 6,\n",
              "         0, 0, 5, 0, 0, 4]])"
            ]
          },
          "metadata": {},
          "execution_count": 143
        }
      ]
    },
    {
      "cell_type": "markdown",
      "source": [
        "# Training the model"
      ],
      "metadata": {
        "id": "ZfqxGH6KAbxS"
      }
    },
    {
      "cell_type": "code",
      "source": [
        "tiny_cfg = EasyTransformerConfig(\n",
        "  d_model=32,\n",
        "  d_head=16,\n",
        "  n_heads=2,\n",
        "  d_mlp=128,\n",
        "  n_layers=1,\n",
        "  n_ctx=60,\n",
        "  act_fn=\"solu_ln\",\n",
        "  d_vocab=150,\n",
        "  normalization_type=\"LN\",\n",
        "  seed=23,  # Now we're training a custom model, it's good to set the seed to get reproducible results. It defaults to 42.\n",
        ")\n",
        "\n",
        "tiny_model = EasyTransformer(tiny_cfg).to(device)\n",
        "tiny_optimizer = torch.optim.Adam(tiny_model.parameters(), lr=1e-3)\n",
        "batch_size = 20\n",
        "num_epochs = 301\n",
        "env = TreasureHuntEnv()\n",
        "\n",
        "assert tiny_model.cfg.n_ctx % 3 == 0, \"n_ctx must be divisible by 3\""
      ],
      "metadata": {
        "colab": {
          "base_uri": "https://localhost:8080/"
        },
        "id": "TqeO2a8GAe6c",
        "outputId": "449245db-6bc7-4fa1-80d0-5a14eb1462d7"
      },
      "execution_count": 157,
      "outputs": [
        {
          "output_type": "stream",
          "name": "stdout",
          "text": [
            "Moving model to device:  cuda\n",
            "Moving model to device:  cuda\n"
          ]
        }
      ]
    },
    {
      "cell_type": "code",
      "source": [
        "losses = []\n",
        "\n",
        "# TODO maybe use a learning rate scheduler\n",
        "for epoch in tqdm.tqdm(range(num_epochs)):\n",
        "  batch = gymEnvSample(env, batch_size=batch_size, sequence_size=int(tiny_model.cfg.n_ctx / 3))\n",
        "  loss = tiny_model(batch, return_type=\"loss\")\n",
        "  loss.backward()\n",
        "  tiny_optimizer.step()\n",
        "  tiny_optimizer.zero_grad()\n",
        "  losses.append(loss.item())\n",
        "  if epoch % 100 == 0:\n",
        "    print(f\"Epoch: {epoch}. Loss: {loss}\")\n",
        "\n",
        "px.line(losses, labels={\"x\": \"Epoch\", \"y\": \"Loss\"})"
      ],
      "metadata": {
        "colab": {
          "base_uri": "https://localhost:8080/",
          "height": 643,
          "referenced_widgets": [
            "858037391a754e608d48a147b591b3a2",
            "5d7d5e5048044edebee77bb31cd17013",
            "f0215e39710d45019122d7971d3c3e7b",
            "e7f82fa98e36435f985570ef57789ae5",
            "a30fc136750145e1b23c5ab5e93dea23",
            "470b35f915bb4fd0bf8ef3dd2b3a8044",
            "5b5b2d87a82247a0b0b13ec41556c7a9",
            "901a94e943124d58a06ec69f6ac5bee5",
            "f15987e5062d434fa0ffc75ba1bc6e3a",
            "0c3acf20240c49418150522ca3ba2b42",
            "3d5ef274642e4cc6aae03a2d9d5b33f7"
          ]
        },
        "id": "M7qbYfIKAhKH",
        "outputId": "de29be5e-98e4-4456-cce1-e25b3c6b7b41"
      },
      "execution_count": 158,
      "outputs": [
        {
          "output_type": "display_data",
          "data": {
            "text/plain": [
              "  0%|          | 0/301 [00:00<?, ?it/s]"
            ],
            "application/vnd.jupyter.widget-view+json": {
              "version_major": 2,
              "version_minor": 0,
              "model_id": "858037391a754e608d48a147b591b3a2"
            }
          },
          "metadata": {}
        },
        {
          "output_type": "stream",
          "name": "stdout",
          "text": [
            "Epoch: 0. Loss: 5.4372639656066895\n",
            "Epoch: 100. Loss: 1.1288789510726929\n",
            "Epoch: 200. Loss: 0.9185519814491272\n",
            "Epoch: 300. Loss: 0.9038007259368896\n"
          ]
        },
        {
          "output_type": "display_data",
          "data": {
            "text/html": [
              "<html>\n",
              "<head><meta charset=\"utf-8\" /></head>\n",
              "<body>\n",
              "    <div>            <script src=\"https://cdnjs.cloudflare.com/ajax/libs/mathjax/2.7.5/MathJax.js?config=TeX-AMS-MML_SVG\"></script><script type=\"text/javascript\">if (window.MathJax) {MathJax.Hub.Config({SVG: {font: \"STIX-Web\"}});}</script>                <script type=\"text/javascript\">window.PlotlyConfig = {MathJaxConfig: 'local'};</script>\n",
              "        <script src=\"https://cdn.plot.ly/plotly-2.8.3.min.js\"></script>                <div id=\"1aa72102-b08c-4940-bfb3-307648458cf4\" class=\"plotly-graph-div\" style=\"height:525px; width:100%;\"></div>            <script type=\"text/javascript\">                                    window.PLOTLYENV=window.PLOTLYENV || {};                                    if (document.getElementById(\"1aa72102-b08c-4940-bfb3-307648458cf4\")) {                    Plotly.newPlot(                        \"1aa72102-b08c-4940-bfb3-307648458cf4\",                        [{\"hovertemplate\":\"variable=0<br>index=%{x}<br>value=%{y}<extra></extra>\",\"legendgroup\":\"0\",\"line\":{\"color\":\"#636efa\",\"dash\":\"solid\"},\"marker\":{\"symbol\":\"circle\"},\"mode\":\"lines\",\"name\":\"0\",\"orientation\":\"v\",\"showlegend\":true,\"x\":[0,1,2,3,4,5,6,7,8,9,10,11,12,13,14,15,16,17,18,19,20,21,22,23,24,25,26,27,28,29,30,31,32,33,34,35,36,37,38,39,40,41,42,43,44,45,46,47,48,49,50,51,52,53,54,55,56,57,58,59,60,61,62,63,64,65,66,67,68,69,70,71,72,73,74,75,76,77,78,79,80,81,82,83,84,85,86,87,88,89,90,91,92,93,94,95,96,97,98,99,100,101,102,103,104,105,106,107,108,109,110,111,112,113,114,115,116,117,118,119,120,121,122,123,124,125,126,127,128,129,130,131,132,133,134,135,136,137,138,139,140,141,142,143,144,145,146,147,148,149,150,151,152,153,154,155,156,157,158,159,160,161,162,163,164,165,166,167,168,169,170,171,172,173,174,175,176,177,178,179,180,181,182,183,184,185,186,187,188,189,190,191,192,193,194,195,196,197,198,199,200,201,202,203,204,205,206,207,208,209,210,211,212,213,214,215,216,217,218,219,220,221,222,223,224,225,226,227,228,229,230,231,232,233,234,235,236,237,238,239,240,241,242,243,244,245,246,247,248,249,250,251,252,253,254,255,256,257,258,259,260,261,262,263,264,265,266,267,268,269,270,271,272,273,274,275,276,277,278,279,280,281,282,283,284,285,286,287,288,289,290,291,292,293,294,295,296,297,298,299,300],\"xaxis\":\"x\",\"y\":[5.4372639656066895,5.044002532958984,4.669125080108643,4.324945449829102,4.013233184814453,3.7839720249176025,3.5965347290039062,3.435713529586792,3.291234254837036,3.1092302799224854,3.0694079399108887,2.942610025405884,2.8312582969665527,2.7913734912872314,2.722637891769409,2.61623477935791,2.5411715507507324,2.4485819339752197,2.4646646976470947,2.373645782470703,2.2873458862304688,2.2924365997314453,2.2704145908355713,2.2152059078216553,2.1742823123931885,2.1703476905822754,2.0751030445098877,2.065416097640991,2.0130960941314697,2.0246212482452393,1.9601390361785889,1.9409767389297485,1.9199798107147217,1.88400399684906,1.8611886501312256,1.8085076808929443,1.8230191469192505,1.812780737876892,1.7906105518341064,1.7529106140136719,1.7275311946868896,1.7353885173797607,1.7018413543701172,1.6609625816345215,1.6667615175247192,1.6674591302871704,1.647220253944397,1.674393653869629,1.6203563213348389,1.604810118675232,1.6268799304962158,1.5759880542755127,1.5970031023025513,1.6252466440200806,1.5681235790252686,1.5609604120254517,1.5846428871154785,1.5640532970428467,1.5357412099838257,1.5498452186584473,1.5043214559555054,1.575574278831482,1.5049588680267334,1.5009167194366455,1.5202504396438599,1.505886435508728,1.475536584854126,1.4912137985229492,1.4647839069366455,1.4734283685684204,1.458454966545105,1.4256625175476074,1.4295847415924072,1.420893669128418,1.4165877103805542,1.425295352935791,1.4383164644241333,1.3869997262954712,1.397179365158081,1.4293519258499146,1.3809601068496704,1.3550761938095093,1.3741610050201416,1.332355260848999,1.3535021543502808,1.3070094585418701,1.3217180967330933,1.2964708805084229,1.3274275064468384,1.2826646566390991,1.24935781955719,1.2588788270950317,1.2418614625930786,1.2261472940444946,1.2304093837738037,1.2051862478256226,1.2034661769866943,1.1811617612838745,1.1914408206939697,1.1865829229354858,1.1288789510726929,1.1467055082321167,1.1662088632583618,1.1273576021194458,1.0880076885223389,1.0920813083648682,1.1081827878952026,1.0970090627670288,1.0878225564956665,1.1062915325164795,1.069854974746704,1.0950751304626465,1.089774250984192,1.0697002410888672,1.0594571828842163,1.06602144241333,1.0497714281082153,1.059860110282898,1.0378224849700928,1.0338722467422485,1.0341707468032837,1.0315786600112915,1.0543726682662964,1.030166745185852,1.0010323524475098,1.009313941001892,1.012089490890503,1.0122572183609009,1.0026360750198364,0.9929667711257935,0.9876721501350403,0.9931187629699707,0.9971776604652405,0.9835947751998901,0.9772951006889343,0.9411736726760864,0.964981734752655,0.980201244354248,0.9916383028030396,0.9466875195503235,0.964375913143158,0.9704166650772095,0.9645003080368042,0.9748165607452393,0.970219612121582,0.9959266781806946,0.9636052250862122,0.9946731925010681,0.9828569889068604,0.977332353591919,0.9694435000419617,0.9474304914474487,0.951324462890625,0.9378448128700256,0.987027645111084,0.952192485332489,0.9492485523223877,0.946152925491333,0.9497271776199341,0.9288247227668762,0.957139253616333,0.9775198101997375,0.9376944899559021,0.9777036309242249,0.9655411839485168,0.9395298957824707,0.9634918570518494,0.9639033675193787,0.9416679739952087,0.9464982151985168,0.9406821131706238,0.9249782562255859,0.9560844898223877,0.9122057557106018,0.9236754179000854,0.9331042170524597,0.9273101091384888,0.9090207815170288,0.9380598664283752,0.9575710296630859,0.951152503490448,0.9540754556655884,0.9171978235244751,0.93418288230896,0.9389854073524475,0.9340136647224426,0.9402037262916565,0.9559288024902344,0.9147379994392395,0.9248653054237366,0.9170910716056824,0.9096709489822388,0.943260669708252,0.9148958921432495,0.9393348693847656,0.9147814512252808,0.9391306638717651,0.9298416376113892,0.9259687066078186,0.9224337935447693,0.9185519814491272,0.9489280581474304,0.9212082624435425,0.936824381351471,0.9321346879005432,0.9385641813278198,0.9377274513244629,0.9313375949859619,0.9202529191970825,0.9234873652458191,0.9153874516487122,0.9083992838859558,0.9207084774971008,0.9229217171669006,0.9219703674316406,0.8984206318855286,0.9292384386062622,0.9257891178131104,0.9085553884506226,0.9197220206260681,0.9423456788063049,0.9148725271224976,0.9130308032035828,0.9343226552009583,0.9304840564727783,0.9366897940635681,0.9220512509346008,0.9162968993186951,0.9398269653320312,0.9069738388061523,0.910336434841156,0.9280515313148499,0.911494255065918,0.9190850853919983,0.9114549160003662,0.9153026342391968,0.884364664554596,0.8812620043754578,0.9123572111129761,0.9004214406013489,0.9077048897743225,0.9243306517601013,0.8988264799118042,0.9443905353546143,0.8873569965362549,0.9221682548522949,0.8996114134788513,0.9070360064506531,0.9307090640068054,0.9333084225654602,0.9161993265151978,0.8869873881340027,0.8941648006439209,0.9170366525650024,0.9023693799972534,0.9130083322525024,0.9212099313735962,0.9239915609359741,0.9121631383895874,0.9234000444412231,0.9418181777000427,0.904470682144165,0.9150707125663757,0.9011453986167908,0.9121673107147217,0.9336687326431274,0.9256327152252197,0.9212532639503479,0.9014884233474731,0.9210259914398193,0.9198389053344727,0.9080314040184021,0.9040866494178772,0.9112592339515686,0.8998700380325317,0.9161147475242615,0.9138767123222351,0.914989173412323,0.9093502759933472,0.9155430793762207,0.8840388059616089,0.9122511148452759,0.906745433807373,0.8976756930351257,0.9024734497070312,0.927306056022644,0.9070043563842773,0.9209114909172058,0.9026058912277222,0.9007133841514587,0.9250069260597229,0.90859055519104,0.8987411260604858,0.9124242663383484,0.9305328726768494,0.9006384611129761,0.9009731411933899,0.9217177629470825,0.9064950346946716,0.9020259380340576,0.9038007259368896],\"yaxis\":\"y\",\"type\":\"scatter\"}],                        {\"template\":{\"data\":{\"bar\":[{\"error_x\":{\"color\":\"#2a3f5f\"},\"error_y\":{\"color\":\"#2a3f5f\"},\"marker\":{\"line\":{\"color\":\"#E5ECF6\",\"width\":0.5},\"pattern\":{\"fillmode\":\"overlay\",\"size\":10,\"solidity\":0.2}},\"type\":\"bar\"}],\"barpolar\":[{\"marker\":{\"line\":{\"color\":\"#E5ECF6\",\"width\":0.5},\"pattern\":{\"fillmode\":\"overlay\",\"size\":10,\"solidity\":0.2}},\"type\":\"barpolar\"}],\"carpet\":[{\"aaxis\":{\"endlinecolor\":\"#2a3f5f\",\"gridcolor\":\"white\",\"linecolor\":\"white\",\"minorgridcolor\":\"white\",\"startlinecolor\":\"#2a3f5f\"},\"baxis\":{\"endlinecolor\":\"#2a3f5f\",\"gridcolor\":\"white\",\"linecolor\":\"white\",\"minorgridcolor\":\"white\",\"startlinecolor\":\"#2a3f5f\"},\"type\":\"carpet\"}],\"choropleth\":[{\"colorbar\":{\"outlinewidth\":0,\"ticks\":\"\"},\"type\":\"choropleth\"}],\"contour\":[{\"colorbar\":{\"outlinewidth\":0,\"ticks\":\"\"},\"colorscale\":[[0.0,\"#0d0887\"],[0.1111111111111111,\"#46039f\"],[0.2222222222222222,\"#7201a8\"],[0.3333333333333333,\"#9c179e\"],[0.4444444444444444,\"#bd3786\"],[0.5555555555555556,\"#d8576b\"],[0.6666666666666666,\"#ed7953\"],[0.7777777777777778,\"#fb9f3a\"],[0.8888888888888888,\"#fdca26\"],[1.0,\"#f0f921\"]],\"type\":\"contour\"}],\"contourcarpet\":[{\"colorbar\":{\"outlinewidth\":0,\"ticks\":\"\"},\"type\":\"contourcarpet\"}],\"heatmap\":[{\"colorbar\":{\"outlinewidth\":0,\"ticks\":\"\"},\"colorscale\":[[0.0,\"#0d0887\"],[0.1111111111111111,\"#46039f\"],[0.2222222222222222,\"#7201a8\"],[0.3333333333333333,\"#9c179e\"],[0.4444444444444444,\"#bd3786\"],[0.5555555555555556,\"#d8576b\"],[0.6666666666666666,\"#ed7953\"],[0.7777777777777778,\"#fb9f3a\"],[0.8888888888888888,\"#fdca26\"],[1.0,\"#f0f921\"]],\"type\":\"heatmap\"}],\"heatmapgl\":[{\"colorbar\":{\"outlinewidth\":0,\"ticks\":\"\"},\"colorscale\":[[0.0,\"#0d0887\"],[0.1111111111111111,\"#46039f\"],[0.2222222222222222,\"#7201a8\"],[0.3333333333333333,\"#9c179e\"],[0.4444444444444444,\"#bd3786\"],[0.5555555555555556,\"#d8576b\"],[0.6666666666666666,\"#ed7953\"],[0.7777777777777778,\"#fb9f3a\"],[0.8888888888888888,\"#fdca26\"],[1.0,\"#f0f921\"]],\"type\":\"heatmapgl\"}],\"histogram\":[{\"marker\":{\"pattern\":{\"fillmode\":\"overlay\",\"size\":10,\"solidity\":0.2}},\"type\":\"histogram\"}],\"histogram2d\":[{\"colorbar\":{\"outlinewidth\":0,\"ticks\":\"\"},\"colorscale\":[[0.0,\"#0d0887\"],[0.1111111111111111,\"#46039f\"],[0.2222222222222222,\"#7201a8\"],[0.3333333333333333,\"#9c179e\"],[0.4444444444444444,\"#bd3786\"],[0.5555555555555556,\"#d8576b\"],[0.6666666666666666,\"#ed7953\"],[0.7777777777777778,\"#fb9f3a\"],[0.8888888888888888,\"#fdca26\"],[1.0,\"#f0f921\"]],\"type\":\"histogram2d\"}],\"histogram2dcontour\":[{\"colorbar\":{\"outlinewidth\":0,\"ticks\":\"\"},\"colorscale\":[[0.0,\"#0d0887\"],[0.1111111111111111,\"#46039f\"],[0.2222222222222222,\"#7201a8\"],[0.3333333333333333,\"#9c179e\"],[0.4444444444444444,\"#bd3786\"],[0.5555555555555556,\"#d8576b\"],[0.6666666666666666,\"#ed7953\"],[0.7777777777777778,\"#fb9f3a\"],[0.8888888888888888,\"#fdca26\"],[1.0,\"#f0f921\"]],\"type\":\"histogram2dcontour\"}],\"mesh3d\":[{\"colorbar\":{\"outlinewidth\":0,\"ticks\":\"\"},\"type\":\"mesh3d\"}],\"parcoords\":[{\"line\":{\"colorbar\":{\"outlinewidth\":0,\"ticks\":\"\"}},\"type\":\"parcoords\"}],\"pie\":[{\"automargin\":true,\"type\":\"pie\"}],\"scatter\":[{\"marker\":{\"colorbar\":{\"outlinewidth\":0,\"ticks\":\"\"}},\"type\":\"scatter\"}],\"scatter3d\":[{\"line\":{\"colorbar\":{\"outlinewidth\":0,\"ticks\":\"\"}},\"marker\":{\"colorbar\":{\"outlinewidth\":0,\"ticks\":\"\"}},\"type\":\"scatter3d\"}],\"scattercarpet\":[{\"marker\":{\"colorbar\":{\"outlinewidth\":0,\"ticks\":\"\"}},\"type\":\"scattercarpet\"}],\"scattergeo\":[{\"marker\":{\"colorbar\":{\"outlinewidth\":0,\"ticks\":\"\"}},\"type\":\"scattergeo\"}],\"scattergl\":[{\"marker\":{\"colorbar\":{\"outlinewidth\":0,\"ticks\":\"\"}},\"type\":\"scattergl\"}],\"scattermapbox\":[{\"marker\":{\"colorbar\":{\"outlinewidth\":0,\"ticks\":\"\"}},\"type\":\"scattermapbox\"}],\"scatterpolar\":[{\"marker\":{\"colorbar\":{\"outlinewidth\":0,\"ticks\":\"\"}},\"type\":\"scatterpolar\"}],\"scatterpolargl\":[{\"marker\":{\"colorbar\":{\"outlinewidth\":0,\"ticks\":\"\"}},\"type\":\"scatterpolargl\"}],\"scatterternary\":[{\"marker\":{\"colorbar\":{\"outlinewidth\":0,\"ticks\":\"\"}},\"type\":\"scatterternary\"}],\"surface\":[{\"colorbar\":{\"outlinewidth\":0,\"ticks\":\"\"},\"colorscale\":[[0.0,\"#0d0887\"],[0.1111111111111111,\"#46039f\"],[0.2222222222222222,\"#7201a8\"],[0.3333333333333333,\"#9c179e\"],[0.4444444444444444,\"#bd3786\"],[0.5555555555555556,\"#d8576b\"],[0.6666666666666666,\"#ed7953\"],[0.7777777777777778,\"#fb9f3a\"],[0.8888888888888888,\"#fdca26\"],[1.0,\"#f0f921\"]],\"type\":\"surface\"}],\"table\":[{\"cells\":{\"fill\":{\"color\":\"#EBF0F8\"},\"line\":{\"color\":\"white\"}},\"header\":{\"fill\":{\"color\":\"#C8D4E3\"},\"line\":{\"color\":\"white\"}},\"type\":\"table\"}]},\"layout\":{\"annotationdefaults\":{\"arrowcolor\":\"#2a3f5f\",\"arrowhead\":0,\"arrowwidth\":1},\"autotypenumbers\":\"strict\",\"coloraxis\":{\"colorbar\":{\"outlinewidth\":0,\"ticks\":\"\"}},\"colorscale\":{\"diverging\":[[0,\"#8e0152\"],[0.1,\"#c51b7d\"],[0.2,\"#de77ae\"],[0.3,\"#f1b6da\"],[0.4,\"#fde0ef\"],[0.5,\"#f7f7f7\"],[0.6,\"#e6f5d0\"],[0.7,\"#b8e186\"],[0.8,\"#7fbc41\"],[0.9,\"#4d9221\"],[1,\"#276419\"]],\"sequential\":[[0.0,\"#0d0887\"],[0.1111111111111111,\"#46039f\"],[0.2222222222222222,\"#7201a8\"],[0.3333333333333333,\"#9c179e\"],[0.4444444444444444,\"#bd3786\"],[0.5555555555555556,\"#d8576b\"],[0.6666666666666666,\"#ed7953\"],[0.7777777777777778,\"#fb9f3a\"],[0.8888888888888888,\"#fdca26\"],[1.0,\"#f0f921\"]],\"sequentialminus\":[[0.0,\"#0d0887\"],[0.1111111111111111,\"#46039f\"],[0.2222222222222222,\"#7201a8\"],[0.3333333333333333,\"#9c179e\"],[0.4444444444444444,\"#bd3786\"],[0.5555555555555556,\"#d8576b\"],[0.6666666666666666,\"#ed7953\"],[0.7777777777777778,\"#fb9f3a\"],[0.8888888888888888,\"#fdca26\"],[1.0,\"#f0f921\"]]},\"colorway\":[\"#636efa\",\"#EF553B\",\"#00cc96\",\"#ab63fa\",\"#FFA15A\",\"#19d3f3\",\"#FF6692\",\"#B6E880\",\"#FF97FF\",\"#FECB52\"],\"font\":{\"color\":\"#2a3f5f\"},\"geo\":{\"bgcolor\":\"white\",\"lakecolor\":\"white\",\"landcolor\":\"#E5ECF6\",\"showlakes\":true,\"showland\":true,\"subunitcolor\":\"white\"},\"hoverlabel\":{\"align\":\"left\"},\"hovermode\":\"closest\",\"mapbox\":{\"style\":\"light\"},\"paper_bgcolor\":\"white\",\"plot_bgcolor\":\"#E5ECF6\",\"polar\":{\"angularaxis\":{\"gridcolor\":\"white\",\"linecolor\":\"white\",\"ticks\":\"\"},\"bgcolor\":\"#E5ECF6\",\"radialaxis\":{\"gridcolor\":\"white\",\"linecolor\":\"white\",\"ticks\":\"\"}},\"scene\":{\"xaxis\":{\"backgroundcolor\":\"#E5ECF6\",\"gridcolor\":\"white\",\"gridwidth\":2,\"linecolor\":\"white\",\"showbackground\":true,\"ticks\":\"\",\"zerolinecolor\":\"white\"},\"yaxis\":{\"backgroundcolor\":\"#E5ECF6\",\"gridcolor\":\"white\",\"gridwidth\":2,\"linecolor\":\"white\",\"showbackground\":true,\"ticks\":\"\",\"zerolinecolor\":\"white\"},\"zaxis\":{\"backgroundcolor\":\"#E5ECF6\",\"gridcolor\":\"white\",\"gridwidth\":2,\"linecolor\":\"white\",\"showbackground\":true,\"ticks\":\"\",\"zerolinecolor\":\"white\"}},\"shapedefaults\":{\"line\":{\"color\":\"#2a3f5f\"}},\"ternary\":{\"aaxis\":{\"gridcolor\":\"white\",\"linecolor\":\"white\",\"ticks\":\"\"},\"baxis\":{\"gridcolor\":\"white\",\"linecolor\":\"white\",\"ticks\":\"\"},\"bgcolor\":\"#E5ECF6\",\"caxis\":{\"gridcolor\":\"white\",\"linecolor\":\"white\",\"ticks\":\"\"}},\"title\":{\"x\":0.05},\"xaxis\":{\"automargin\":true,\"gridcolor\":\"white\",\"linecolor\":\"white\",\"ticks\":\"\",\"title\":{\"standoff\":15},\"zerolinecolor\":\"white\",\"zerolinewidth\":2},\"yaxis\":{\"automargin\":true,\"gridcolor\":\"white\",\"linecolor\":\"white\",\"ticks\":\"\",\"title\":{\"standoff\":15},\"zerolinecolor\":\"white\",\"zerolinewidth\":2}}},\"xaxis\":{\"anchor\":\"y\",\"domain\":[0.0,1.0],\"title\":{\"text\":\"index\"}},\"yaxis\":{\"anchor\":\"x\",\"domain\":[0.0,1.0],\"title\":{\"text\":\"value\"}},\"legend\":{\"title\":{\"text\":\"variable\"},\"tracegroupgap\":0},\"margin\":{\"t\":60}},                        {\"responsive\": true}                    ).then(function(){\n",
              "                            \n",
              "var gd = document.getElementById('1aa72102-b08c-4940-bfb3-307648458cf4');\n",
              "var x = new MutationObserver(function (mutations, observer) {{\n",
              "        var display = window.getComputedStyle(gd).display;\n",
              "        if (!display || display === 'none') {{\n",
              "            console.log([gd, 'removed!']);\n",
              "            Plotly.purge(gd);\n",
              "            observer.disconnect();\n",
              "        }}\n",
              "}});\n",
              "\n",
              "// Listen for the removal of the full notebook cells\n",
              "var notebookContainer = gd.closest('#notebook-container');\n",
              "if (notebookContainer) {{\n",
              "    x.observe(notebookContainer, {childList: true});\n",
              "}}\n",
              "\n",
              "// Listen for the clearing of the current output cell\n",
              "var outputEl = gd.closest('.output');\n",
              "if (outputEl) {{\n",
              "    x.observe(outputEl, {childList: true});\n",
              "}}\n",
              "\n",
              "                        })                };                            </script>        </div>\n",
              "</body>\n",
              "</html>"
            ]
          },
          "metadata": {}
        }
      ]
    },
    {
      "cell_type": "code",
      "source": [
        "logits, tiny_cache = tiny_model.run_with_cache(batch)\n",
        "print(\"Loss:\", losses[-1])\n",
        "print(\"Cache:\", tiny_cache)"
      ],
      "metadata": {
        "colab": {
          "base_uri": "https://localhost:8080/"
        },
        "id": "zcoILz5yAi0H",
        "outputId": "df76c9fb-39a5-45c9-dacb-f478af4953a1"
      },
      "execution_count": 159,
      "outputs": [
        {
          "output_type": "stream",
          "name": "stdout",
          "text": [
            "Loss: 0.9038007259368896\n",
            "Cache: ActivationCache with keys ['hook_embed', 'hook_pos_embed', 'blocks.0.hook_resid_pre', 'blocks.0.ln1.hook_scale', 'blocks.0.ln1.hook_normalized', 'blocks.0.attn.hook_q', 'blocks.0.attn.hook_k', 'blocks.0.attn.hook_v', 'blocks.0.attn.hook_attn_scores', 'blocks.0.attn.hook_attn', 'blocks.0.attn.hook_z', 'blocks.0.hook_attn_out', 'blocks.0.hook_resid_mid', 'blocks.0.ln2.hook_scale', 'blocks.0.ln2.hook_normalized', 'blocks.0.mlp.hook_pre', 'blocks.0.mlp.hook_mid', 'blocks.0.mlp.ln.hook_scale', 'blocks.0.mlp.ln.hook_normalized', 'blocks.0.mlp.hook_post', 'blocks.0.hook_mlp_out', 'blocks.0.hook_resid_post', 'ln_final.hook_scale', 'ln_final.hook_normalized']\n"
          ]
        }
      ]
    },
    {
      "cell_type": "code",
      "source": [
        "with torch.no_grad():\n",
        "  thing = torch.as_tensor([1])\n",
        "  logit = tiny_model(thing)\n",
        "  print(logit.shape, np.argmax(logit.cpu().numpy(), axis=1).shape)"
      ],
      "metadata": {
        "colab": {
          "base_uri": "https://localhost:8080/"
        },
        "id": "kWiFHCPuWMSc",
        "outputId": "aa65b5f1-d3b0-4119-99ae-34e89e9db842"
      },
      "execution_count": 170,
      "outputs": [
        {
          "output_type": "stream",
          "name": "stdout",
          "text": [
            "torch.Size([1, 1, 150]) (1, 150)\n"
          ]
        }
      ]
    },
    {
      "cell_type": "markdown",
      "source": [
        "# Visualising attention patterns"
      ],
      "metadata": {
        "id": "hMUn0qQTIjwn"
      }
    },
    {
      "cell_type": "code",
      "source": [
        "for layer in range(tiny_model.cfg.n_layers):\n",
        "  for head in range(tiny_model.cfg.n_heads):\n",
        "    imshow(to_numpy(tiny_cache[f'blocks.{layer}.attn.hook_attn'].mean(0)[head]), title=f'Layer {layer} Attention Pattern, Head {head}', height=500, width=500, xaxis=\"Token\", yaxis=\"Activation\")"
      ],
      "metadata": {
        "colab": {
          "base_uri": "https://localhost:8080/",
          "height": 1000
        },
        "id": "vuPevhryJ4Zw",
        "outputId": "de0f39d1-958f-47bd-9981-69bbe460ea1d"
      },
      "execution_count": 160,
      "outputs": [
        {
          "output_type": "display_data",
          "data": {
            "text/html": [
              "<html>\n",
              "<head><meta charset=\"utf-8\" /></head>\n",
              "<body>\n",
              "    <div>            <script src=\"https://cdnjs.cloudflare.com/ajax/libs/mathjax/2.7.5/MathJax.js?config=TeX-AMS-MML_SVG\"></script><script type=\"text/javascript\">if (window.MathJax) {MathJax.Hub.Config({SVG: {font: \"STIX-Web\"}});}</script>                <script type=\"text/javascript\">window.PlotlyConfig = {MathJaxConfig: 'local'};</script>\n",
              "        <script src=\"https://cdn.plot.ly/plotly-2.8.3.min.js\"></script>                <div id=\"4c3a27a7-e62d-4c23-aeee-e96ecb0d7be4\" class=\"plotly-graph-div\" style=\"height:500px; width:500px;\"></div>            <script type=\"text/javascript\">                                    window.PLOTLYENV=window.PLOTLYENV || {};                                    if (document.getElementById(\"4c3a27a7-e62d-4c23-aeee-e96ecb0d7be4\")) {                    Plotly.newPlot(                        \"4c3a27a7-e62d-4c23-aeee-e96ecb0d7be4\",                        [{\"coloraxis\":\"coloraxis\",\"name\":\"0\",\"z\":[[1.0,0.0,0.0,0.0,0.0,0.0,0.0,0.0,0.0,0.0,0.0,0.0,0.0,0.0,0.0,0.0,0.0,0.0,0.0,0.0,0.0,0.0,0.0,0.0,0.0,0.0,0.0,0.0,0.0,0.0,0.0,0.0,0.0,0.0,0.0,0.0,0.0,0.0,0.0,0.0,0.0,0.0,0.0,0.0,0.0,0.0,0.0,0.0,0.0,0.0,0.0,0.0,0.0,0.0,0.0,0.0,0.0,0.0,0.0,0.0],[0.14089594781398773,0.8591039776802063,0.0,0.0,0.0,0.0,0.0,0.0,0.0,0.0,0.0,0.0,0.0,0.0,0.0,0.0,0.0,0.0,0.0,0.0,0.0,0.0,0.0,0.0,0.0,0.0,0.0,0.0,0.0,0.0,0.0,0.0,0.0,0.0,0.0,0.0,0.0,0.0,0.0,0.0,0.0,0.0,0.0,0.0,0.0,0.0,0.0,0.0,0.0,0.0,0.0,0.0,0.0,0.0,0.0,0.0,0.0,0.0,0.0,0.0],[0.3766387701034546,0.4262526035308838,0.19710862636566162,0.0,0.0,0.0,0.0,0.0,0.0,0.0,0.0,0.0,0.0,0.0,0.0,0.0,0.0,0.0,0.0,0.0,0.0,0.0,0.0,0.0,0.0,0.0,0.0,0.0,0.0,0.0,0.0,0.0,0.0,0.0,0.0,0.0,0.0,0.0,0.0,0.0,0.0,0.0,0.0,0.0,0.0,0.0,0.0,0.0,0.0,0.0,0.0,0.0,0.0,0.0,0.0,0.0,0.0,0.0,0.0,0.0],[0.193402960896492,0.1854173094034195,0.13679622113704681,0.4843834936618805,0.0,0.0,0.0,0.0,0.0,0.0,0.0,0.0,0.0,0.0,0.0,0.0,0.0,0.0,0.0,0.0,0.0,0.0,0.0,0.0,0.0,0.0,0.0,0.0,0.0,0.0,0.0,0.0,0.0,0.0,0.0,0.0,0.0,0.0,0.0,0.0,0.0,0.0,0.0,0.0,0.0,0.0,0.0,0.0,0.0,0.0,0.0,0.0,0.0,0.0,0.0,0.0,0.0,0.0,0.0,0.0],[0.04591929540038109,0.3097066879272461,0.20745070278644562,0.158305361866951,0.2786180078983307,0.0,0.0,0.0,0.0,0.0,0.0,0.0,0.0,0.0,0.0,0.0,0.0,0.0,0.0,0.0,0.0,0.0,0.0,0.0,0.0,0.0,0.0,0.0,0.0,0.0,0.0,0.0,0.0,0.0,0.0,0.0,0.0,0.0,0.0,0.0,0.0,0.0,0.0,0.0,0.0,0.0,0.0,0.0,0.0,0.0,0.0,0.0,0.0,0.0,0.0,0.0,0.0,0.0,0.0,0.0],[0.2926625609397888,0.19001059234142303,0.10242079943418503,0.2124861776828766,0.1713535338640213,0.031066346913576126,0.0,0.0,0.0,0.0,0.0,0.0,0.0,0.0,0.0,0.0,0.0,0.0,0.0,0.0,0.0,0.0,0.0,0.0,0.0,0.0,0.0,0.0,0.0,0.0,0.0,0.0,0.0,0.0,0.0,0.0,0.0,0.0,0.0,0.0,0.0,0.0,0.0,0.0,0.0,0.0,0.0,0.0,0.0,0.0,0.0,0.0,0.0,0.0,0.0,0.0,0.0,0.0,0.0,0.0],[0.06818684190511703,0.08334658294916153,0.11461739987134933,0.41497156023979187,0.08134135603904724,0.06332505494356155,0.17421124875545502,0.0,0.0,0.0,0.0,0.0,0.0,0.0,0.0,0.0,0.0,0.0,0.0,0.0,0.0,0.0,0.0,0.0,0.0,0.0,0.0,0.0,0.0,0.0,0.0,0.0,0.0,0.0,0.0,0.0,0.0,0.0,0.0,0.0,0.0,0.0,0.0,0.0,0.0,0.0,0.0,0.0,0.0,0.0,0.0,0.0,0.0,0.0,0.0,0.0,0.0,0.0,0.0,0.0],[0.025734756141901016,0.2218644618988037,0.08086887747049332,0.07010232657194138,0.20334844291210175,0.08811547607183456,0.12797075510025024,0.18199491500854492,0.0,0.0,0.0,0.0,0.0,0.0,0.0,0.0,0.0,0.0,0.0,0.0,0.0,0.0,0.0,0.0,0.0,0.0,0.0,0.0,0.0,0.0,0.0,0.0,0.0,0.0,0.0,0.0,0.0,0.0,0.0,0.0,0.0,0.0,0.0,0.0,0.0,0.0,0.0,0.0,0.0,0.0,0.0,0.0,0.0,0.0,0.0,0.0,0.0,0.0,0.0,0.0],[0.15288715064525604,0.13645166158676147,0.1385292112827301,0.08489357680082321,0.07718110084533691,0.09467063844203949,0.15306012332439423,0.09978505223989487,0.06254147738218307,0.0,0.0,0.0,0.0,0.0,0.0,0.0,0.0,0.0,0.0,0.0,0.0,0.0,0.0,0.0,0.0,0.0,0.0,0.0,0.0,0.0,0.0,0.0,0.0,0.0,0.0,0.0,0.0,0.0,0.0,0.0,0.0,0.0,0.0,0.0,0.0,0.0,0.0,0.0,0.0,0.0,0.0,0.0,0.0,0.0,0.0,0.0,0.0,0.0,0.0,0.0],[0.10118070989847183,0.06834855675697327,0.08461625874042511,0.18720875680446625,0.08869048207998276,0.03994268923997879,0.15706831216812134,0.15767322480678558,0.02123059146106243,0.0940404012799263,0.0,0.0,0.0,0.0,0.0,0.0,0.0,0.0,0.0,0.0,0.0,0.0,0.0,0.0,0.0,0.0,0.0,0.0,0.0,0.0,0.0,0.0,0.0,0.0,0.0,0.0,0.0,0.0,0.0,0.0,0.0,0.0,0.0,0.0,0.0,0.0,0.0,0.0,0.0,0.0,0.0,0.0,0.0,0.0,0.0,0.0,0.0,0.0,0.0,0.0],[0.02797597087919712,0.16158466041088104,0.08700776845216751,0.030890995636582375,0.09382566064596176,0.12818187475204468,0.06951168179512024,0.0833592638373375,0.17391429841518402,0.0623350515961647,0.08141278475522995,0.0,0.0,0.0,0.0,0.0,0.0,0.0,0.0,0.0,0.0,0.0,0.0,0.0,0.0,0.0,0.0,0.0,0.0,0.0,0.0,0.0,0.0,0.0,0.0,0.0,0.0,0.0,0.0,0.0,0.0,0.0,0.0,0.0,0.0,0.0,0.0,0.0,0.0,0.0,0.0,0.0,0.0,0.0,0.0,0.0,0.0,0.0,0.0,0.0],[0.07114475965499878,0.08272838592529297,0.07174539566040039,0.14127755165100098,0.1133972778916359,0.026648370549082756,0.0859212577342987,0.13897304236888885,0.02132570557296276,0.08569307625293732,0.11112301796674728,0.050022173672914505,0.0,0.0,0.0,0.0,0.0,0.0,0.0,0.0,0.0,0.0,0.0,0.0,0.0,0.0,0.0,0.0,0.0,0.0,0.0,0.0,0.0,0.0,0.0,0.0,0.0,0.0,0.0,0.0,0.0,0.0,0.0,0.0,0.0,0.0,0.0,0.0,0.0,0.0,0.0,0.0,0.0,0.0,0.0,0.0,0.0,0.0,0.0,0.0],[0.06435082107782364,0.05593883991241455,0.04657948017120361,0.11207182705402374,0.10388996452093124,0.02525109425187111,0.12027225643396378,0.10312545299530029,0.02452881447970867,0.0965414047241211,0.07443847507238388,0.05094033107161522,0.12207124382257462,0.0,0.0,0.0,0.0,0.0,0.0,0.0,0.0,0.0,0.0,0.0,0.0,0.0,0.0,0.0,0.0,0.0,0.0,0.0,0.0,0.0,0.0,0.0,0.0,0.0,0.0,0.0,0.0,0.0,0.0,0.0,0.0,0.0,0.0,0.0,0.0,0.0,0.0,0.0,0.0,0.0,0.0,0.0,0.0,0.0,0.0,0.0],[0.03097482956945896,0.06970909982919693,0.046506281942129135,0.03209910914301872,0.060585420578718185,0.1243896633386612,0.04664498195052147,0.05774376913905144,0.17529597878456116,0.03259589523077011,0.057580478489398956,0.04882452264428139,0.056955624371767044,0.16009436547756195,0.0,0.0,0.0,0.0,0.0,0.0,0.0,0.0,0.0,0.0,0.0,0.0,0.0,0.0,0.0,0.0,0.0,0.0,0.0,0.0,0.0,0.0,0.0,0.0,0.0,0.0,0.0,0.0,0.0,0.0,0.0,0.0,0.0,0.0,0.0,0.0,0.0,0.0,0.0,0.0,0.0,0.0,0.0,0.0,0.0,0.0],[0.044621791690588,0.06433117389678955,0.03918405622243881,0.07351728528738022,0.056728966534137726,0.029659420251846313,0.05347439646720886,0.05531870201230049,0.03884225711226463,0.06802093982696533,0.11815503984689713,0.03373664990067482,0.1027141734957695,0.19607870280742645,0.025616461411118507,0.0,0.0,0.0,0.0,0.0,0.0,0.0,0.0,0.0,0.0,0.0,0.0,0.0,0.0,0.0,0.0,0.0,0.0,0.0,0.0,0.0,0.0,0.0,0.0,0.0,0.0,0.0,0.0,0.0,0.0,0.0,0.0,0.0,0.0,0.0,0.0,0.0,0.0,0.0,0.0,0.0,0.0,0.0,0.0,0.0],[0.03456280007958412,0.028136758133769035,0.05121457576751709,0.08499010652303696,0.040895912796258926,0.019085528329014778,0.06308106333017349,0.061656296253204346,0.01334298588335514,0.13439223170280457,0.06110198050737381,0.03923213481903076,0.17806626856327057,0.08820899575948715,0.023641344159841537,0.07839106768369675,0.0,0.0,0.0,0.0,0.0,0.0,0.0,0.0,0.0,0.0,0.0,0.0,0.0,0.0,0.0,0.0,0.0,0.0,0.0,0.0,0.0,0.0,0.0,0.0,0.0,0.0,0.0,0.0,0.0,0.0,0.0,0.0,0.0,0.0,0.0,0.0,0.0,0.0,0.0,0.0,0.0,0.0,0.0,0.0],[0.011339903809130192,0.05653276666998863,0.02642730437219143,0.03365699201822281,0.045912005007267,0.03959900885820389,0.05202469974756241,0.048030268400907516,0.11211033165454865,0.035254258662462234,0.06742813438177109,0.03391272947192192,0.056553568691015244,0.22853879630565643,0.05746878311038017,0.061803270131349564,0.03340718150138855,0.0,0.0,0.0,0.0,0.0,0.0,0.0,0.0,0.0,0.0,0.0,0.0,0.0,0.0,0.0,0.0,0.0,0.0,0.0,0.0,0.0,0.0,0.0,0.0,0.0,0.0,0.0,0.0,0.0,0.0,0.0,0.0,0.0,0.0,0.0,0.0,0.0,0.0,0.0,0.0,0.0,0.0,0.0],[0.05845470353960991,0.07661046832799911,0.041340310126543045,0.04651571065187454,0.044649090617895126,0.016404110938310623,0.08260774612426758,0.041933443397283554,0.015124729834496975,0.09653516858816147,0.08336470276117325,0.02883085049688816,0.08751662820577621,0.08502182364463806,0.04415347799658775,0.0759456679224968,0.05497991666197777,0.020011449232697487,0.0,0.0,0.0,0.0,0.0,0.0,0.0,0.0,0.0,0.0,0.0,0.0,0.0,0.0,0.0,0.0,0.0,0.0,0.0,0.0,0.0,0.0,0.0,0.0,0.0,0.0,0.0,0.0,0.0,0.0,0.0,0.0,0.0,0.0,0.0,0.0,0.0,0.0,0.0,0.0,0.0,0.0],[0.0484900064766407,0.03429220989346504,0.04164525493979454,0.11601134389638901,0.0514911524951458,0.016433490440249443,0.05478128790855408,0.06343282759189606,0.013048502616584301,0.06064268574118614,0.049290772527456284,0.040255822241306305,0.09666188806295395,0.07034837454557419,0.02193181775510311,0.06427665054798126,0.04802214726805687,0.011980192735791206,0.09696359932422638,0.0,0.0,0.0,0.0,0.0,0.0,0.0,0.0,0.0,0.0,0.0,0.0,0.0,0.0,0.0,0.0,0.0,0.0,0.0,0.0,0.0,0.0,0.0,0.0,0.0,0.0,0.0,0.0,0.0,0.0,0.0,0.0,0.0,0.0,0.0,0.0,0.0,0.0,0.0,0.0,0.0],[0.011340437456965446,0.08505921065807343,0.026418020948767662,0.022428561002016068,0.06868422031402588,0.03969225659966469,0.04123064503073692,0.04909684881567955,0.08303769677877426,0.017970947548747063,0.09077628701925278,0.03255375847220421,0.030232537537813187,0.14993944764137268,0.07156775146722794,0.031892020255327225,0.037041258066892624,0.06852873414754868,0.014414227567613125,0.028095131739974022,0.0,0.0,0.0,0.0,0.0,0.0,0.0,0.0,0.0,0.0,0.0,0.0,0.0,0.0,0.0,0.0,0.0,0.0,0.0,0.0,0.0,0.0,0.0,0.0,0.0,0.0,0.0,0.0,0.0,0.0,0.0,0.0,0.0,0.0,0.0,0.0,0.0,0.0,0.0,0.0],[0.043709591031074524,0.041014619171619415,0.05128733068704605,0.0341574028134346,0.0333641842007637,0.044715117663145065,0.04477125406265259,0.04062727838754654,0.042974889278411865,0.08940150588750839,0.04216155409812927,0.04452137276530266,0.06366071850061417,0.05695416405797005,0.03636853024363518,0.049766622483730316,0.04007608816027641,0.04361162334680557,0.06735491007566452,0.05606640502810478,0.033434852957725525,0.0,0.0,0.0,0.0,0.0,0.0,0.0,0.0,0.0,0.0,0.0,0.0,0.0,0.0,0.0,0.0,0.0,0.0,0.0,0.0,0.0,0.0,0.0,0.0,0.0,0.0,0.0,0.0,0.0,0.0,0.0,0.0,0.0,0.0,0.0,0.0,0.0,0.0,0.0],[0.01825120486319065,0.04570697620511055,0.039642978459596634,0.03481648489832878,0.042394377291202545,0.015762094408273697,0.0638580173254013,0.04331369698047638,0.011524200439453125,0.09120558947324753,0.04623322933912277,0.02717033587396145,0.12102174758911133,0.058379318565130234,0.021548861637711525,0.07008371502161026,0.018643682822585106,0.008938846178352833,0.0865611582994461,0.03763134032487869,0.03370728716254234,0.06360489130020142,0.0,0.0,0.0,0.0,0.0,0.0,0.0,0.0,0.0,0.0,0.0,0.0,0.0,0.0,0.0,0.0,0.0,0.0,0.0,0.0,0.0,0.0,0.0,0.0,0.0,0.0,0.0,0.0,0.0,0.0,0.0,0.0,0.0,0.0,0.0,0.0,0.0,0.0],[0.004280306864529848,0.040294911712408066,0.016089225187897682,0.020885324105620384,0.04363040253520012,0.04002184420824051,0.015034535899758339,0.03152666240930557,0.13593362271785736,0.010102319531142712,0.05027337744832039,0.027616465464234352,0.028947168961167336,0.1950572282075882,0.025480199605226517,0.020287061110138893,0.023236341774463654,0.06380520015954971,0.0058595361188054085,0.02147422917187214,0.11430265009403229,0.03940749913454056,0.02645391784608364,0.0,0.0,0.0,0.0,0.0,0.0,0.0,0.0,0.0,0.0,0.0,0.0,0.0,0.0,0.0,0.0,0.0,0.0,0.0,0.0,0.0,0.0,0.0,0.0,0.0,0.0,0.0,0.0,0.0,0.0,0.0,0.0,0.0,0.0,0.0,0.0,0.0],[0.024749306961894035,0.027929097414016724,0.03539833799004555,0.03832642361521721,0.03395409137010574,0.02238735556602478,0.026338135823607445,0.053893595933914185,0.019271288067102432,0.04801194742321968,0.037299029529094696,0.02277824655175209,0.08550211787223816,0.1018388494849205,0.019435707479715347,0.06864108890295029,0.020883819088339806,0.014755536802113056,0.08822545409202576,0.04406074807047844,0.030566547065973282,0.032373420894145966,0.03972415253520012,0.06365575641393661,0.0,0.0,0.0,0.0,0.0,0.0,0.0,0.0,0.0,0.0,0.0,0.0,0.0,0.0,0.0,0.0,0.0,0.0,0.0,0.0,0.0,0.0,0.0,0.0,0.0,0.0,0.0,0.0,0.0,0.0,0.0,0.0,0.0,0.0,0.0,0.0],[0.058685850352048874,0.01692461594939232,0.03040655329823494,0.0676017552614212,0.08790446072816849,0.011182325892150402,0.07143589854240417,0.0656110867857933,0.011238716542720795,0.0584883876144886,0.02572683058679104,0.04172658547759056,0.04748838022351265,0.019220834597945213,0.04192841053009033,0.06915300339460373,0.03491827845573425,0.006503337528556585,0.054914262145757675,0.02557750977575779,0.02891334891319275,0.031431231647729874,0.022581124678254128,0.013644471764564514,0.056792762130498886,0.0,0.0,0.0,0.0,0.0,0.0,0.0,0.0,0.0,0.0,0.0,0.0,0.0,0.0,0.0,0.0,0.0,0.0,0.0,0.0,0.0,0.0,0.0,0.0,0.0,0.0,0.0,0.0,0.0,0.0,0.0,0.0,0.0,0.0,0.0],[0.014325419440865517,0.03359338268637657,0.01997455209493637,0.020492760464549065,0.034564387053251266,0.04085318371653557,0.019578276202082634,0.022592540830373764,0.11005856096744537,0.015107542276382446,0.04008154198527336,0.031466610729694366,0.021204177290201187,0.07203942537307739,0.0460851825773716,0.02756093256175518,0.028029093518853188,0.07185576856136322,0.011282355524599552,0.018707653507590294,0.07941167056560516,0.046766187995672226,0.029331473633646965,0.10321986675262451,0.023949775844812393,0.017867716029286385,0.0,0.0,0.0,0.0,0.0,0.0,0.0,0.0,0.0,0.0,0.0,0.0,0.0,0.0,0.0,0.0,0.0,0.0,0.0,0.0,0.0,0.0,0.0,0.0,0.0,0.0,0.0,0.0,0.0,0.0,0.0,0.0,0.0,0.0],[0.03219269588589668,0.04096826910972595,0.02357207052409649,0.030967026948928833,0.03589417412877083,0.01425975002348423,0.04730922728776932,0.03495463356375694,0.01228294800966978,0.07056628912687302,0.04385405033826828,0.02061464823782444,0.06628842651844025,0.07398323714733124,0.02145063318312168,0.05394216254353523,0.03925039619207382,0.015988919883966446,0.04527612775564194,0.05473634600639343,0.02201022207736969,0.0414087288081646,0.03454704210162163,0.03762713447213173,0.023834338411688805,0.04346287623047829,0.01875765062868595,0.0,0.0,0.0,0.0,0.0,0.0,0.0,0.0,0.0,0.0,0.0,0.0,0.0,0.0,0.0,0.0,0.0,0.0,0.0,0.0,0.0,0.0,0.0,0.0,0.0,0.0,0.0,0.0,0.0,0.0,0.0,0.0,0.0],[0.024707816541194916,0.01645965501666069,0.030227232724428177,0.06199698522686958,0.056679438799619675,0.010636038146913052,0.05087573453783989,0.06534883379936218,0.009273027069866657,0.04333946108818054,0.02458423376083374,0.027887601405382156,0.06294741481542587,0.027991974726319313,0.022262651473283768,0.0545034296810627,0.019223961979150772,0.00439171027392149,0.07216056436300278,0.024964241310954094,0.031726446002721786,0.025207458063960075,0.01825970970094204,0.014833730645477772,0.04911590740084648,0.08913636952638626,0.007892961613833904,0.05336543545126915,0.0,0.0,0.0,0.0,0.0,0.0,0.0,0.0,0.0,0.0,0.0,0.0,0.0,0.0,0.0,0.0,0.0,0.0,0.0,0.0,0.0,0.0,0.0,0.0,0.0,0.0,0.0,0.0,0.0,0.0,0.0,0.0],[0.012667355127632618,0.03727526590228081,0.017747491598129272,0.016717074438929558,0.024895189329981804,0.04395686089992523,0.015634963288903236,0.020391399040818214,0.09213883429765701,0.006642908789217472,0.03591233491897583,0.02707461453974247,0.010035159066319466,0.05488022044301033,0.05262979492545128,0.013821919448673725,0.028268998488783836,0.09588831663131714,0.0074200197122991085,0.018688540905714035,0.06696773320436478,0.02358454279601574,0.03248194605112076,0.08257254213094711,0.018410928547382355,0.02006971649825573,0.10339456796646118,0.009154479950666428,0.010676296427845955,0.0,0.0,0.0,0.0,0.0,0.0,0.0,0.0,0.0,0.0,0.0,0.0,0.0,0.0,0.0,0.0,0.0,0.0,0.0,0.0,0.0,0.0,0.0,0.0,0.0,0.0,0.0,0.0,0.0,0.0,0.0],[0.031200623139739037,0.03129750117659569,0.02446175180375576,0.025566140189766884,0.03697579726576805,0.012296321801841259,0.04241104796528816,0.024801606312394142,0.015262854285538197,0.0704713687300682,0.05772892385721207,0.025795621797442436,0.048108551651239395,0.03770098462700844,0.03579685464501381,0.03634518012404442,0.037435293197631836,0.019613638520240784,0.02225768379867077,0.03023597039282322,0.03240607678890228,0.038975998759269714,0.03147759661078453,0.020832696929574013,0.02962002158164978,0.055946893990039825,0.014879971742630005,0.05353748798370361,0.03736674413084984,0.019192814826965332,0.0,0.0,0.0,0.0,0.0,0.0,0.0,0.0,0.0,0.0,0.0,0.0,0.0,0.0,0.0,0.0,0.0,0.0,0.0,0.0,0.0,0.0,0.0,0.0,0.0,0.0,0.0,0.0,0.0,0.0],[0.020954424515366554,0.009345014579594135,0.029945945367217064,0.07246267050504684,0.03849130496382713,0.008260495029389858,0.03920168802142143,0.06421443819999695,0.007007997017353773,0.050663527101278305,0.014456937089562416,0.03010384738445282,0.06731044501066208,0.023958055302500725,0.014908797107636929,0.05373623967170715,0.01967679336667061,0.004497149493545294,0.05775724723935127,0.03910120204091072,0.01889306865632534,0.02120525948703289,0.012013107538223267,0.009395355358719826,0.050233107060194016,0.07109702378511429,0.005223533604294062,0.04596744105219841,0.05669748783111572,0.009967108257114887,0.033253300935029984,0.0,0.0,0.0,0.0,0.0,0.0,0.0,0.0,0.0,0.0,0.0,0.0,0.0,0.0,0.0,0.0,0.0,0.0,0.0,0.0,0.0,0.0,0.0,0.0,0.0,0.0,0.0,0.0,0.0],[0.0041048587299883366,0.04354991391301155,0.01285793911665678,0.010605152696371078,0.03673935681581497,0.02629723586142063,0.028403565287590027,0.027225691825151443,0.07603860646486282,0.01103118434548378,0.03140140697360039,0.019395364448428154,0.018300024792551994,0.07585420459508896,0.03220983222126961,0.023340338841080666,0.01921994797885418,0.046951815485954285,0.0062113311141729355,0.01454760879278183,0.07740450650453568,0.043853871524333954,0.008731228299438953,0.09348195791244507,0.01769155263900757,0.021646466106176376,0.07289472967386246,0.01177179254591465,0.013431832194328308,0.03907394036650658,0.006321348249912262,0.02941138856112957,0.0,0.0,0.0,0.0,0.0,0.0,0.0,0.0,0.0,0.0,0.0,0.0,0.0,0.0,0.0,0.0,0.0,0.0,0.0,0.0,0.0,0.0,0.0,0.0,0.0,0.0,0.0,0.0],[0.030709747225046158,0.027392810210585594,0.025407148525118828,0.03391614556312561,0.036243878304958344,0.01221997570246458,0.02908003143966198,0.04226648434996605,0.007711641490459442,0.03522937372326851,0.023983603343367577,0.017331833019852638,0.04773184284567833,0.03811419755220413,0.016790593042969704,0.05235438421368599,0.03217455372214317,0.01024383120238781,0.048650503158569336,0.054116010665893555,0.011900948360562325,0.03679896891117096,0.01985972933471203,0.015354029834270477,0.027682919055223465,0.04272076115012169,0.011008140631020069,0.05884922668337822,0.04797005653381348,0.013394201174378395,0.04748746380209923,0.02980983257293701,0.015495127998292446,0.0,0.0,0.0,0.0,0.0,0.0,0.0,0.0,0.0,0.0,0.0,0.0,0.0,0.0,0.0,0.0,0.0,0.0,0.0,0.0,0.0,0.0,0.0,0.0,0.0,0.0,0.0],[0.026622241362929344,0.019699005410075188,0.015826581045985222,0.046461012214422226,0.022286323830485344,0.006553739309310913,0.04469791799783707,0.030665189027786255,0.006521102041006088,0.03928806632757187,0.03163137659430504,0.014997735619544983,0.04389386996626854,0.05442143604159355,0.01881011761724949,0.039141323417425156,0.026769617572426796,0.007438850589096546,0.055661410093307495,0.032899316400289536,0.024328654631972313,0.015599625185132027,0.05177336931228638,0.0290516447275877,0.02094726823270321,0.07592103630304337,0.009262644685804844,0.028607076033949852,0.044916506856679916,0.012396200560033321,0.03914861008524895,0.016003992408514023,0.012895961292088032,0.03486118093132973,0.0,0.0,0.0,0.0,0.0,0.0,0.0,0.0,0.0,0.0,0.0,0.0,0.0,0.0,0.0,0.0,0.0,0.0,0.0,0.0,0.0,0.0,0.0,0.0,0.0,0.0],[0.0071520428173244,0.029353691264986992,0.00895682256668806,0.016561200842261314,0.029241172596812248,0.02022739313542843,0.019641917198896408,0.022813057526946068,0.0471537709236145,0.00837760604918003,0.03907167539000511,0.012918516993522644,0.016419632360339165,0.09950233995914459,0.019216446205973625,0.016527822241187096,0.013749919831752777,0.022367671132087708,0.010141625069081783,0.009477300569415092,0.07445190846920013,0.01498277485370636,0.042010486125946045,0.11466236412525177,0.011639068834483624,0.024342596530914307,0.06687366217374802,0.006465844810009003,0.011574449948966503,0.02857278659939766,0.007839093916118145,0.030695486813783646,0.02639840357005596,0.03897889330983162,0.03164055198431015,0.0,0.0,0.0,0.0,0.0,0.0,0.0,0.0,0.0,0.0,0.0,0.0,0.0,0.0,0.0,0.0,0.0,0.0,0.0,0.0,0.0,0.0,0.0,0.0,0.0],[0.015286129899322987,0.03491096571087837,0.025981931015849113,0.020102251321077347,0.041192006319761276,0.010370930656790733,0.028972957283258438,0.04008433222770691,0.008989883586764336,0.035814959555864334,0.030258802697062492,0.019926154986023903,0.05116966366767883,0.03476700931787491,0.014914202503859997,0.037044428288936615,0.027824554592370987,0.007138743996620178,0.035313840955495834,0.048057954758405685,0.014684098772704601,0.03660022094845772,0.008079004473984241,0.01082879863679409,0.03191177174448967,0.0465506874024868,0.008699691854417324,0.05601823329925537,0.044779881834983826,0.013920917175710201,0.03599095717072487,0.02494124136865139,0.023038705810904503,0.024797892197966576,0.03374122083187103,0.0172949880361557,0.0,0.0,0.0,0.0,0.0,0.0,0.0,0.0,0.0,0.0,0.0,0.0,0.0,0.0,0.0,0.0,0.0,0.0,0.0,0.0,0.0,0.0,0.0,0.0],[0.03811364993453026,0.016473008319735527,0.014155457727611065,0.04859701916575432,0.02962544560432434,0.004514012485742569,0.033803872764110565,0.028332872316241264,0.003770713461562991,0.03613348305225372,0.035905029624700546,0.013871937990188599,0.03990393877029419,0.03789527714252472,0.009574292227625847,0.030634289607405663,0.024136709049344063,0.0031423389445990324,0.0520494244992733,0.026981834322214127,0.015271991491317749,0.009154732339084148,0.06366532295942307,0.012729263864457607,0.02276003174483776,0.08003003150224686,0.004533135797828436,0.03513878211379051,0.0432942770421505,0.0076149762608110905,0.05753832682967186,0.012760776095092297,0.013196974992752075,0.030994564294815063,0.029471158981323242,0.00603692838922143,0.028194118291139603,0.0,0.0,0.0,0.0,0.0,0.0,0.0,0.0,0.0,0.0,0.0,0.0,0.0,0.0,0.0,0.0,0.0,0.0,0.0,0.0,0.0,0.0,0.0],[0.010540345683693886,0.04462403059005737,0.02131447196006775,0.008392776362597942,0.023896394297480583,0.03728993609547615,0.017495067790150642,0.01851796545088291,0.0363580696284771,0.008436120115220547,0.023898569867014885,0.017666954547166824,0.01272576954215765,0.031585466116666794,0.05108983442187309,0.020378829911351204,0.014300725422799587,0.038997795432806015,0.01504191942512989,0.01471945084631443,0.03507852181792259,0.04154985770583153,0.008531766943633556,0.05581684783101082,0.009696338325738907,0.010583119466900826,0.06359340995550156,0.014165266416966915,0.01190353836864233,0.038294289261102676,0.011075419373810291,0.04687689617276192,0.05148530751466751,0.011696483008563519,0.021001193672418594,0.05047525092959404,0.012426088564097881,0.03847990930080414,0.0,0.0,0.0,0.0,0.0,0.0,0.0,0.0,0.0,0.0,0.0,0.0,0.0,0.0,0.0,0.0,0.0,0.0,0.0,0.0,0.0,0.0],[0.013420119881629944,0.03204479068517685,0.018178338184952736,0.03120051883161068,0.04145829752087593,0.009843352250754833,0.027333080768585205,0.04727987200021744,0.008942095562815666,0.017776157706975937,0.026427192613482475,0.01588829979300499,0.03647639974951744,0.05068570375442505,0.010536838322877884,0.026306498795747757,0.02930927276611328,0.006959033664315939,0.025128090754151344,0.04681813344359398,0.0142862843349576,0.017567334696650505,0.0206815954297781,0.014152360148727894,0.034240271896123886,0.061258405447006226,0.012834710069000721,0.031963080167770386,0.032483190298080444,0.010877165012061596,0.028098315000534058,0.02253754250705242,0.02156444452702999,0.0255518089979887,0.04142482951283455,0.010149561800062656,0.025560975074768066,0.045760806649923325,0.006995238363742828,0.0,0.0,0.0,0.0,0.0,0.0,0.0,0.0,0.0,0.0,0.0,0.0,0.0,0.0,0.0,0.0,0.0,0.0,0.0,0.0,0.0],[0.031404294073581696,0.01222375500947237,0.014176020398736,0.03852931410074234,0.03878282383084297,0.0028118914924561977,0.03553184121847153,0.03353020176291466,0.0019142741803079844,0.04875468835234642,0.017270881682634354,0.017470821738243103,0.04516040161252022,0.01821882650256157,0.008187459781765938,0.03670475259423256,0.03069469891488552,0.0015942273894324899,0.03858167678117752,0.03740939870476723,0.0072250585071742535,0.015653926879167557,0.01371428556740284,0.004350197501480579,0.030748536810278893,0.06532582640647888,0.0015653976006433368,0.07463430613279343,0.05262511596083641,0.0047559416852891445,0.04324572533369064,0.01339845359325409,0.009968898259103298,0.01780092529952526,0.03366081044077873,0.008688640780746937,0.03490912914276123,0.014325021766126156,0.005689745303243399,0.03876181319355965,0.0,0.0,0.0,0.0,0.0,0.0,0.0,0.0,0.0,0.0,0.0,0.0,0.0,0.0,0.0,0.0,0.0,0.0,0.0,0.0],[0.002911550225690007,0.023915380239486694,0.013474538922309875,0.010094130411744118,0.013894304633140564,0.02226479910314083,0.008283767849206924,0.013794437050819397,0.0469488725066185,0.009342067874968052,0.039095502346754074,0.012426075525581837,0.02634069137275219,0.1033225879073143,0.012230852618813515,0.012332512065768242,0.007730540819466114,0.025353536009788513,0.008707127533853054,0.012400253675878048,0.06134207174181938,0.02085079997777939,0.015261617489159107,0.07495494186878204,0.010765476152300835,0.012281532399356365,0.0854235291481018,0.004232616629451513,0.012057843618094921,0.041799381375312805,0.003921338357031345,0.029875362291932106,0.02214999869465828,0.031042838469147682,0.018505891785025597,0.02199273556470871,0.012849615886807442,0.015677569434046745,0.04863262549042702,0.005642863921821117,0.025875819846987724,0.0,0.0,0.0,0.0,0.0,0.0,0.0,0.0,0.0,0.0,0.0,0.0,0.0,0.0,0.0,0.0,0.0,0.0,0.0],[0.023619482293725014,0.021002382040023804,0.019083574414253235,0.017222760245203972,0.029223641380667686,0.00787352304905653,0.024884527549147606,0.027349090203642845,0.007337936200201511,0.04786282032728195,0.025826653465628624,0.01658191718161106,0.041678786277770996,0.026027683168649673,0.016262227669358253,0.0361127071082592,0.028433281928300858,0.00993669405579567,0.02592453919351101,0.038035329431295395,0.00942682009190321,0.03282436728477478,0.011784805916249752,0.010896928608417511,0.01951855979859829,0.033049579709768295,0.0071060070767998695,0.04839419573545456,0.0425897091627121,0.01321587897837162,0.02942756377160549,0.019481441006064415,0.01594088226556778,0.03160689026117325,0.024926740676164627,0.01318951416760683,0.032472435384988785,0.02878919616341591,0.006948408670723438,0.032788995653390884,0.03419337421655655,0.011148172430694103,0.0,0.0,0.0,0.0,0.0,0.0,0.0,0.0,0.0,0.0,0.0,0.0,0.0,0.0,0.0,0.0,0.0,0.0],[0.019664032384753227,0.007327806204557419,0.01475565880537033,0.05480204150080681,0.04272119328379631,0.0039749653078615665,0.023696739226579666,0.052015144377946854,0.0031825124751776457,0.03293270617723465,0.018284078687429428,0.01592540740966797,0.050083257257938385,0.027571165934205055,0.0076558031141757965,0.035530321300029755,0.017125891521573067,0.001638802932575345,0.04347823187708855,0.022277338430285454,0.013528143055737019,0.008960099890828133,0.021876400336623192,0.008120576851069927,0.030318966135382652,0.08488725870847702,0.0028181378729641438,0.03427610546350479,0.041742194443941116,0.00517847528681159,0.03304460272192955,0.009717556647956371,0.010473757050931454,0.030020812526345253,0.02411184273660183,0.008140144869685173,0.034057192504405975,0.009012513794004917,0.008104727603495121,0.021065110340714455,0.034739624708890915,0.004795318469405174,0.026367375627160072,0.0,0.0,0.0,0.0,0.0,0.0,0.0,0.0,0.0,0.0,0.0,0.0,0.0,0.0,0.0,0.0,0.0],[0.005151080898940563,0.019482428207993507,0.010815990157425404,0.018156006932258606,0.024997657164931297,0.01989610306918621,0.011809985153377056,0.022023171186447144,0.047484759241342545,0.007923326455056667,0.03207969292998314,0.01500818133354187,0.018811065703630447,0.08276768773794174,0.0122766038402915,0.012746967375278473,0.011145862750709057,0.018087929114699364,0.009437507949769497,0.010939314030110836,0.059191979467868805,0.012211407534778118,0.029024068266153336,0.06349821388721466,0.015801342204213142,0.02066163532435894,0.05371171236038208,0.0054260422475636005,0.012187335640192032,0.02905971370637417,0.005705948453396559,0.02533828280866146,0.02166062593460083,0.032068654894828796,0.023351415991783142,0.01785304956138134,0.011429647915065289,0.01698530651628971,0.04865182191133499,0.005850492976605892,0.026219433173537254,0.028607869520783424,0.00460292911157012,0.019859762862324715,0.0,0.0,0.0,0.0,0.0,0.0,0.0,0.0,0.0,0.0,0.0,0.0,0.0,0.0,0.0,0.0],[0.03128606826066971,0.0373268686234951,0.01926351897418499,0.012124272994697094,0.03275725990533829,0.010343552567064762,0.026993906125426292,0.018920673057436943,0.006960366852581501,0.02718169055879116,0.02834794484078884,0.015854088589549065,0.02160453610122204,0.013235478661954403,0.016530921682715416,0.01926267147064209,0.03634790703654289,0.010096043348312378,0.019376875832676888,0.03072878159582615,0.008024896495044231,0.026791920885443687,0.013329192996025085,0.006150826346129179,0.021351829171180725,0.03097080998122692,0.006981571204960346,0.06183973699808121,0.028912175446748734,0.010380655527114868,0.04548806697130203,0.025404945015907288,0.02520737051963806,0.014202467165887356,0.02475106157362461,0.01526787132024765,0.0238031093031168,0.03316391259431839,0.007156569045037031,0.04334262013435364,0.021494057029485703,0.011670701205730438,0.03230835869908333,0.01942566968500614,0.008036199025809765,0.0,0.0,0.0,0.0,0.0,0.0,0.0,0.0,0.0,0.0,0.0,0.0,0.0,0.0,0.0],[0.014763268642127514,0.011821947060525417,0.017452161759138107,0.04060203954577446,0.04421854764223099,0.006032266654074192,0.03369089588522911,0.04254169017076492,0.006509511265903711,0.023652933537960052,0.018975872546434402,0.019065966829657555,0.034180495887994766,0.01752367615699768,0.013389304280281067,0.026754578575491905,0.016092587262392044,0.0027541310992091894,0.029147593304514885,0.018583927303552628,0.020149191841483116,0.015798671171069145,0.01160553377121687,0.006024744361639023,0.03730475530028343,0.06483762711286545,0.004440690856426954,0.035999517887830734,0.03187016770243645,0.007106148637831211,0.02601805329322815,0.013207006268203259,0.012617741711437702,0.014075067825615406,0.02443346381187439,0.01520810928195715,0.029922043904662132,0.014875712804496288,0.011013299226760864,0.03229169547557831,0.020474929362535477,0.006361936219036579,0.02497253566980362,0.025808243080973625,0.007255014963448048,0.04857471212744713,0.0,0.0,0.0,0.0,0.0,0.0,0.0,0.0,0.0,0.0,0.0,0.0,0.0,0.0],[0.0069142356514930725,0.028878236189484596,0.011703776195645332,0.007365082390606403,0.01644900068640709,0.02562958374619484,0.00645985035225749,0.015756377950310707,0.03475591540336609,0.0057308245450258255,0.03158840909600258,0.010408810339868069,0.012082984670996666,0.0667179599404335,0.013667109422385693,0.009658419527113438,0.013194109313189983,0.025431901216506958,0.011461581103503704,0.01333524938672781,0.026607519015669823,0.010808003135025501,0.029973549768328667,0.0711166188120842,0.007337553892284632,0.012863824144005775,0.06085536628961563,0.005141552072018385,0.012242443859577179,0.033688947558403015,0.006522184703499079,0.038816068321466446,0.03273430094122887,0.024399736896157265,0.016613582149147987,0.019402850419282913,0.007921493612229824,0.01867346465587616,0.03244440630078316,0.005622107535600662,0.02387237176299095,0.03867476433515549,0.00430244579911232,0.014447134919464588,0.04077685996890068,0.003928128629922867,0.033023323863744736,0.0,0.0,0.0,0.0,0.0,0.0,0.0,0.0,0.0,0.0,0.0,0.0,0.0],[0.02353796921670437,0.030167320743203163,0.014666065573692322,0.021264968439936638,0.032951317727565765,0.009422343224287033,0.028380319476127625,0.02869628742337227,0.005515553522855043,0.013164731673896313,0.0163419172167778,0.01555057056248188,0.016922956332564354,0.017100531607866287,0.019310003146529198,0.023122185841202736,0.030956778675317764,0.00770356273278594,0.022191807627677917,0.033430878072977066,0.008563744835555553,0.02082279697060585,0.014419430866837502,0.008125027641654015,0.021962277591228485,0.035655777901411057,0.007855516858398914,0.041664134711027145,0.021756429225206375,0.009132670238614082,0.035725194960832596,0.023243656381964684,0.01840716414153576,0.010074639692902565,0.03151959180831909,0.014113272540271282,0.017853697761893272,0.04004106670618057,0.0062591806054115295,0.029249919578433037,0.015269048511981964,0.009179315529763699,0.04309050738811493,0.028363747522234917,0.008426678366959095,0.02830793894827366,0.031179025769233704,0.0093404995277524,0.0,0.0,0.0,0.0,0.0,0.0,0.0,0.0,0.0,0.0,0.0,0.0],[0.015338748693466187,0.02252783626317978,0.013266277499496937,0.032959990203380585,0.04400596767663956,0.00473208399489522,0.05349346622824669,0.04503394290804863,0.002721429569646716,0.015279683284461498,0.014207839034497738,0.0132076321169734,0.022995714098215103,0.014376102946698666,0.00879207719117403,0.024781465530395508,0.017043838277459145,0.001614806824363768,0.04362377151846886,0.019767722114920616,0.010650801472365856,0.0106565086171031,0.010502675548195839,0.00557410204783082,0.028424492105841637,0.07477109134197235,0.002840617671608925,0.04233535751700401,0.028233742341399193,0.003621018026024103,0.04793623834848404,0.011520474217832088,0.012472422793507576,0.008436977863311768,0.03203190118074417,0.007316639181226492,0.01662025786936283,0.019417250528931618,0.004343777429312468,0.024282345548272133,0.018553996458649635,0.003815977368503809,0.029773175716400146,0.032931823283433914,0.0028731152415275574,0.040214654058218,0.014683528803288937,0.005737870931625366,0.019656775519251823,0.0,0.0,0.0,0.0,0.0,0.0,0.0,0.0,0.0,0.0,0.0],[0.006548624020069838,0.020041141659021378,0.009201467037200928,0.014241150580346584,0.03315124660730362,0.014725498855113983,0.01506797131150961,0.02096116915345192,0.04192490130662918,0.007109093014150858,0.030111772939562798,0.01632707752287388,0.010693718679249287,0.04476528987288475,0.023590251803398132,0.010341066867113113,0.017825815826654434,0.018964681774377823,0.005953968968242407,0.009325635619461536,0.052293580025434494,0.012979312799870968,0.02153586782515049,0.04007669910788536,0.016111945733428,0.02571839652955532,0.030024414882063866,0.008290421217679977,0.010253578424453735,0.025768686085939407,0.005879168398678303,0.02597159706056118,0.027266955003142357,0.019869007170200348,0.024851663038134575,0.01819424517452717,0.008217274211347103,0.023245496675372124,0.030830873176455498,0.009562513791024685,0.018708962947130203,0.024494735524058342,0.007703338749706745,0.01448738295584917,0.03328617662191391,0.009480585344135761,0.021088993176817894,0.029105573892593384,0.013705797493457794,0.02012522891163826,0.0,0.0,0.0,0.0,0.0,0.0,0.0,0.0,0.0,0.0],[0.027057334780693054,0.020359691232442856,0.014996903948485851,0.02529325522482395,0.023785918951034546,0.007932167500257492,0.02785567380487919,0.027032269164919853,0.004116035532206297,0.026687195524573326,0.017650870606303215,0.01227639801800251,0.028032636269927025,0.018451694399118423,0.008224389515817165,0.027062613517045975,0.024659544229507446,0.005334193352609873,0.034027133136987686,0.032491475343704224,0.007346465718001127,0.014291157014667988,0.024077793583273888,0.009233749471604824,0.02132946066558361,0.04159161075949669,0.006120439153164625,0.03911759704351425,0.03330889344215393,0.006628705654293299,0.048909056931734085,0.012975300662219524,0.011136657558381557,0.021795125678181648,0.02446303330361843,0.006730129476636648,0.02347656898200512,0.01851213350892067,0.00525376433506608,0.020612919703125954,0.025929903611540794,0.007528248708695173,0.02691515162587166,0.032258011400699615,0.004519270732998848,0.028834110125899315,0.017207151278853416,0.006427255924791098,0.013054902665317059,0.02334241010248661,0.0037456515710800886,0.0,0.0,0.0,0.0,0.0,0.0,0.0,0.0,0.0],[0.01937447488307953,0.012829773128032684,0.015186806209385395,0.038656990975141525,0.03170709311962128,0.0052713570185005665,0.033682432025671005,0.0336822047829628,0.004339020699262619,0.026759538799524307,0.020748600363731384,0.014294962398707867,0.03158247098326683,0.026382002979516983,0.01583181880414486,0.030170464888215065,0.0150669040158391,0.0035873372107744217,0.03200097754597664,0.020077159628272057,0.018661802634596825,0.012959136627614498,0.017751339823007584,0.010922588407993317,0.01748432032763958,0.048401184380054474,0.00571645749732852,0.026235193014144897,0.026727160438895226,0.006856249179691076,0.02730337157845497,0.012579369358718395,0.012475087307393551,0.021577661857008934,0.02408095821738243,0.009455651976168156,0.026775244623422623,0.010161141864955425,0.009056764654815197,0.018679672852158546,0.02612122893333435,0.006249017547816038,0.020208511501550674,0.02862345054745674,0.004953030031174421,0.024475881829857826,0.015821166336536407,0.007306965533643961,0.02106686867773533,0.03704966977238655,0.004446652717888355,0.00858481414616108,0.0,0.0,0.0,0.0,0.0,0.0,0.0,0.0],[0.0029642132576555014,0.019847964867949486,0.009705349802970886,0.010137840174138546,0.016313916072249413,0.016828393563628197,0.008255630731582642,0.01393487211316824,0.03672973811626434,0.005375330802053213,0.024780569598078728,0.010542686097323895,0.014700588770210743,0.06208595260977745,0.013096699491143227,0.013043279759585857,0.007580375764518976,0.02147257700562477,0.006363364402204752,0.00885143131017685,0.04546782374382019,0.02030065469443798,0.009952659718692303,0.05247248336672783,0.009412015788257122,0.009547354653477669,0.0536375530064106,0.004937620367854834,0.007374535780400038,0.02802847884595394,0.003692921716719866,0.02404874563217163,0.017878422513604164,0.017705952748656273,0.019526032730937004,0.021812913939356804,0.009192079305648804,0.020881827920675278,0.03381294757127762,0.006368756294250488,0.01714366488158703,0.029071727767586708,0.00440964987501502,0.014590579085052013,0.04769016429781914,0.002958571305498481,0.021571919322013855,0.03240030258893967,0.01628701761364937,0.008962868712842464,0.051884111016988754,0.010989071801304817,0.003377821994945407,0.0,0.0,0.0,0.0,0.0,0.0,0.0],[0.015194425359368324,0.015159646980464458,0.018721111118793488,0.017664199694991112,0.013278203085064888,0.00771892536431551,0.013375646434724331,0.014169356785714626,0.007198318373411894,0.039091434329748154,0.026319051161408424,0.014551930129528046,0.038902509957551956,0.03249428793787956,0.012302983552217484,0.02055615745484829,0.021133098751306534,0.011561096645891666,0.021566634997725487,0.03398129343986511,0.011865967884659767,0.021475786343216896,0.018541479483246803,0.012309582903981209,0.017650751397013664,0.022524526342749596,0.010555571876466274,0.023686010390520096,0.028808478266000748,0.014392693527042866,0.017649617046117783,0.01695893332362175,0.012576818466186523,0.030851218849420547,0.02037123776972294,0.011922496370971203,0.026440590620040894,0.013859867118299007,0.007288634777069092,0.021995622664690018,0.025575736537575722,0.01771554723381996,0.0159318670630455,0.019881952553987503,0.011447841301560402,0.019507193937897682,0.017330260947346687,0.010828043334186077,0.013122315518558025,0.017234966158866882,0.008547518402338028,0.029941005632281303,0.025728672742843628,0.010540904477238655,0.0,0.0,0.0,0.0,0.0,0.0],[0.010084516368806362,0.013028143905103207,0.022922620177268982,0.025416499003767967,0.015553153119981289,0.00627302099019289,0.03451962396502495,0.030245119705796242,0.002937674056738615,0.033417489379644394,0.008991818875074387,0.01580604910850525,0.03985593467950821,0.010151107795536518,0.007447424810379744,0.024837931618094444,0.012164324522018433,0.003012252738699317,0.050558894872665405,0.02987838163971901,0.007282786071300507,0.014433562755584717,0.004422339610755444,0.004358987789601088,0.028498923406004906,0.03993142396211624,0.00298202782869339,0.03308374807238579,0.03623045235872269,0.005001842975616455,0.02865709364414215,0.007134634535759687,0.008049954660236835,0.010166618041694164,0.018790995702147484,0.007286173291504383,0.023796768859028816,0.015219333581626415,0.0032395930029451847,0.025542784482240677,0.013647756539285183,0.0059613753110170364,0.02199125662446022,0.02374921552836895,0.005935146939009428,0.045457907021045685,0.012281863950192928,0.006925167050212622,0.019765978679060936,0.023090075701475143,0.002484232420101762,0.028028210625052452,0.029243409633636475,0.008604338392615318,0.03162204101681709,0.0,0.0,0.0,0.0,0.0],[0.0033419448882341385,0.033752720803022385,0.00715720234438777,0.006543071009218693,0.025060638785362244,0.012659135274589062,0.012860593385994434,0.015058482065796852,0.031991250813007355,0.005463273264467716,0.030799919739365578,0.00986125972121954,0.010631327517330647,0.051854103803634644,0.015179330483078957,0.010267051868140697,0.014025571756064892,0.018540028482675552,0.004206771031022072,0.010337834246456623,0.03472622483968735,0.019045239314436913,0.009375662542879581,0.036363668739795685,0.010914108715951443,0.016528049483895302,0.034263670444488525,0.007685913238674402,0.00903516449034214,0.021878013387322426,0.0050772386603057384,0.02544783428311348,0.0232210885733366,0.016603773459792137,0.024073800072073936,0.01293780654668808,0.006421160884201527,0.042364850640296936,0.016207002103328705,0.007393389940261841,0.01827089861035347,0.02779177390038967,0.004720877390354872,0.014179687015712261,0.03768623620271683,0.0053351703099906445,0.026933817192912102,0.027469560503959656,0.01219417154788971,0.008964878506958485,0.030394811183214188,0.008996116928756237,0.006273658014833927,0.014746099710464478,0.007505887653678656,0.03938118740916252,0.0,0.0,0.0,0.0],[0.015119636431336403,0.017622940242290497,0.015867602080106735,0.01569330133497715,0.017060527577996254,0.007107926998287439,0.01381172239780426,0.020593512803316116,0.004377256613224745,0.02610049583017826,0.018963582813739777,0.011513895355165005,0.030373413115739822,0.028155267238616943,0.00922909565269947,0.02018650993704796,0.022780967876315117,0.007267137058079243,0.022808104753494263,0.0370597280561924,0.006413660943508148,0.014136619865894318,0.01636531576514244,0.01059988047927618,0.015623397193849087,0.026652052998542786,0.007545079570263624,0.02622661553323269,0.02608436346054077,0.009457615204155445,0.023182956501841545,0.01478011067956686,0.015076805837452412,0.027412593364715576,0.019733693450689316,0.008089697919785976,0.022154679521918297,0.020942267030477524,0.004223830532282591,0.017111875116825104,0.02237115614116192,0.009743633680045605,0.020431887358427048,0.02471383474767208,0.006438054144382477,0.020321214571595192,0.02427959255874157,0.008843948133289814,0.011930543929338455,0.017800498753786087,0.005293556954711676,0.021478772163391113,0.03203044459223747,0.011442572809755802,0.02528366446495056,0.028933007270097733,0.01515788584947586,0.0,0.0,0.0],[0.010046695359051228,0.008208456449210644,0.017796099185943604,0.030103234574198723,0.02207849733531475,0.005141207482665777,0.034546948969364166,0.036244187504053116,0.0033024658914655447,0.029599150642752647,0.010136375203728676,0.016464948654174805,0.03328322619199753,0.012639164924621582,0.01305429358035326,0.02655632235109806,0.009272056631743908,0.002599629107862711,0.037493832409381866,0.018567189574241638,0.012454713694751263,0.010860583744943142,0.005011420696973801,0.006197039503604174,0.02088061161339283,0.04882155731320381,0.0032707357313483953,0.02370862476527691,0.027964970096945763,0.004580990877002478,0.02254795841872692,0.005564139224588871,0.010355663485825062,0.013569754548370838,0.01474923174828291,0.006631279829889536,0.02317769080400467,0.01112944632768631,0.004335455130785704,0.019551893696188927,0.014771361835300922,0.005034885834902525,0.018493980169296265,0.022785143926739693,0.006568692158907652,0.039738867431879044,0.012541517615318298,0.00630368385463953,0.02137504331767559,0.024672837927937508,0.002658747835084796,0.011476549319922924,0.030979493632912636,0.008632899262011051,0.029657471925020218,0.023314740508794785,0.009424805641174316,0.039071545004844666,0.0,0.0],[0.0054657794535160065,0.021340593695640564,0.01136003341525793,0.0091924536973238,0.01694025844335556,0.016345473006367683,0.016178598627448082,0.015406106598675251,0.027467742562294006,0.007130873389542103,0.018788758665323257,0.011886059306561947,0.012135750614106655,0.029121944680809975,0.02268526703119278,0.017016472294926643,0.007934963330626488,0.017506761476397514,0.012311378493905067,0.00831502117216587,0.03772486373782158,0.021181374788284302,0.006926088128238916,0.042534761130809784,0.009430431760847569,0.013423733413219452,0.030902966856956482,0.008408607915043831,0.010640758089721203,0.021715236827731133,0.007928834296762943,0.01711508072912693,0.021488752216100693,0.010596047155559063,0.01583799161016941,0.017876146361231804,0.007975175976753235,0.02417798899114132,0.02041018009185791,0.010590719990432262,0.015618500299751759,0.02779194712638855,0.007008280139416456,0.013604721985757351,0.040853649377822876,0.007685423828661442,0.0232065599411726,0.026896540075540543,0.020095795392990112,0.009881328791379929,0.03667619451880455,0.009387579746544361,0.0067996010184288025,0.018486635759472847,0.012970793060958385,0.022670282050967216,0.020317379385232925,0.006462886463850737,0.012169877998530865,0.0],[0.02523728646337986,0.016893558204174042,0.011048085987567902,0.021924396976828575,0.017322421073913574,0.007507463451474905,0.011169723235070705,0.015490623190999031,0.004878769163042307,0.013644314371049404,0.01917833648622036,0.008514093235135078,0.023083286359906197,0.03624233603477478,0.008609696291387081,0.023833466693758965,0.01953945681452751,0.006801122333854437,0.024108735844492912,0.02973930351436138,0.008805637247860432,0.013901809230446815,0.03911276161670685,0.01380497682839632,0.011362683027982712,0.01640615426003933,0.011068117804825306,0.021887032315135002,0.02136692963540554,0.010294166393578053,0.023512989282608032,0.024684080854058266,0.010848086327314377,0.019254812970757484,0.023322368040680885,0.013753488659858704,0.021891193464398384,0.012465937994420528,0.012684601359069347,0.013535312376916409,0.025747150182724,0.007282427977770567,0.019049182534217834,0.024840662255883217,0.003973814193159342,0.007718220353126526,0.020692041143774986,0.008634853176772594,0.012898934073746204,0.025447828695178032,0.010127629153430462,0.011845380999147892,0.016578657552599907,0.007621713913977146,0.021650459617376328,0.01518038846552372,0.018802085891366005,0.02456676959991455,0.019826125353574753,0.008786085061728954]],\"type\":\"heatmap\",\"xaxis\":\"x\",\"yaxis\":\"y\",\"hovertemplate\":\"Token: %{x}<br>Activation: %{y}<br>color: %{z}<extra></extra>\"}],                        {\"template\":{\"data\":{\"bar\":[{\"error_x\":{\"color\":\"#2a3f5f\"},\"error_y\":{\"color\":\"#2a3f5f\"},\"marker\":{\"line\":{\"color\":\"#E5ECF6\",\"width\":0.5},\"pattern\":{\"fillmode\":\"overlay\",\"size\":10,\"solidity\":0.2}},\"type\":\"bar\"}],\"barpolar\":[{\"marker\":{\"line\":{\"color\":\"#E5ECF6\",\"width\":0.5},\"pattern\":{\"fillmode\":\"overlay\",\"size\":10,\"solidity\":0.2}},\"type\":\"barpolar\"}],\"carpet\":[{\"aaxis\":{\"endlinecolor\":\"#2a3f5f\",\"gridcolor\":\"white\",\"linecolor\":\"white\",\"minorgridcolor\":\"white\",\"startlinecolor\":\"#2a3f5f\"},\"baxis\":{\"endlinecolor\":\"#2a3f5f\",\"gridcolor\":\"white\",\"linecolor\":\"white\",\"minorgridcolor\":\"white\",\"startlinecolor\":\"#2a3f5f\"},\"type\":\"carpet\"}],\"choropleth\":[{\"colorbar\":{\"outlinewidth\":0,\"ticks\":\"\"},\"type\":\"choropleth\"}],\"contour\":[{\"colorbar\":{\"outlinewidth\":0,\"ticks\":\"\"},\"colorscale\":[[0.0,\"#0d0887\"],[0.1111111111111111,\"#46039f\"],[0.2222222222222222,\"#7201a8\"],[0.3333333333333333,\"#9c179e\"],[0.4444444444444444,\"#bd3786\"],[0.5555555555555556,\"#d8576b\"],[0.6666666666666666,\"#ed7953\"],[0.7777777777777778,\"#fb9f3a\"],[0.8888888888888888,\"#fdca26\"],[1.0,\"#f0f921\"]],\"type\":\"contour\"}],\"contourcarpet\":[{\"colorbar\":{\"outlinewidth\":0,\"ticks\":\"\"},\"type\":\"contourcarpet\"}],\"heatmap\":[{\"colorbar\":{\"outlinewidth\":0,\"ticks\":\"\"},\"colorscale\":[[0.0,\"#0d0887\"],[0.1111111111111111,\"#46039f\"],[0.2222222222222222,\"#7201a8\"],[0.3333333333333333,\"#9c179e\"],[0.4444444444444444,\"#bd3786\"],[0.5555555555555556,\"#d8576b\"],[0.6666666666666666,\"#ed7953\"],[0.7777777777777778,\"#fb9f3a\"],[0.8888888888888888,\"#fdca26\"],[1.0,\"#f0f921\"]],\"type\":\"heatmap\"}],\"heatmapgl\":[{\"colorbar\":{\"outlinewidth\":0,\"ticks\":\"\"},\"colorscale\":[[0.0,\"#0d0887\"],[0.1111111111111111,\"#46039f\"],[0.2222222222222222,\"#7201a8\"],[0.3333333333333333,\"#9c179e\"],[0.4444444444444444,\"#bd3786\"],[0.5555555555555556,\"#d8576b\"],[0.6666666666666666,\"#ed7953\"],[0.7777777777777778,\"#fb9f3a\"],[0.8888888888888888,\"#fdca26\"],[1.0,\"#f0f921\"]],\"type\":\"heatmapgl\"}],\"histogram\":[{\"marker\":{\"pattern\":{\"fillmode\":\"overlay\",\"size\":10,\"solidity\":0.2}},\"type\":\"histogram\"}],\"histogram2d\":[{\"colorbar\":{\"outlinewidth\":0,\"ticks\":\"\"},\"colorscale\":[[0.0,\"#0d0887\"],[0.1111111111111111,\"#46039f\"],[0.2222222222222222,\"#7201a8\"],[0.3333333333333333,\"#9c179e\"],[0.4444444444444444,\"#bd3786\"],[0.5555555555555556,\"#d8576b\"],[0.6666666666666666,\"#ed7953\"],[0.7777777777777778,\"#fb9f3a\"],[0.8888888888888888,\"#fdca26\"],[1.0,\"#f0f921\"]],\"type\":\"histogram2d\"}],\"histogram2dcontour\":[{\"colorbar\":{\"outlinewidth\":0,\"ticks\":\"\"},\"colorscale\":[[0.0,\"#0d0887\"],[0.1111111111111111,\"#46039f\"],[0.2222222222222222,\"#7201a8\"],[0.3333333333333333,\"#9c179e\"],[0.4444444444444444,\"#bd3786\"],[0.5555555555555556,\"#d8576b\"],[0.6666666666666666,\"#ed7953\"],[0.7777777777777778,\"#fb9f3a\"],[0.8888888888888888,\"#fdca26\"],[1.0,\"#f0f921\"]],\"type\":\"histogram2dcontour\"}],\"mesh3d\":[{\"colorbar\":{\"outlinewidth\":0,\"ticks\":\"\"},\"type\":\"mesh3d\"}],\"parcoords\":[{\"line\":{\"colorbar\":{\"outlinewidth\":0,\"ticks\":\"\"}},\"type\":\"parcoords\"}],\"pie\":[{\"automargin\":true,\"type\":\"pie\"}],\"scatter\":[{\"marker\":{\"colorbar\":{\"outlinewidth\":0,\"ticks\":\"\"}},\"type\":\"scatter\"}],\"scatter3d\":[{\"line\":{\"colorbar\":{\"outlinewidth\":0,\"ticks\":\"\"}},\"marker\":{\"colorbar\":{\"outlinewidth\":0,\"ticks\":\"\"}},\"type\":\"scatter3d\"}],\"scattercarpet\":[{\"marker\":{\"colorbar\":{\"outlinewidth\":0,\"ticks\":\"\"}},\"type\":\"scattercarpet\"}],\"scattergeo\":[{\"marker\":{\"colorbar\":{\"outlinewidth\":0,\"ticks\":\"\"}},\"type\":\"scattergeo\"}],\"scattergl\":[{\"marker\":{\"colorbar\":{\"outlinewidth\":0,\"ticks\":\"\"}},\"type\":\"scattergl\"}],\"scattermapbox\":[{\"marker\":{\"colorbar\":{\"outlinewidth\":0,\"ticks\":\"\"}},\"type\":\"scattermapbox\"}],\"scatterpolar\":[{\"marker\":{\"colorbar\":{\"outlinewidth\":0,\"ticks\":\"\"}},\"type\":\"scatterpolar\"}],\"scatterpolargl\":[{\"marker\":{\"colorbar\":{\"outlinewidth\":0,\"ticks\":\"\"}},\"type\":\"scatterpolargl\"}],\"scatterternary\":[{\"marker\":{\"colorbar\":{\"outlinewidth\":0,\"ticks\":\"\"}},\"type\":\"scatterternary\"}],\"surface\":[{\"colorbar\":{\"outlinewidth\":0,\"ticks\":\"\"},\"colorscale\":[[0.0,\"#0d0887\"],[0.1111111111111111,\"#46039f\"],[0.2222222222222222,\"#7201a8\"],[0.3333333333333333,\"#9c179e\"],[0.4444444444444444,\"#bd3786\"],[0.5555555555555556,\"#d8576b\"],[0.6666666666666666,\"#ed7953\"],[0.7777777777777778,\"#fb9f3a\"],[0.8888888888888888,\"#fdca26\"],[1.0,\"#f0f921\"]],\"type\":\"surface\"}],\"table\":[{\"cells\":{\"fill\":{\"color\":\"#EBF0F8\"},\"line\":{\"color\":\"white\"}},\"header\":{\"fill\":{\"color\":\"#C8D4E3\"},\"line\":{\"color\":\"white\"}},\"type\":\"table\"}]},\"layout\":{\"annotationdefaults\":{\"arrowcolor\":\"#2a3f5f\",\"arrowhead\":0,\"arrowwidth\":1},\"autotypenumbers\":\"strict\",\"coloraxis\":{\"colorbar\":{\"outlinewidth\":0,\"ticks\":\"\"}},\"colorscale\":{\"diverging\":[[0,\"#8e0152\"],[0.1,\"#c51b7d\"],[0.2,\"#de77ae\"],[0.3,\"#f1b6da\"],[0.4,\"#fde0ef\"],[0.5,\"#f7f7f7\"],[0.6,\"#e6f5d0\"],[0.7,\"#b8e186\"],[0.8,\"#7fbc41\"],[0.9,\"#4d9221\"],[1,\"#276419\"]],\"sequential\":[[0.0,\"#0d0887\"],[0.1111111111111111,\"#46039f\"],[0.2222222222222222,\"#7201a8\"],[0.3333333333333333,\"#9c179e\"],[0.4444444444444444,\"#bd3786\"],[0.5555555555555556,\"#d8576b\"],[0.6666666666666666,\"#ed7953\"],[0.7777777777777778,\"#fb9f3a\"],[0.8888888888888888,\"#fdca26\"],[1.0,\"#f0f921\"]],\"sequentialminus\":[[0.0,\"#0d0887\"],[0.1111111111111111,\"#46039f\"],[0.2222222222222222,\"#7201a8\"],[0.3333333333333333,\"#9c179e\"],[0.4444444444444444,\"#bd3786\"],[0.5555555555555556,\"#d8576b\"],[0.6666666666666666,\"#ed7953\"],[0.7777777777777778,\"#fb9f3a\"],[0.8888888888888888,\"#fdca26\"],[1.0,\"#f0f921\"]]},\"colorway\":[\"#636efa\",\"#EF553B\",\"#00cc96\",\"#ab63fa\",\"#FFA15A\",\"#19d3f3\",\"#FF6692\",\"#B6E880\",\"#FF97FF\",\"#FECB52\"],\"font\":{\"color\":\"#2a3f5f\"},\"geo\":{\"bgcolor\":\"white\",\"lakecolor\":\"white\",\"landcolor\":\"#E5ECF6\",\"showlakes\":true,\"showland\":true,\"subunitcolor\":\"white\"},\"hoverlabel\":{\"align\":\"left\"},\"hovermode\":\"closest\",\"mapbox\":{\"style\":\"light\"},\"paper_bgcolor\":\"white\",\"plot_bgcolor\":\"#E5ECF6\",\"polar\":{\"angularaxis\":{\"gridcolor\":\"white\",\"linecolor\":\"white\",\"ticks\":\"\"},\"bgcolor\":\"#E5ECF6\",\"radialaxis\":{\"gridcolor\":\"white\",\"linecolor\":\"white\",\"ticks\":\"\"}},\"scene\":{\"xaxis\":{\"backgroundcolor\":\"#E5ECF6\",\"gridcolor\":\"white\",\"gridwidth\":2,\"linecolor\":\"white\",\"showbackground\":true,\"ticks\":\"\",\"zerolinecolor\":\"white\"},\"yaxis\":{\"backgroundcolor\":\"#E5ECF6\",\"gridcolor\":\"white\",\"gridwidth\":2,\"linecolor\":\"white\",\"showbackground\":true,\"ticks\":\"\",\"zerolinecolor\":\"white\"},\"zaxis\":{\"backgroundcolor\":\"#E5ECF6\",\"gridcolor\":\"white\",\"gridwidth\":2,\"linecolor\":\"white\",\"showbackground\":true,\"ticks\":\"\",\"zerolinecolor\":\"white\"}},\"shapedefaults\":{\"line\":{\"color\":\"#2a3f5f\"}},\"ternary\":{\"aaxis\":{\"gridcolor\":\"white\",\"linecolor\":\"white\",\"ticks\":\"\"},\"baxis\":{\"gridcolor\":\"white\",\"linecolor\":\"white\",\"ticks\":\"\"},\"bgcolor\":\"#E5ECF6\",\"caxis\":{\"gridcolor\":\"white\",\"linecolor\":\"white\",\"ticks\":\"\"}},\"title\":{\"x\":0.05},\"xaxis\":{\"automargin\":true,\"gridcolor\":\"white\",\"linecolor\":\"white\",\"ticks\":\"\",\"title\":{\"standoff\":15},\"zerolinecolor\":\"white\",\"zerolinewidth\":2},\"yaxis\":{\"automargin\":true,\"gridcolor\":\"white\",\"linecolor\":\"white\",\"ticks\":\"\",\"title\":{\"standoff\":15},\"zerolinecolor\":\"white\",\"zerolinewidth\":2}}},\"xaxis\":{\"anchor\":\"y\",\"domain\":[0.0,1.0],\"scaleanchor\":\"y\",\"constrain\":\"domain\",\"title\":{\"text\":\"Token\"}},\"yaxis\":{\"anchor\":\"x\",\"domain\":[0.0,1.0],\"autorange\":\"reversed\",\"constrain\":\"domain\",\"title\":{\"text\":\"Activation\"}},\"coloraxis\":{\"colorscale\":[[0.0,\"rgb(103,0,31)\"],[0.1,\"rgb(178,24,43)\"],[0.2,\"rgb(214,96,77)\"],[0.3,\"rgb(244,165,130)\"],[0.4,\"rgb(253,219,199)\"],[0.5,\"rgb(247,247,247)\"],[0.6,\"rgb(209,229,240)\"],[0.7,\"rgb(146,197,222)\"],[0.8,\"rgb(67,147,195)\"],[0.9,\"rgb(33,102,172)\"],[1.0,\"rgb(5,48,97)\"]],\"cmid\":0.0},\"title\":{\"text\":\"Layer 0 Attention Pattern, Head 0\"},\"height\":500,\"width\":500},                        {\"responsive\": true}                    ).then(function(){\n",
              "                            \n",
              "var gd = document.getElementById('4c3a27a7-e62d-4c23-aeee-e96ecb0d7be4');\n",
              "var x = new MutationObserver(function (mutations, observer) {{\n",
              "        var display = window.getComputedStyle(gd).display;\n",
              "        if (!display || display === 'none') {{\n",
              "            console.log([gd, 'removed!']);\n",
              "            Plotly.purge(gd);\n",
              "            observer.disconnect();\n",
              "        }}\n",
              "}});\n",
              "\n",
              "// Listen for the removal of the full notebook cells\n",
              "var notebookContainer = gd.closest('#notebook-container');\n",
              "if (notebookContainer) {{\n",
              "    x.observe(notebookContainer, {childList: true});\n",
              "}}\n",
              "\n",
              "// Listen for the clearing of the current output cell\n",
              "var outputEl = gd.closest('.output');\n",
              "if (outputEl) {{\n",
              "    x.observe(outputEl, {childList: true});\n",
              "}}\n",
              "\n",
              "                        })                };                            </script>        </div>\n",
              "</body>\n",
              "</html>"
            ]
          },
          "metadata": {}
        },
        {
          "output_type": "display_data",
          "data": {
            "text/html": [
              "<html>\n",
              "<head><meta charset=\"utf-8\" /></head>\n",
              "<body>\n",
              "    <div>            <script src=\"https://cdnjs.cloudflare.com/ajax/libs/mathjax/2.7.5/MathJax.js?config=TeX-AMS-MML_SVG\"></script><script type=\"text/javascript\">if (window.MathJax) {MathJax.Hub.Config({SVG: {font: \"STIX-Web\"}});}</script>                <script type=\"text/javascript\">window.PlotlyConfig = {MathJaxConfig: 'local'};</script>\n",
              "        <script src=\"https://cdn.plot.ly/plotly-2.8.3.min.js\"></script>                <div id=\"715560b7-136a-4090-ad33-e20d518aeea5\" class=\"plotly-graph-div\" style=\"height:500px; width:500px;\"></div>            <script type=\"text/javascript\">                                    window.PLOTLYENV=window.PLOTLYENV || {};                                    if (document.getElementById(\"715560b7-136a-4090-ad33-e20d518aeea5\")) {                    Plotly.newPlot(                        \"715560b7-136a-4090-ad33-e20d518aeea5\",                        [{\"coloraxis\":\"coloraxis\",\"name\":\"0\",\"z\":[[1.0,0.0,0.0,0.0,0.0,0.0,0.0,0.0,0.0,0.0,0.0,0.0,0.0,0.0,0.0,0.0,0.0,0.0,0.0,0.0,0.0,0.0,0.0,0.0,0.0,0.0,0.0,0.0,0.0,0.0,0.0,0.0,0.0,0.0,0.0,0.0,0.0,0.0,0.0,0.0,0.0,0.0,0.0,0.0,0.0,0.0,0.0,0.0,0.0,0.0,0.0,0.0,0.0,0.0,0.0,0.0,0.0,0.0,0.0,0.0],[0.8431032299995422,0.15689687430858612,0.0,0.0,0.0,0.0,0.0,0.0,0.0,0.0,0.0,0.0,0.0,0.0,0.0,0.0,0.0,0.0,0.0,0.0,0.0,0.0,0.0,0.0,0.0,0.0,0.0,0.0,0.0,0.0,0.0,0.0,0.0,0.0,0.0,0.0,0.0,0.0,0.0,0.0,0.0,0.0,0.0,0.0,0.0,0.0,0.0,0.0,0.0,0.0,0.0,0.0,0.0,0.0,0.0,0.0,0.0,0.0,0.0,0.0],[0.12547533214092255,0.35777467489242554,0.5167499780654907,0.0,0.0,0.0,0.0,0.0,0.0,0.0,0.0,0.0,0.0,0.0,0.0,0.0,0.0,0.0,0.0,0.0,0.0,0.0,0.0,0.0,0.0,0.0,0.0,0.0,0.0,0.0,0.0,0.0,0.0,0.0,0.0,0.0,0.0,0.0,0.0,0.0,0.0,0.0,0.0,0.0,0.0,0.0,0.0,0.0,0.0,0.0,0.0,0.0,0.0,0.0,0.0,0.0,0.0,0.0,0.0,0.0],[0.2690674662590027,0.13161173462867737,0.3256685435771942,0.2736522853374481,0.0,0.0,0.0,0.0,0.0,0.0,0.0,0.0,0.0,0.0,0.0,0.0,0.0,0.0,0.0,0.0,0.0,0.0,0.0,0.0,0.0,0.0,0.0,0.0,0.0,0.0,0.0,0.0,0.0,0.0,0.0,0.0,0.0,0.0,0.0,0.0,0.0,0.0,0.0,0.0,0.0,0.0,0.0,0.0,0.0,0.0,0.0,0.0,0.0,0.0,0.0,0.0,0.0,0.0,0.0,0.0],[0.14444170892238617,0.02399126999080181,0.00965894479304552,0.014348000288009644,0.80756014585495,0.0,0.0,0.0,0.0,0.0,0.0,0.0,0.0,0.0,0.0,0.0,0.0,0.0,0.0,0.0,0.0,0.0,0.0,0.0,0.0,0.0,0.0,0.0,0.0,0.0,0.0,0.0,0.0,0.0,0.0,0.0,0.0,0.0,0.0,0.0,0.0,0.0,0.0,0.0,0.0,0.0,0.0,0.0,0.0,0.0,0.0,0.0,0.0,0.0,0.0,0.0,0.0,0.0,0.0,0.0],[0.053138185292482376,0.38383299112319946,0.23230604827404022,0.18188709020614624,0.055473692715168,0.093361996114254,0.0,0.0,0.0,0.0,0.0,0.0,0.0,0.0,0.0,0.0,0.0,0.0,0.0,0.0,0.0,0.0,0.0,0.0,0.0,0.0,0.0,0.0,0.0,0.0,0.0,0.0,0.0,0.0,0.0,0.0,0.0,0.0,0.0,0.0,0.0,0.0,0.0,0.0,0.0,0.0,0.0,0.0,0.0,0.0,0.0,0.0,0.0,0.0,0.0,0.0,0.0,0.0,0.0,0.0],[0.1738671362400055,0.09026169031858444,0.23665304481983185,0.13455642759799957,0.06651697307825089,0.12194012850522995,0.1762045919895172,0.0,0.0,0.0,0.0,0.0,0.0,0.0,0.0,0.0,0.0,0.0,0.0,0.0,0.0,0.0,0.0,0.0,0.0,0.0,0.0,0.0,0.0,0.0,0.0,0.0,0.0,0.0,0.0,0.0,0.0,0.0,0.0,0.0,0.0,0.0,0.0,0.0,0.0,0.0,0.0,0.0,0.0,0.0,0.0,0.0,0.0,0.0,0.0,0.0,0.0,0.0,0.0,0.0],[0.09549891203641891,0.028610646724700928,0.011505897156894207,0.02949504368007183,0.6603987216949463,0.01716040074825287,0.03047966957092285,0.12685073912143707,0.0,0.0,0.0,0.0,0.0,0.0,0.0,0.0,0.0,0.0,0.0,0.0,0.0,0.0,0.0,0.0,0.0,0.0,0.0,0.0,0.0,0.0,0.0,0.0,0.0,0.0,0.0,0.0,0.0,0.0,0.0,0.0,0.0,0.0,0.0,0.0,0.0,0.0,0.0,0.0,0.0,0.0,0.0,0.0,0.0,0.0,0.0,0.0,0.0,0.0,0.0,0.0],[0.05903029069304466,0.26977190375328064,0.12322256714105606,0.13912159204483032,0.044566936790943146,0.08070988953113556,0.12572364509105682,0.054389964789152145,0.10346322506666183,0.0,0.0,0.0,0.0,0.0,0.0,0.0,0.0,0.0,0.0,0.0,0.0,0.0,0.0,0.0,0.0,0.0,0.0,0.0,0.0,0.0,0.0,0.0,0.0,0.0,0.0,0.0,0.0,0.0,0.0,0.0,0.0,0.0,0.0,0.0,0.0,0.0,0.0,0.0,0.0,0.0,0.0,0.0,0.0,0.0,0.0,0.0,0.0,0.0,0.0,0.0],[0.09333109855651855,0.029717762023210526,0.17307217419147491,0.1555834859609604,0.01222910638898611,0.09260337054729462,0.08037381619215012,0.05931362137198448,0.07876405864953995,0.22501149773597717,0.0,0.0,0.0,0.0,0.0,0.0,0.0,0.0,0.0,0.0,0.0,0.0,0.0,0.0,0.0,0.0,0.0,0.0,0.0,0.0,0.0,0.0,0.0,0.0,0.0,0.0,0.0,0.0,0.0,0.0,0.0,0.0,0.0,0.0,0.0,0.0,0.0,0.0,0.0,0.0,0.0,0.0,0.0,0.0,0.0,0.0,0.0,0.0,0.0,0.0],[0.0632506012916565,0.025792306289076805,0.012259271927177906,0.0324983187019825,0.47661295533180237,0.020911550149321556,0.03532547503709793,0.24851064383983612,0.014807608909904957,0.015330157242715359,0.05470108985900879,0.0,0.0,0.0,0.0,0.0,0.0,0.0,0.0,0.0,0.0,0.0,0.0,0.0,0.0,0.0,0.0,0.0,0.0,0.0,0.0,0.0,0.0,0.0,0.0,0.0,0.0,0.0,0.0,0.0,0.0,0.0,0.0,0.0,0.0,0.0,0.0,0.0,0.0,0.0,0.0,0.0,0.0,0.0,0.0,0.0,0.0,0.0,0.0,0.0],[0.06452348083257675,0.08748338371515274,0.059022922068834305,0.11953350156545639,0.10000014305114746,0.03717810660600662,0.08999252319335938,0.08181295543909073,0.03815431520342827,0.1340857446193695,0.1355046033859253,0.05270831659436226,0.0,0.0,0.0,0.0,0.0,0.0,0.0,0.0,0.0,0.0,0.0,0.0,0.0,0.0,0.0,0.0,0.0,0.0,0.0,0.0,0.0,0.0,0.0,0.0,0.0,0.0,0.0,0.0,0.0,0.0,0.0,0.0,0.0,0.0,0.0,0.0,0.0,0.0,0.0,0.0,0.0,0.0,0.0,0.0,0.0,0.0,0.0,0.0],[0.06855951994657516,0.025122344493865967,0.1856534630060196,0.08784664422273636,0.011445599608123302,0.15698309242725372,0.05715677887201309,0.040399909019470215,0.10419595241546631,0.08532925695180893,0.007953106425702572,0.0934780016541481,0.07587634772062302,0.0,0.0,0.0,0.0,0.0,0.0,0.0,0.0,0.0,0.0,0.0,0.0,0.0,0.0,0.0,0.0,0.0,0.0,0.0,0.0,0.0,0.0,0.0,0.0,0.0,0.0,0.0,0.0,0.0,0.0,0.0,0.0,0.0,0.0,0.0,0.0,0.0,0.0,0.0,0.0,0.0,0.0,0.0,0.0,0.0,0.0,0.0],[0.1279725879430771,0.005930453073233366,0.006220714654773474,0.010347764007747173,0.5517330765724182,0.01581607386469841,0.012633830308914185,0.18474510312080383,0.0060402764938771725,0.008423952385783195,0.021494010463356972,0.019035784527659416,0.012150103226304054,0.017456313595175743,0.0,0.0,0.0,0.0,0.0,0.0,0.0,0.0,0.0,0.0,0.0,0.0,0.0,0.0,0.0,0.0,0.0,0.0,0.0,0.0,0.0,0.0,0.0,0.0,0.0,0.0,0.0,0.0,0.0,0.0,0.0,0.0,0.0,0.0,0.0,0.0,0.0,0.0,0.0,0.0,0.0,0.0,0.0,0.0,0.0,0.0],[0.03193357214331627,0.11855366080999374,0.07654637843370438,0.05524379760026932,0.0325307734310627,0.03352105990052223,0.1401667594909668,0.08343625068664551,0.035676874220371246,0.09531713277101517,0.07954969257116318,0.03419309854507446,0.0840906873345375,0.039580103009939194,0.059660185128450394,0.0,0.0,0.0,0.0,0.0,0.0,0.0,0.0,0.0,0.0,0.0,0.0,0.0,0.0,0.0,0.0,0.0,0.0,0.0,0.0,0.0,0.0,0.0,0.0,0.0,0.0,0.0,0.0,0.0,0.0,0.0,0.0,0.0,0.0,0.0,0.0,0.0,0.0,0.0,0.0,0.0,0.0,0.0,0.0,0.0],[0.1327826827764511,0.02360617183148861,0.12315952032804489,0.03685586526989937,0.02457032911479473,0.10126446932554245,0.054945457726716995,0.028525495901703835,0.05903160199522972,0.13671083748340607,0.01724272035062313,0.10784924030303955,0.031587470322847366,0.017677798867225647,0.060832228511571884,0.04335814341902733,0.0,0.0,0.0,0.0,0.0,0.0,0.0,0.0,0.0,0.0,0.0,0.0,0.0,0.0,0.0,0.0,0.0,0.0,0.0,0.0,0.0,0.0,0.0,0.0,0.0,0.0,0.0,0.0,0.0,0.0,0.0,0.0,0.0,0.0,0.0,0.0,0.0,0.0,0.0,0.0,0.0,0.0,0.0,0.0],[0.12746016681194305,0.013200446963310242,0.010826598852872849,0.01892978511750698,0.39108145236968994,0.017455795779824257,0.03317922353744507,0.18379919230937958,0.012504810467362404,0.020572395995259285,0.031487952917814255,0.02817152999341488,0.01927746832370758,0.029762187972664833,0.013289148919284344,0.023691615089774132,0.02531023696064949,0.0,0.0,0.0,0.0,0.0,0.0,0.0,0.0,0.0,0.0,0.0,0.0,0.0,0.0,0.0,0.0,0.0,0.0,0.0,0.0,0.0,0.0,0.0,0.0,0.0,0.0,0.0,0.0,0.0,0.0,0.0,0.0,0.0,0.0,0.0,0.0,0.0,0.0,0.0,0.0,0.0,0.0,0.0],[0.017473792657256126,0.12661218643188477,0.06217534467577934,0.07131656259298325,0.02704009786248207,0.044130321592092514,0.0800996869802475,0.04415242746472359,0.03723602369427681,0.05381838232278824,0.06892284005880356,0.033153828233480453,0.0686153694987297,0.055552151054143906,0.05300474166870117,0.05610145255923271,0.04949925094842911,0.051095545291900635,0.0,0.0,0.0,0.0,0.0,0.0,0.0,0.0,0.0,0.0,0.0,0.0,0.0,0.0,0.0,0.0,0.0,0.0,0.0,0.0,0.0,0.0,0.0,0.0,0.0,0.0,0.0,0.0,0.0,0.0,0.0,0.0,0.0,0.0,0.0,0.0,0.0,0.0,0.0,0.0,0.0,0.0],[0.07196997851133347,0.013182329013943672,0.0856308564543724,0.0822252556681633,0.014708227477967739,0.07572777569293976,0.02756580151617527,0.032161690294742584,0.06059882789850235,0.06355076283216476,0.012493005022406578,0.08826202154159546,0.04981467127799988,0.036777812987565994,0.06082310155034065,0.049756135791540146,0.03386061638593674,0.0682063177227974,0.07268481701612473,0.0,0.0,0.0,0.0,0.0,0.0,0.0,0.0,0.0,0.0,0.0,0.0,0.0,0.0,0.0,0.0,0.0,0.0,0.0,0.0,0.0,0.0,0.0,0.0,0.0,0.0,0.0,0.0,0.0,0.0,0.0,0.0,0.0,0.0,0.0,0.0,0.0,0.0,0.0,0.0,0.0],[0.06405200809240341,0.0052180783823132515,0.0047590057365596294,0.006083507556468248,0.6138696670532227,0.0070611657574772835,0.016050031408667564,0.18526186048984528,0.0029862276278436184,0.00682890135794878,0.014447365887463093,0.011617292650043964,0.007639570627361536,0.010498841293156147,0.004276070278137922,0.010316913016140461,0.007477842271327972,0.0019728222396224737,0.011897153221070766,0.007685761898756027,0.0,0.0,0.0,0.0,0.0,0.0,0.0,0.0,0.0,0.0,0.0,0.0,0.0,0.0,0.0,0.0,0.0,0.0,0.0,0.0,0.0,0.0,0.0,0.0,0.0,0.0,0.0,0.0,0.0,0.0,0.0,0.0,0.0,0.0,0.0,0.0,0.0,0.0,0.0,0.0],[0.015251285396516323,0.06258892267942429,0.040362510830163956,0.09029656648635864,0.0138780502602458,0.04354269057512283,0.033378440886735916,0.03518066927790642,0.04284615442156792,0.027377618476748466,0.040409307926893234,0.03359947353601456,0.05928364023566246,0.07294555753469467,0.07584812492132187,0.04493539407849312,0.06494433432817459,0.053345937281847,0.032854869961738586,0.0638137012720108,0.05331678315997124,0.0,0.0,0.0,0.0,0.0,0.0,0.0,0.0,0.0,0.0,0.0,0.0,0.0,0.0,0.0,0.0,0.0,0.0,0.0,0.0,0.0,0.0,0.0,0.0,0.0,0.0,0.0,0.0,0.0,0.0,0.0,0.0,0.0,0.0,0.0,0.0,0.0,0.0,0.0],[0.06150869280099869,0.01965169422328472,0.07165412604808807,0.04631301760673523,0.015902267768979073,0.0883234292268753,0.033791352063417435,0.0200953371822834,0.049034323543310165,0.07916474342346191,0.01253596693277359,0.07869189232587814,0.022579006850719452,0.029253540560603142,0.05604061111807823,0.036415185779333115,0.02041395753622055,0.0985465869307518,0.08149048686027527,0.03805699571967125,0.018086491152644157,0.02245032601058483,0.0,0.0,0.0,0.0,0.0,0.0,0.0,0.0,0.0,0.0,0.0,0.0,0.0,0.0,0.0,0.0,0.0,0.0,0.0,0.0,0.0,0.0,0.0,0.0,0.0,0.0,0.0,0.0,0.0,0.0,0.0,0.0,0.0,0.0,0.0,0.0,0.0,0.0],[0.06517770141363144,0.005675238557159901,0.0068794428370893,0.016145825386047363,0.48170730471611023,0.017601842060685158,0.012355262413620949,0.1674070805311203,0.010950080119073391,0.0052126734517514706,0.017035622149705887,0.016529103741049767,0.01909499429166317,0.027180269360542297,0.01097616832703352,0.023810729384422302,0.014648379758000374,0.0029954665806144476,0.02109040878713131,0.008499289862811565,0.007091462146490812,0.006988873239606619,0.034946803003549576,0.0,0.0,0.0,0.0,0.0,0.0,0.0,0.0,0.0,0.0,0.0,0.0,0.0,0.0,0.0,0.0,0.0,0.0,0.0,0.0,0.0,0.0,0.0,0.0,0.0,0.0,0.0,0.0,0.0,0.0,0.0,0.0,0.0,0.0,0.0,0.0,0.0],[0.04851827397942543,0.034618575125932693,0.03597456216812134,0.05120343714952469,0.077822744846344,0.046742938458919525,0.03243989869952202,0.049449216574430466,0.03210172802209854,0.017514042556285858,0.037222970277071,0.033213499933481216,0.05750729516148567,0.03911988064646721,0.03205960616469383,0.060586441308259964,0.056571006774902344,0.014746971428394318,0.07606800645589828,0.04026602581143379,0.025248665362596512,0.029446730390191078,0.0385320819914341,0.033025436103343964,0.0,0.0,0.0,0.0,0.0,0.0,0.0,0.0,0.0,0.0,0.0,0.0,0.0,0.0,0.0,0.0,0.0,0.0,0.0,0.0,0.0,0.0,0.0,0.0,0.0,0.0,0.0,0.0,0.0,0.0,0.0,0.0,0.0,0.0,0.0,0.0],[0.028870144858956337,0.014733977615833282,0.08245114237070084,0.03828837350010872,0.00869278609752655,0.07805964350700378,0.02001073583960533,0.011236533522605896,0.08611647039651871,0.03952424228191376,0.00679822638630867,0.05760468170046806,0.032368119806051254,0.023479288443922997,0.0832090899348259,0.03886845335364342,0.02273491583764553,0.049315739423036575,0.10100384056568146,0.015491400845348835,0.036915671080350876,0.013615572825074196,0.022916818037629128,0.061153169721364975,0.02654098905622959,0.0,0.0,0.0,0.0,0.0,0.0,0.0,0.0,0.0,0.0,0.0,0.0,0.0,0.0,0.0,0.0,0.0,0.0,0.0,0.0,0.0,0.0,0.0,0.0,0.0,0.0,0.0,0.0,0.0,0.0,0.0,0.0,0.0,0.0,0.0],[0.08176922053098679,0.012265215627849102,0.014200306497514248,0.01716836728155613,0.1923973113298416,0.027135569602251053,0.025227567180991173,0.21606698632240295,0.016919896006584167,0.013755792751908302,0.01964630000293255,0.028421638533473015,0.01728987693786621,0.02234928123652935,0.02395186759531498,0.023285627365112305,0.026739811524748802,0.021884968504309654,0.020950980484485626,0.016788369044661522,0.015044507570564747,0.014764055609703064,0.07293923199176788,0.03361302241683006,0.011855325661599636,0.013568952679634094,0.0,0.0,0.0,0.0,0.0,0.0,0.0,0.0,0.0,0.0,0.0,0.0,0.0,0.0,0.0,0.0,0.0,0.0,0.0,0.0,0.0,0.0,0.0,0.0,0.0,0.0,0.0,0.0,0.0,0.0,0.0,0.0,0.0,0.0],[0.016522306948900223,0.06092727184295654,0.0445614829659462,0.04118139669299126,0.023779256269335747,0.030370289459824562,0.04173550754785538,0.02563433349132538,0.028063416481018066,0.034533899277448654,0.03384781256318092,0.030048508197069168,0.04593100771307945,0.04264655336737633,0.04718523845076561,0.034724101424217224,0.04623476043343544,0.01953996904194355,0.05196678638458252,0.04037213325500488,0.03695988282561302,0.03431238606572151,0.022633135318756104,0.036402225494384766,0.02965189516544342,0.06376742571592331,0.03646702319383621,0.0,0.0,0.0,0.0,0.0,0.0,0.0,0.0,0.0,0.0,0.0,0.0,0.0,0.0,0.0,0.0,0.0,0.0,0.0,0.0,0.0,0.0,0.0,0.0,0.0,0.0,0.0,0.0,0.0,0.0,0.0,0.0,0.0],[0.08855625241994858,0.009309987537562847,0.0703730583190918,0.02173764817416668,0.02600751630961895,0.06060456112027168,0.02527899108827114,0.01700231246650219,0.05487095192074776,0.07167959213256836,0.008559050969779491,0.07600671052932739,0.020604591816663742,0.013798119500279427,0.03299031779170036,0.028001872822642326,0.01517495233565569,0.05038787052035332,0.0897989422082901,0.016805332154035568,0.01781393401324749,0.013693839311599731,0.02793331816792488,0.056439150124788284,0.02409658208489418,0.02578946389257908,0.01764412224292755,0.019040966406464577,0.0,0.0,0.0,0.0,0.0,0.0,0.0,0.0,0.0,0.0,0.0,0.0,0.0,0.0,0.0,0.0,0.0,0.0,0.0,0.0,0.0,0.0,0.0,0.0,0.0,0.0,0.0,0.0,0.0,0.0,0.0,0.0],[0.11380746215581894,0.004974608309566975,0.006520234048366547,0.007278074510395527,0.3373022675514221,0.010550697334110737,0.016439897939562798,0.25342220067977905,0.004858347587287426,0.01054520532488823,0.016736434772610664,0.020680580288171768,0.006559930741786957,0.009433867409825325,0.004400672856718302,0.010586383752524853,0.009441904723644257,0.008824765682220459,0.008328605443239212,0.012185875326395035,0.005726968869566917,0.009656804613769054,0.031184464693069458,0.00892852246761322,0.0054701026529073715,0.003934657201170921,0.0018831941997632384,0.04721345752477646,0.013123901560902596,0.0,0.0,0.0,0.0,0.0,0.0,0.0,0.0,0.0,0.0,0.0,0.0,0.0,0.0,0.0,0.0,0.0,0.0,0.0,0.0,0.0,0.0,0.0,0.0,0.0,0.0,0.0,0.0,0.0,0.0,0.0],[0.018772665411233902,0.07042112201452255,0.029662279412150383,0.033542096614837646,0.031185651198029518,0.02674112655222416,0.03208101913332939,0.020509185269474983,0.02997189201414585,0.03383544832468033,0.06041451916098595,0.02497965656220913,0.033626772463321686,0.04919077828526497,0.02866864763200283,0.03830655291676521,0.03005901910364628,0.022155165672302246,0.02697618678212166,0.043973661959171295,0.035418275743722916,0.052321888506412506,0.014337876811623573,0.026309361681342125,0.030191808938980103,0.044332973659038544,0.030942721292376518,0.030398203060030937,0.03010639362037182,0.020567072555422783,0.0,0.0,0.0,0.0,0.0,0.0,0.0,0.0,0.0,0.0,0.0,0.0,0.0,0.0,0.0,0.0,0.0,0.0,0.0,0.0,0.0,0.0,0.0,0.0,0.0,0.0,0.0,0.0,0.0,0.0],[0.03832077607512474,0.009717531502246857,0.044116031378507614,0.04647788405418396,0.009944620542228222,0.03468932956457138,0.019456330686807632,0.019357485696673393,0.04125785455107689,0.034824926406145096,0.008341468870639801,0.04346463084220886,0.03312768414616585,0.0231174286454916,0.037272896617650986,0.02702656388282776,0.023462792858481407,0.0344318188726902,0.04160536825656891,0.021965786814689636,0.03812575340270996,0.011773179285228252,0.033303726464509964,0.018436159938573837,0.034115757793188095,0.03247418627142906,0.023500332608819008,0.013360701501369476,0.08740063011646271,0.08513657003641129,0.030393797904253006,0.0,0.0,0.0,0.0,0.0,0.0,0.0,0.0,0.0,0.0,0.0,0.0,0.0,0.0,0.0,0.0,0.0,0.0,0.0,0.0,0.0,0.0,0.0,0.0,0.0,0.0,0.0,0.0,0.0],[0.057120539247989655,0.011103828437626362,0.006894459016621113,0.008379742503166199,0.3933804929256439,0.011083225719630718,0.020242391154170036,0.10939309746026993,0.007428301963955164,0.006821721792221069,0.02077067270874977,0.015051078982651234,0.011888074688613415,0.017437053844332695,0.008961716666817665,0.014007377438247204,0.020486561581492424,0.002634995151311159,0.022309590131044388,0.009601769968867302,0.005767565220594406,0.006052518263459206,0.026612265035510063,0.02213829755783081,0.011294362135231495,0.03612840920686722,0.00236358935944736,0.03450414165854454,0.022191209718585014,0.0030271231662482023,0.028917748481035233,0.026006130501627922,0.0,0.0,0.0,0.0,0.0,0.0,0.0,0.0,0.0,0.0,0.0,0.0,0.0,0.0,0.0,0.0,0.0,0.0,0.0,0.0,0.0,0.0,0.0,0.0,0.0,0.0,0.0,0.0],[0.010632318444550037,0.04501507431268692,0.013957709074020386,0.02284719981253147,0.026807954534888268,0.00600402569398284,0.02354387380182743,0.010297310538589954,0.009645562618970871,0.03780857101082802,0.06138363480567932,0.01105027087032795,0.041954077780246735,0.05575570464134216,0.022004490718245506,0.018598826602101326,0.04323718696832657,0.0044872271828353405,0.02316388301551342,0.04898816719651222,0.024084294214844704,0.019830813631415367,0.011816794984042645,0.010470756329596043,0.02941102720797062,0.17085127532482147,0.006436693016439676,0.02646367810666561,0.08703594654798508,0.011709614656865597,0.01166730560362339,0.04060572013258934,0.012433026917278767,0.0,0.0,0.0,0.0,0.0,0.0,0.0,0.0,0.0,0.0,0.0,0.0,0.0,0.0,0.0,0.0,0.0,0.0,0.0,0.0,0.0,0.0,0.0,0.0,0.0,0.0,0.0],[0.04000478982925415,0.01686203107237816,0.08486001193523407,0.01342342235147953,0.021796556189656258,0.0534651093184948,0.03424248844385147,0.024261951446533203,0.03210023045539856,0.054536815732717514,0.008196159265935421,0.03478911146521568,0.01954069547355175,0.008093251846730709,0.02971227467060089,0.03217919543385506,0.01116977073252201,0.048880018293857574,0.07804755121469498,0.01447537075728178,0.015521279536187649,0.0316922664642334,0.011799903586506844,0.04576246067881584,0.010070147924125195,0.013645665720105171,0.02135397121310234,0.017245443537831306,0.0358894057571888,0.02449977956712246,0.027310684323310852,0.012135704979300499,0.033458318561315536,0.03897818550467491,0.0,0.0,0.0,0.0,0.0,0.0,0.0,0.0,0.0,0.0,0.0,0.0,0.0,0.0,0.0,0.0,0.0,0.0,0.0,0.0,0.0,0.0,0.0,0.0,0.0,0.0],[0.10646970570087433,0.0050309645012021065,0.01239288691431284,0.005769679788500071,0.2954504191875458,0.021084798499941826,0.017915820702910423,0.09468764066696167,0.008942740969359875,0.012730023823678493,0.01093508955091238,0.023932479321956635,0.007605050690472126,0.007084751036018133,0.007386187557131052,0.0134624307975173,0.007751650642603636,0.010271643288433552,0.020996397361159325,0.006920628249645233,0.004448286257684231,0.009985950775444508,0.022950513288378716,0.027699191123247147,0.009268216788768768,0.007599871139973402,0.003233198542147875,0.04642891883850098,0.011370149441063404,0.004237388260662556,0.03470891714096069,0.016947990283370018,0.05163073539733887,0.04689006879925728,0.005779644474387169,0.0,0.0,0.0,0.0,0.0,0.0,0.0,0.0,0.0,0.0,0.0,0.0,0.0,0.0,0.0,0.0,0.0,0.0,0.0,0.0,0.0,0.0,0.0,0.0,0.0],[0.019119868054986,0.02962701953947544,0.02006123773753643,0.03109613060951233,0.043624624609947205,0.01460904162377119,0.027552543208003044,0.027352014556527138,0.017338166013360023,0.02224445901811123,0.035402167588472366,0.019535331055521965,0.03108745813369751,0.04409269616007805,0.018355606123805046,0.017384646460413933,0.03811928629875183,0.007681622635573149,0.03774474188685417,0.03268193081021309,0.021187394857406616,0.010486923158168793,0.022266855463385582,0.022211721166968346,0.029646148905158043,0.09318221360445023,0.010293272323906422,0.020947400480508804,0.07650579512119293,0.018115995451807976,0.02181982807815075,0.027177011594176292,0.024750515818595886,0.01675795391201973,0.03816720098257065,0.011773191392421722,0.0,0.0,0.0,0.0,0.0,0.0,0.0,0.0,0.0,0.0,0.0,0.0,0.0,0.0,0.0,0.0,0.0,0.0,0.0,0.0,0.0,0.0,0.0,0.0],[0.010822383686900139,0.02644835226237774,0.10707753896713257,0.021209627389907837,0.0036499351263046265,0.03409147635102272,0.05072176083922386,0.01303632091730833,0.026588385924696922,0.05339374020695686,0.005026869475841522,0.03144862502813339,0.02373489923775196,0.008757506497204304,0.05487120896577835,0.02005632221698761,0.014870792627334595,0.07257894426584244,0.06268036365509033,0.015284337103366852,0.027841974049806595,0.026288330554962158,0.008497104048728943,0.02967294491827488,0.00576057517901063,0.0105707673355937,0.04019417613744736,0.005498220678418875,0.042910121381282806,0.037158071994781494,0.016877133399248123,0.010876156389713287,0.014613238163292408,0.012763422913849354,0.01912876032292843,0.018361497670412064,0.016638142988085747,0.0,0.0,0.0,0.0,0.0,0.0,0.0,0.0,0.0,0.0,0.0,0.0,0.0,0.0,0.0,0.0,0.0,0.0,0.0,0.0,0.0,0.0,0.0],[0.05021454021334648,0.012293823063373566,0.002657501259818673,0.003013398265466094,0.4343564212322235,0.004310817923396826,0.016116579994559288,0.05976968631148338,0.001912620267830789,0.00934547372162342,0.03535798564553261,0.008178356103599072,0.004366389941424131,0.010377136990427971,0.0027744693215936422,0.0066495551727712154,0.008607625961303711,0.0016968597192317247,0.007735118269920349,0.011340240947902203,0.0015998997259885073,0.008687066845595837,0.011727364733815193,0.013109520077705383,0.0037152376025915146,0.007779915817081928,0.0008369263377971947,0.05214601755142212,0.005879437085241079,0.0008054488571360707,0.012819838710129261,0.02741687372326851,0.04992977902293205,0.019345631822943687,0.01033252477645874,0.018256401643157005,0.004562654532492161,0.05997490510344505,0.0,0.0,0.0,0.0,0.0,0.0,0.0,0.0,0.0,0.0,0.0,0.0,0.0,0.0,0.0,0.0,0.0,0.0,0.0,0.0,0.0,0.0],[0.01889057457447052,0.02799520455300808,0.022276684641838074,0.023571183905005455,0.0292829517275095,0.013755186460912228,0.03309316188097,0.024129999801516533,0.017021656036376953,0.027275774627923965,0.027762306854128838,0.013370825909078121,0.036356836557388306,0.029177570715546608,0.018962083384394646,0.02371159940958023,0.034449320286512375,0.008880062960088253,0.03647972270846367,0.028442153707146645,0.025898298248648643,0.018193650990724564,0.014744827523827553,0.016805071383714676,0.025674879550933838,0.08726169168949127,0.010112996213138103,0.019363004714250565,0.07112016528844833,0.01811055652797222,0.022123387083411217,0.02770671620965004,0.011789605021476746,0.022807417437434196,0.03076154924929142,0.010227211751043797,0.02115803398191929,0.03799441084265709,0.013261677697300911,0.0,0.0,0.0,0.0,0.0,0.0,0.0,0.0,0.0,0.0,0.0,0.0,0.0,0.0,0.0,0.0,0.0,0.0,0.0,0.0,0.0],[0.009094228968024254,0.015278495848178864,0.045328397303819656,0.04143691807985306,0.0013201739639043808,0.035379841923713684,0.010500631295144558,0.0023944189306348562,0.048226337879896164,0.05306806042790413,0.008681046776473522,0.030939990654587746,0.0247717946767807,0.022811338305473328,0.0639820545911789,0.021316958591341972,0.011931798420846462,0.05555678531527519,0.03114275075495243,0.024925056844949722,0.02705133520066738,0.01700878143310547,0.010962712578475475,0.027894271537661552,0.020148124545812607,0.01754269003868103,0.05564082786440849,0.006652443204075098,0.03747335821390152,0.06648793071508408,0.01105443388223648,0.005593270529061556,0.016711462289094925,0.009648069739341736,0.023659540340304375,0.016110844910144806,0.024939972907304764,0.008876096457242966,0.02925066649913788,0.009206113405525684,0.0,0.0,0.0,0.0,0.0,0.0,0.0,0.0,0.0,0.0,0.0,0.0,0.0,0.0,0.0,0.0,0.0,0.0,0.0,0.0],[0.08652102947235107,0.0032067999709397554,0.0030911413487046957,0.005399487912654877,0.38518115878105164,0.007299467921257019,0.008235490880906582,0.05894271656870842,0.0024625856894999743,0.005876766052097082,0.012983706779778004,0.014911952428519726,0.0038099156226962805,0.013541598804295063,0.0018018250120803714,0.006230827886611223,0.006772560533136129,0.0012574613792821765,0.012957612052559853,0.008901085704565048,0.0013958815252408385,0.0027643274515867233,0.016448937356472015,0.008513493463397026,0.005315349902957678,0.008040553890168667,0.0006207986152730882,0.030463963747024536,0.014240327291190624,0.0013553270837292075,0.011344327591359615,0.010371810756623745,0.03144132345914841,0.014386733062565327,0.007670195307582617,0.01235499419271946,0.005958228837698698,0.05835738405585289,0.014495608396828175,0.0033768867142498493,0.09169837832450867,0.0,0.0,0.0,0.0,0.0,0.0,0.0,0.0,0.0,0.0,0.0,0.0,0.0,0.0,0.0,0.0,0.0,0.0,0.0],[0.010935120284557343,0.03403458744287491,0.023443622514605522,0.030214501544833183,0.015971286222338676,0.01845860481262207,0.01863107830286026,0.015089675784111023,0.02180573344230652,0.018300727009773254,0.030434925109148026,0.016466397792100906,0.03234164044260979,0.029922520741820335,0.026896437630057335,0.025875866413116455,0.030149344354867935,0.013111826963722706,0.02306491509079933,0.03037976659834385,0.034021444618701935,0.02070550248026848,0.013845676556229591,0.014186223037540913,0.04513726010918617,0.07201283425092697,0.02096388302743435,0.019319018349051476,0.032621681690216064,0.02477279305458069,0.018754523247480392,0.020161418244242668,0.013566373847424984,0.014594117179512978,0.03124779462814331,0.0139869824051857,0.024251991882920265,0.032000210136175156,0.010387929156422615,0.024663323536515236,0.012140024453401566,0.02113044634461403,0.0,0.0,0.0,0.0,0.0,0.0,0.0,0.0,0.0,0.0,0.0,0.0,0.0,0.0,0.0,0.0,0.0,0.0],[0.02694825641810894,0.009791268967092037,0.042890019714832306,0.022639837116003036,0.010971714742481709,0.028936995193362236,0.02121718041598797,0.01574031636118889,0.03722594678401947,0.02856352925300598,0.007112579885870218,0.029020482674241066,0.0250538419932127,0.012590383179485798,0.03306012973189354,0.020544786006212234,0.017754314467310905,0.030896881595253944,0.03870885446667671,0.012036948464810848,0.03017646074295044,0.012462038546800613,0.020097529515624046,0.023677948862314224,0.023430900648236275,0.02856009267270565,0.019128741696476936,0.011541078798472881,0.05626056343317032,0.04355873540043831,0.03395799174904823,0.009357619099318981,0.015099010430276394,0.01867046020925045,0.01245328038930893,0.011710218153893948,0.01909301057457924,0.014855682849884033,0.029097607359290123,0.023582277819514275,0.017900045961141586,0.029114192351698875,0.024510249495506287,0.0,0.0,0.0,0.0,0.0,0.0,0.0,0.0,0.0,0.0,0.0,0.0,0.0,0.0,0.0,0.0,0.0],[0.0569084957242012,0.004867504816502333,0.008481464348733425,0.010791740380227566,0.15272927284240723,0.017772136256098747,0.015234424732625484,0.1273040473461151,0.0079767145216465,0.00601830193772912,0.006825251970440149,0.021133778616786003,0.0076583134941756725,0.01561152096837759,0.010918209329247475,0.010631371289491653,0.014430433511734009,0.007419546600431204,0.01920538954436779,0.007673934102058411,0.005450710654258728,0.004199640359729528,0.03436986356973648,0.01805713400244713,0.004573059733957052,0.007951616309583187,0.004432415124028921,0.016075793653726578,0.018108727410435677,0.005632799118757248,0.016673054546117783,0.01673337072134018,0.027686819434165955,0.012808826752007008,0.012217489071190357,0.014722460880875587,0.011613803915679455,0.031161120161414146,0.017996130511164665,0.008163826540112495,0.1101573258638382,0.0029887475538998842,0.012542328797280788,0.05609110742807388,0.0,0.0,0.0,0.0,0.0,0.0,0.0,0.0,0.0,0.0,0.0,0.0,0.0,0.0,0.0,0.0],[0.00879695825278759,0.04996919259428978,0.017096513882279396,0.02088361792266369,0.00951899029314518,0.01658349297940731,0.01827213726937771,0.008935513906180859,0.02285187505185604,0.02947542630136013,0.04875863343477249,0.012799820862710476,0.023353246971964836,0.03808878734707832,0.025832150131464005,0.02212538942694664,0.02684152126312256,0.022716021165251732,0.015034719370305538,0.036581795662641525,0.030300697311758995,0.03452685847878456,0.012344314716756344,0.02131023444235325,0.017054317519068718,0.031594064086675644,0.03304815664887428,0.016891969367861748,0.020246639847755432,0.022658804431557655,0.009599799290299416,0.029109233990311623,0.017501819878816605,0.019468216225504875,0.038277383893728256,0.018580622971057892,0.0193500779569149,0.02375500276684761,0.013271060772240162,0.018686596304178238,0.01213433314114809,0.02931259572505951,0.010681402869522572,0.008592839352786541,0.01718718372285366,0.0,0.0,0.0,0.0,0.0,0.0,0.0,0.0,0.0,0.0,0.0,0.0,0.0,0.0,0.0],[0.022114509716629982,0.005651956424117088,0.028374409303069115,0.03155341371893883,0.005289372522383928,0.03299521654844284,0.007035579066723585,0.0035888494458049536,0.04036576673388481,0.0285330843180418,0.006768585182726383,0.03979917988181114,0.01903814636170864,0.023904290050268173,0.02929753065109253,0.016858983784914017,0.01301382202655077,0.01836625672876835,0.042177651077508926,0.01427264790982008,0.020258087664842606,0.006135039962828159,0.017155786976218224,0.025240838527679443,0.03293176367878914,0.0366373248398304,0.01560798566788435,0.008686757646501064,0.07447455078363419,0.05869936943054199,0.021353408694267273,0.004830865655094385,0.01976664364337921,0.014737739227712154,0.011721860617399216,0.010577846318483353,0.01818964257836342,0.014970692805945873,0.03326328471302986,0.008294637314975262,0.011284354142844677,0.029385512694716454,0.021221181377768517,0.01658683829009533,0.030990824103355408,0.007997934706509113,0.0,0.0,0.0,0.0,0.0,0.0,0.0,0.0,0.0,0.0,0.0,0.0,0.0,0.0],[0.032884012907743454,0.004388457629829645,0.0011534501099959016,0.001682188012637198,0.48280778527259827,0.0019520886708050966,0.010221689008176327,0.07462061196565628,0.0007394650019705296,0.0026334417052567005,0.01395330298691988,0.004000512417405844,0.002550044795498252,0.006166253704577684,0.0012775242794305086,0.0029273349791765213,0.006382894702255726,0.0004466426034923643,0.004722953774034977,0.004435108974575996,0.0008782282820902765,0.0022176119964569807,0.008479068987071514,0.0062651666812598705,0.001648367615416646,0.006357795093208551,0.00023685760970693082,0.02361452393233776,0.005252661649137735,0.00031462498009204865,0.007927498780190945,0.01675058715045452,0.02449244074523449,0.00793534703552723,0.005647248588502407,0.0059273443184792995,0.0024616571608930826,0.04770477116107941,0.005196999292820692,0.003061499912291765,0.06572452932596207,0.0003097660664934665,0.0034558300394564867,0.010714620351791382,0.0003486158384475857,0.05146436765789986,0.025666266679763794,0.0,0.0,0.0,0.0,0.0,0.0,0.0,0.0,0.0,0.0,0.0,0.0,0.0],[0.009208332747220993,0.02948996238410473,0.013319909572601318,0.021716058254241943,0.016429612413048744,0.009988675825297832,0.014508246444165707,0.0066867247223854065,0.01049788948148489,0.03351312503218651,0.036744583398103714,0.011648140847682953,0.027332469820976257,0.04702503979206085,0.019530298188328743,0.020217249169945717,0.02292381413280964,0.004637555684894323,0.030176667496562004,0.039084307849407196,0.014139498583972454,0.01650468073785305,0.006964193191379309,0.013551510870456696,0.018046626821160316,0.0890125036239624,0.006628885865211487,0.01769193820655346,0.06464123725891113,0.011153334751725197,0.006995153613388538,0.020559102296829224,0.012756161391735077,0.01385167520493269,0.04764709994196892,0.010728597640991211,0.01551888044923544,0.04104827716946602,0.011503895744681358,0.010198241099715233,0.01595880836248398,0.010788357816636562,0.007962319999933243,0.009146735072135925,0.008978893049061298,0.0072297947481274605,0.05254504829645157,0.013569883070886135,0.0,0.0,0.0,0.0,0.0,0.0,0.0,0.0,0.0,0.0,0.0,0.0],[0.01511654257774353,0.014210469089448452,0.03380468115210533,0.023044710978865623,0.007299651857465506,0.02100772224366665,0.02088030055165291,0.009004161693155766,0.025977561250329018,0.041523534804582596,0.01062706857919693,0.023010699078440666,0.022723795846104622,0.01642129383981228,0.03203631192445755,0.017276551574468613,0.015283721499145031,0.026998797431588173,0.0334533266723156,0.018471283838152885,0.019690265879034996,0.013792616315186024,0.013491143472492695,0.02666471339762211,0.015582442283630371,0.023502057418227196,0.017853761091828346,0.011283550411462784,0.046399835497140884,0.029450464993715286,0.01864740066230297,0.011069665662944317,0.01695053093135357,0.01740235462784767,0.017881397157907486,0.013186255469918251,0.017871340736746788,0.01523841917514801,0.025909019634127617,0.016656355932354927,0.014979178085923195,0.029436249285936356,0.017309481278061867,0.017557015642523766,0.03037659265100956,0.014989569783210754,0.016323788091540337,0.023611968383193016,0.01872042380273342,0.0,0.0,0.0,0.0,0.0,0.0,0.0,0.0,0.0,0.0,0.0],[0.03361077234148979,0.004466627258807421,0.0036443278659135103,0.0058014425449073315,0.2735269069671631,0.007484334986656904,0.008254609070718288,0.09077709913253784,0.004895070102065802,0.0038414523005485535,0.013469385914504528,0.010921075940132141,0.006423564162105322,0.010684266686439514,0.004546807613223791,0.007492240518331528,0.006991450674831867,0.0020576941315084696,0.00926316436380148,0.005388543009757996,0.003112565726041794,0.0037129484117031097,0.01639581099152565,0.01239838358014822,0.005930559244006872,0.009687583893537521,0.0014750300906598568,0.024001052603125572,0.009144174866378307,0.0015024518361315131,0.011555368080735207,0.012500389479100704,0.0268083643168211,0.01233996357768774,0.00912298634648323,0.012058855034410954,0.007387989200651646,0.06002408266067505,0.011172245256602764,0.005981643684208393,0.05809209495782852,0.001581404241733253,0.010427719913423061,0.02404051087796688,0.002733577974140644,0.05145176872611046,0.028748098760843277,0.01298048347234726,0.024328870698809624,0.01576218195259571,0.0,0.0,0.0,0.0,0.0,0.0,0.0,0.0,0.0,0.0],[0.010891596786677837,0.048897095024585724,0.0193699449300766,0.012495433911681175,0.010144990868866444,0.007577999960631132,0.037439074367284775,0.008682128973305225,0.010222049430012703,0.04794216901063919,0.03656294569373131,0.010973356664180756,0.02252739481627941,0.022056682035326958,0.016944151371717453,0.012265673838555813,0.03565804287791252,0.01058996096253395,0.019805191084742546,0.03366118669509888,0.02704443968832493,0.024494551122188568,0.009360612370073795,0.010003107599914074,0.010824160650372505,0.043814074248075485,0.008781800046563148,0.013257625512778759,0.06728621572256088,0.01945531740784645,0.011881235986948013,0.026937324553728104,0.009254815988242626,0.011329786852002144,0.03347090631723404,0.008392134681344032,0.01136433519423008,0.017932791262865067,0.010940282605588436,0.022299816831946373,0.021962925791740417,0.013121011666953564,0.006839736830443144,0.014175032265484333,0.008993185125291348,0.011674594134092331,0.024409648030996323,0.013483600690960884,0.013810619711875916,0.030303850769996643,0.008393404074013233,0.0,0.0,0.0,0.0,0.0,0.0,0.0,0.0,0.0],[0.04469383880496025,0.0027624964714050293,0.042066313326358795,0.0185336135327816,0.006388658192008734,0.06546162813901901,0.006997368764132261,0.005787187721580267,0.029828200116753578,0.020837565883994102,0.001858882256783545,0.04583604261279106,0.008714620023965836,0.007315784692764282,0.018227389082312584,0.022109385579824448,0.005358931142836809,0.027497882023453712,0.06421114504337311,0.007691580802202225,0.005874480586498976,0.00628724554553628,0.009132059291005135,0.02060222066938877,0.012417316436767578,0.00747622549533844,0.01347088348120451,0.007704384624958038,0.03322621062397957,0.03555884584784508,0.0214796494692564,0.0019186403369531035,0.021306103095412254,0.015013232827186584,0.004175477661192417,0.01342016365379095,0.01389352511614561,0.011268110945820808,0.04493409022688866,0.007322774734348059,0.013075369410216808,0.01983833871781826,0.016330456361174583,0.009767789393663406,0.034025005996227264,0.015978408977389336,0.007672417443245649,0.030506188049912453,0.01866804249584675,0.005290232133120298,0.035602815449237823,0.03458479046821594,0.0,0.0,0.0,0.0,0.0,0.0,0.0,0.0],[0.040709178894758224,0.004056960344314575,0.0024475546088069677,0.00839372631162405,0.17950446903705597,0.003963212016969919,0.011483744718134403,0.10547816008329391,0.0026356359012424946,0.006262078415602446,0.015186796896159649,0.007448429707437754,0.00794033333659172,0.01649131439626217,0.003833771450445056,0.006857424508780241,0.010793302208185196,0.002310519339516759,0.004704238381236792,0.01073452364653349,0.004524803254753351,0.004630522336810827,0.027183884754776955,0.0064412388019263744,0.005434372462332249,0.008106683380901814,0.001271957764402032,0.028925741091370583,0.01176668331027031,0.0020643421448767185,0.01133454404771328,0.019458796828985214,0.011064085178077221,0.009683914482593536,0.018460361286997795,0.0074239145033061504,0.01004232931882143,0.034062936902046204,0.007133245002478361,0.008246476761996746,0.05934146046638489,0.0011993743246421218,0.010803583078086376,0.0414731539785862,0.0021946837659925222,0.042170047760009766,0.025265270844101906,0.009110814891755581,0.024519717320799828,0.051988810300827026,0.003442241344600916,0.005738295614719391,0.034256357699632645,0.0,0.0,0.0,0.0,0.0,0.0,0.0],[0.009377241134643555,0.03719041123986244,0.015159958973526955,0.023689499124884605,0.008699718862771988,0.010741128586232662,0.01835334300994873,0.010422601364552975,0.013501941226422787,0.024719616398215294,0.030642643570899963,0.010821158066391945,0.02686341665685177,0.02988600730895996,0.023031778633594513,0.02168259769678116,0.0313037633895874,0.011607146821916103,0.01590401865541935,0.03550396487116814,0.025819743052124977,0.0282325129956007,0.013903240673244,0.011203992180526257,0.020066184923052788,0.03724297508597374,0.019793255254626274,0.015527230687439442,0.02469787560403347,0.018176471814513206,0.011560759507119656,0.025761565193533897,0.009821630083024502,0.010016261599957943,0.03993935510516167,0.012022565118968487,0.020649122074246407,0.015380168333649635,0.009282506071031094,0.019864311441779137,0.01247344445437193,0.02263811230659485,0.011682462878525257,0.014128530398011208,0.01438585203140974,0.007542795967310667,0.022617889568209648,0.009062512777745724,0.011532686650753021,0.020572135224938393,0.013145196251571178,0.011018519289791584,0.01746727153658867,0.0136689068749547,0.0,0.0,0.0,0.0,0.0,0.0],[0.02899915911257267,0.006489595863968134,0.02701016142964363,0.01825125887989998,0.005519440397620201,0.021263252943754196,0.012362365610897541,0.007877301424741745,0.024280888959765434,0.031113578006625175,0.005814629606902599,0.028560031205415726,0.015286818146705627,0.010467191226780415,0.021218080073595047,0.014642688445746899,0.013131189160048962,0.03167475387454033,0.023320406675338745,0.013243515975773335,0.017865659669041634,0.011403880082070827,0.02052348665893078,0.014092675410211086,0.016422806307673454,0.011420341208577156,0.016866078600287437,0.009945841506123543,0.034584444016218185,0.04372847080230713,0.02399299666285515,0.0069602555595338345,0.011829567141830921,0.011335850693285465,0.010160282254219055,0.01178917195647955,0.015723323449492455,0.006635479629039764,0.025890091434121132,0.01390557736158371,0.01483283843845129,0.026470044627785683,0.01735374890267849,0.01985866017639637,0.03279280290007591,0.020043065771460533,0.00780481705442071,0.019316527992486954,0.010848741047084332,0.012393848970532417,0.029015392065048218,0.03798438236117363,0.019592633470892906,0.025640878826379776,0.010449038818478584,0.0,0.0,0.0,0.0,0.0],[0.02526155486702919,0.007566963322460651,0.0022469700779765844,0.0049199871718883514,0.22199518978595734,0.00466799084097147,0.011964306235313416,0.10437746345996857,0.002374818315729499,0.003514644457027316,0.014407199807465076,0.0050985864363610744,0.005628357641398907,0.01768972910940647,0.004115530755370855,0.0076784188859164715,0.012197433970868587,0.0014806747203692794,0.007441654801368713,0.00746946781873703,0.00327782123349607,0.004071397706866264,0.014073493890464306,0.009846757166087627,0.002527885138988495,0.011553174816071987,0.00132832583039999,0.015822581946849823,0.009833241812884808,0.001215970958583057,0.006680551916360855,0.022611526772379875,0.015486078336834908,0.010751500725746155,0.015275837853550911,0.005949361715465784,0.005651114974170923,0.047362130135297775,0.0060976059176027775,0.004706165753304958,0.06769992411136627,0.0008278726018033922,0.004576660692691803,0.022793402895331383,0.0013440251350402832,0.02500246837735176,0.03602856397628784,0.00778927793726325,0.024880288168787956,0.028508145362138748,0.0027591323014348745,0.0028003116603940725,0.03379388898611069,0.0019089545821771026,0.03635052591562271,0.016717098653316498,0.0,0.0,0.0,0.0],[0.008775020949542522,0.02775629423558712,0.014481328427791595,0.020205402746796608,0.01825905032455921,0.009735348634421825,0.019927721470594406,0.0166934784501791,0.00873800553381443,0.01837201602756977,0.02165050432085991,0.00856404472142458,0.028789330273866653,0.030358314514160156,0.020540116354823112,0.02168247476220131,0.024429574608802795,0.005599391646683216,0.02198067680001259,0.024360399693250656,0.017658470198512077,0.01949339359998703,0.009868222288787365,0.013831126503646374,0.015757199376821518,0.05278470739722252,0.010552260093390942,0.016632970422506332,0.03023718111217022,0.009537513367831707,0.009539368562400341,0.026612473651766777,0.009315703995525837,0.013072969391942024,0.0409306101500988,0.009972960688173771,0.018047107383608818,0.02098250761628151,0.009432565420866013,0.014799377880990505,0.015497425571084023,0.009483106434345245,0.010781985707581043,0.0192998256534338,0.010386454872786999,0.011354752816259861,0.03082978166639805,0.008957388810813427,0.021277163177728653,0.02506777085363865,0.010491668246686459,0.00958616565912962,0.023298554122447968,0.008459465578198433,0.011790203861892223,0.024775303900241852,0.008705819956958294,0.0,0.0,0.0],[0.02019866369664669,0.006120486184954643,0.031308021396398544,0.025945765897631645,0.006688661407679319,0.020533988252282143,0.012172932736575603,0.01015554927289486,0.020623181015253067,0.02486901916563511,0.005184280686080456,0.025796804577112198,0.018556607887148857,0.011603041552007198,0.020464075729250908,0.015665581449866295,0.009041299112141132,0.02345825731754303,0.026392707601189613,0.013370676897466183,0.016253767535090446,0.009979723021388054,0.013880940154194832,0.012977398931980133,0.02069902792572975,0.013738969340920448,0.015196993947029114,0.010463004931807518,0.032873205840587616,0.033006779849529266,0.019991222769021988,0.005332220811396837,0.010572676546871662,0.01135964598506689,0.01295479852706194,0.012017442844808102,0.01947581022977829,0.008353276178240776,0.023338766768574715,0.010685309767723083,0.012371959164738655,0.019955957308411598,0.02023935317993164,0.023859122768044472,0.03020881675183773,0.018330741673707962,0.009497302584350109,0.016531556844711304,0.014246204867959023,0.013271507807075977,0.022824501618742943,0.034577228128910065,0.015615244396030903,0.017649007961153984,0.014599630609154701,0.019036857411265373,0.018257377669215202,0.017627066001296043,0.0,0.0],[0.04120906814932823,0.0021824482828378677,0.00306685920804739,0.003436100436374545,0.23793669044971466,0.006048136856406927,0.008381330408155918,0.10877640545368195,0.002774883061647415,0.0028857586439698935,0.0059391106478869915,0.01103207003325224,0.002525477670133114,0.005216273479163647,0.0021909147035330534,0.0032750980462878942,0.004299942869693041,0.002575138583779335,0.005857407581061125,0.0036313205491751432,0.0020210877992212772,0.0017209101933985949,0.014845289289951324,0.007943970151245594,0.0022851170506328344,0.0028201015666127205,0.0007692746585235,0.013482368551194668,0.0068082003854215145,0.0013200481189414859,0.010196018032729626,0.0069872597232460976,0.01903373934328556,0.007994781248271465,0.004513920284807682,0.008525651879608631,0.0041770185343921185,0.029957780614495277,0.008405457250773907,0.0036276013124734163,0.07607992738485336,0.0008616267587058246,0.006124928127974272,0.02465694025158882,0.0015316804638132453,0.05239207670092583,0.015615181997418404,0.012993303127586842,0.01729639247059822,0.018048737198114395,0.003107373835518956,0.005191298667341471,0.02346448041498661,0.002212205668911338,0.04866611585021019,0.011072034947574139,0.0037641790695488453,0.027079958468675613,0.02916552685201168,0.0],[0.011076956987380981,0.014430842362344265,0.029560107737779617,0.02650265209376812,0.004708405118435621,0.02231253683567047,0.014018279500305653,0.011645820923149586,0.013021408580243587,0.020259065553545952,0.009509759955108166,0.015649890527129173,0.019856935366988182,0.01502102892845869,0.020831823348999023,0.021189093589782715,0.016284452751278877,0.023242002353072166,0.02829737402498722,0.023437166586518288,0.016937095671892166,0.01801898516714573,0.01076414156705141,0.011241312138736248,0.014030011370778084,0.0133965527638793,0.02561943046748638,0.010676155798137188,0.023101434111595154,0.02947528474032879,0.011711815372109413,0.012723969295620918,0.010601243004202843,0.011760985478758812,0.0191387590020895,0.017005136236548424,0.024491747841238976,0.008771798573434353,0.01277914922684431,0.023470625281333923,0.012624307535588741,0.02179770916700363,0.015020725317299366,0.013813735917210579,0.022558219730854034,0.008604960516095161,0.014294177293777466,0.012513740919530392,0.013547271490097046,0.01804143376648426,0.021560553461313248,0.019942836835980415,0.012863683514297009,0.018769944086670876,0.010406173765659332,0.011673002503812313,0.014409529976546764,0.012851855717599392,0.011662826873362064,0.026472100988030434]],\"type\":\"heatmap\",\"xaxis\":\"x\",\"yaxis\":\"y\",\"hovertemplate\":\"Token: %{x}<br>Activation: %{y}<br>color: %{z}<extra></extra>\"}],                        {\"template\":{\"data\":{\"bar\":[{\"error_x\":{\"color\":\"#2a3f5f\"},\"error_y\":{\"color\":\"#2a3f5f\"},\"marker\":{\"line\":{\"color\":\"#E5ECF6\",\"width\":0.5},\"pattern\":{\"fillmode\":\"overlay\",\"size\":10,\"solidity\":0.2}},\"type\":\"bar\"}],\"barpolar\":[{\"marker\":{\"line\":{\"color\":\"#E5ECF6\",\"width\":0.5},\"pattern\":{\"fillmode\":\"overlay\",\"size\":10,\"solidity\":0.2}},\"type\":\"barpolar\"}],\"carpet\":[{\"aaxis\":{\"endlinecolor\":\"#2a3f5f\",\"gridcolor\":\"white\",\"linecolor\":\"white\",\"minorgridcolor\":\"white\",\"startlinecolor\":\"#2a3f5f\"},\"baxis\":{\"endlinecolor\":\"#2a3f5f\",\"gridcolor\":\"white\",\"linecolor\":\"white\",\"minorgridcolor\":\"white\",\"startlinecolor\":\"#2a3f5f\"},\"type\":\"carpet\"}],\"choropleth\":[{\"colorbar\":{\"outlinewidth\":0,\"ticks\":\"\"},\"type\":\"choropleth\"}],\"contour\":[{\"colorbar\":{\"outlinewidth\":0,\"ticks\":\"\"},\"colorscale\":[[0.0,\"#0d0887\"],[0.1111111111111111,\"#46039f\"],[0.2222222222222222,\"#7201a8\"],[0.3333333333333333,\"#9c179e\"],[0.4444444444444444,\"#bd3786\"],[0.5555555555555556,\"#d8576b\"],[0.6666666666666666,\"#ed7953\"],[0.7777777777777778,\"#fb9f3a\"],[0.8888888888888888,\"#fdca26\"],[1.0,\"#f0f921\"]],\"type\":\"contour\"}],\"contourcarpet\":[{\"colorbar\":{\"outlinewidth\":0,\"ticks\":\"\"},\"type\":\"contourcarpet\"}],\"heatmap\":[{\"colorbar\":{\"outlinewidth\":0,\"ticks\":\"\"},\"colorscale\":[[0.0,\"#0d0887\"],[0.1111111111111111,\"#46039f\"],[0.2222222222222222,\"#7201a8\"],[0.3333333333333333,\"#9c179e\"],[0.4444444444444444,\"#bd3786\"],[0.5555555555555556,\"#d8576b\"],[0.6666666666666666,\"#ed7953\"],[0.7777777777777778,\"#fb9f3a\"],[0.8888888888888888,\"#fdca26\"],[1.0,\"#f0f921\"]],\"type\":\"heatmap\"}],\"heatmapgl\":[{\"colorbar\":{\"outlinewidth\":0,\"ticks\":\"\"},\"colorscale\":[[0.0,\"#0d0887\"],[0.1111111111111111,\"#46039f\"],[0.2222222222222222,\"#7201a8\"],[0.3333333333333333,\"#9c179e\"],[0.4444444444444444,\"#bd3786\"],[0.5555555555555556,\"#d8576b\"],[0.6666666666666666,\"#ed7953\"],[0.7777777777777778,\"#fb9f3a\"],[0.8888888888888888,\"#fdca26\"],[1.0,\"#f0f921\"]],\"type\":\"heatmapgl\"}],\"histogram\":[{\"marker\":{\"pattern\":{\"fillmode\":\"overlay\",\"size\":10,\"solidity\":0.2}},\"type\":\"histogram\"}],\"histogram2d\":[{\"colorbar\":{\"outlinewidth\":0,\"ticks\":\"\"},\"colorscale\":[[0.0,\"#0d0887\"],[0.1111111111111111,\"#46039f\"],[0.2222222222222222,\"#7201a8\"],[0.3333333333333333,\"#9c179e\"],[0.4444444444444444,\"#bd3786\"],[0.5555555555555556,\"#d8576b\"],[0.6666666666666666,\"#ed7953\"],[0.7777777777777778,\"#fb9f3a\"],[0.8888888888888888,\"#fdca26\"],[1.0,\"#f0f921\"]],\"type\":\"histogram2d\"}],\"histogram2dcontour\":[{\"colorbar\":{\"outlinewidth\":0,\"ticks\":\"\"},\"colorscale\":[[0.0,\"#0d0887\"],[0.1111111111111111,\"#46039f\"],[0.2222222222222222,\"#7201a8\"],[0.3333333333333333,\"#9c179e\"],[0.4444444444444444,\"#bd3786\"],[0.5555555555555556,\"#d8576b\"],[0.6666666666666666,\"#ed7953\"],[0.7777777777777778,\"#fb9f3a\"],[0.8888888888888888,\"#fdca26\"],[1.0,\"#f0f921\"]],\"type\":\"histogram2dcontour\"}],\"mesh3d\":[{\"colorbar\":{\"outlinewidth\":0,\"ticks\":\"\"},\"type\":\"mesh3d\"}],\"parcoords\":[{\"line\":{\"colorbar\":{\"outlinewidth\":0,\"ticks\":\"\"}},\"type\":\"parcoords\"}],\"pie\":[{\"automargin\":true,\"type\":\"pie\"}],\"scatter\":[{\"marker\":{\"colorbar\":{\"outlinewidth\":0,\"ticks\":\"\"}},\"type\":\"scatter\"}],\"scatter3d\":[{\"line\":{\"colorbar\":{\"outlinewidth\":0,\"ticks\":\"\"}},\"marker\":{\"colorbar\":{\"outlinewidth\":0,\"ticks\":\"\"}},\"type\":\"scatter3d\"}],\"scattercarpet\":[{\"marker\":{\"colorbar\":{\"outlinewidth\":0,\"ticks\":\"\"}},\"type\":\"scattercarpet\"}],\"scattergeo\":[{\"marker\":{\"colorbar\":{\"outlinewidth\":0,\"ticks\":\"\"}},\"type\":\"scattergeo\"}],\"scattergl\":[{\"marker\":{\"colorbar\":{\"outlinewidth\":0,\"ticks\":\"\"}},\"type\":\"scattergl\"}],\"scattermapbox\":[{\"marker\":{\"colorbar\":{\"outlinewidth\":0,\"ticks\":\"\"}},\"type\":\"scattermapbox\"}],\"scatterpolar\":[{\"marker\":{\"colorbar\":{\"outlinewidth\":0,\"ticks\":\"\"}},\"type\":\"scatterpolar\"}],\"scatterpolargl\":[{\"marker\":{\"colorbar\":{\"outlinewidth\":0,\"ticks\":\"\"}},\"type\":\"scatterpolargl\"}],\"scatterternary\":[{\"marker\":{\"colorbar\":{\"outlinewidth\":0,\"ticks\":\"\"}},\"type\":\"scatterternary\"}],\"surface\":[{\"colorbar\":{\"outlinewidth\":0,\"ticks\":\"\"},\"colorscale\":[[0.0,\"#0d0887\"],[0.1111111111111111,\"#46039f\"],[0.2222222222222222,\"#7201a8\"],[0.3333333333333333,\"#9c179e\"],[0.4444444444444444,\"#bd3786\"],[0.5555555555555556,\"#d8576b\"],[0.6666666666666666,\"#ed7953\"],[0.7777777777777778,\"#fb9f3a\"],[0.8888888888888888,\"#fdca26\"],[1.0,\"#f0f921\"]],\"type\":\"surface\"}],\"table\":[{\"cells\":{\"fill\":{\"color\":\"#EBF0F8\"},\"line\":{\"color\":\"white\"}},\"header\":{\"fill\":{\"color\":\"#C8D4E3\"},\"line\":{\"color\":\"white\"}},\"type\":\"table\"}]},\"layout\":{\"annotationdefaults\":{\"arrowcolor\":\"#2a3f5f\",\"arrowhead\":0,\"arrowwidth\":1},\"autotypenumbers\":\"strict\",\"coloraxis\":{\"colorbar\":{\"outlinewidth\":0,\"ticks\":\"\"}},\"colorscale\":{\"diverging\":[[0,\"#8e0152\"],[0.1,\"#c51b7d\"],[0.2,\"#de77ae\"],[0.3,\"#f1b6da\"],[0.4,\"#fde0ef\"],[0.5,\"#f7f7f7\"],[0.6,\"#e6f5d0\"],[0.7,\"#b8e186\"],[0.8,\"#7fbc41\"],[0.9,\"#4d9221\"],[1,\"#276419\"]],\"sequential\":[[0.0,\"#0d0887\"],[0.1111111111111111,\"#46039f\"],[0.2222222222222222,\"#7201a8\"],[0.3333333333333333,\"#9c179e\"],[0.4444444444444444,\"#bd3786\"],[0.5555555555555556,\"#d8576b\"],[0.6666666666666666,\"#ed7953\"],[0.7777777777777778,\"#fb9f3a\"],[0.8888888888888888,\"#fdca26\"],[1.0,\"#f0f921\"]],\"sequentialminus\":[[0.0,\"#0d0887\"],[0.1111111111111111,\"#46039f\"],[0.2222222222222222,\"#7201a8\"],[0.3333333333333333,\"#9c179e\"],[0.4444444444444444,\"#bd3786\"],[0.5555555555555556,\"#d8576b\"],[0.6666666666666666,\"#ed7953\"],[0.7777777777777778,\"#fb9f3a\"],[0.8888888888888888,\"#fdca26\"],[1.0,\"#f0f921\"]]},\"colorway\":[\"#636efa\",\"#EF553B\",\"#00cc96\",\"#ab63fa\",\"#FFA15A\",\"#19d3f3\",\"#FF6692\",\"#B6E880\",\"#FF97FF\",\"#FECB52\"],\"font\":{\"color\":\"#2a3f5f\"},\"geo\":{\"bgcolor\":\"white\",\"lakecolor\":\"white\",\"landcolor\":\"#E5ECF6\",\"showlakes\":true,\"showland\":true,\"subunitcolor\":\"white\"},\"hoverlabel\":{\"align\":\"left\"},\"hovermode\":\"closest\",\"mapbox\":{\"style\":\"light\"},\"paper_bgcolor\":\"white\",\"plot_bgcolor\":\"#E5ECF6\",\"polar\":{\"angularaxis\":{\"gridcolor\":\"white\",\"linecolor\":\"white\",\"ticks\":\"\"},\"bgcolor\":\"#E5ECF6\",\"radialaxis\":{\"gridcolor\":\"white\",\"linecolor\":\"white\",\"ticks\":\"\"}},\"scene\":{\"xaxis\":{\"backgroundcolor\":\"#E5ECF6\",\"gridcolor\":\"white\",\"gridwidth\":2,\"linecolor\":\"white\",\"showbackground\":true,\"ticks\":\"\",\"zerolinecolor\":\"white\"},\"yaxis\":{\"backgroundcolor\":\"#E5ECF6\",\"gridcolor\":\"white\",\"gridwidth\":2,\"linecolor\":\"white\",\"showbackground\":true,\"ticks\":\"\",\"zerolinecolor\":\"white\"},\"zaxis\":{\"backgroundcolor\":\"#E5ECF6\",\"gridcolor\":\"white\",\"gridwidth\":2,\"linecolor\":\"white\",\"showbackground\":true,\"ticks\":\"\",\"zerolinecolor\":\"white\"}},\"shapedefaults\":{\"line\":{\"color\":\"#2a3f5f\"}},\"ternary\":{\"aaxis\":{\"gridcolor\":\"white\",\"linecolor\":\"white\",\"ticks\":\"\"},\"baxis\":{\"gridcolor\":\"white\",\"linecolor\":\"white\",\"ticks\":\"\"},\"bgcolor\":\"#E5ECF6\",\"caxis\":{\"gridcolor\":\"white\",\"linecolor\":\"white\",\"ticks\":\"\"}},\"title\":{\"x\":0.05},\"xaxis\":{\"automargin\":true,\"gridcolor\":\"white\",\"linecolor\":\"white\",\"ticks\":\"\",\"title\":{\"standoff\":15},\"zerolinecolor\":\"white\",\"zerolinewidth\":2},\"yaxis\":{\"automargin\":true,\"gridcolor\":\"white\",\"linecolor\":\"white\",\"ticks\":\"\",\"title\":{\"standoff\":15},\"zerolinecolor\":\"white\",\"zerolinewidth\":2}}},\"xaxis\":{\"anchor\":\"y\",\"domain\":[0.0,1.0],\"scaleanchor\":\"y\",\"constrain\":\"domain\",\"title\":{\"text\":\"Token\"}},\"yaxis\":{\"anchor\":\"x\",\"domain\":[0.0,1.0],\"autorange\":\"reversed\",\"constrain\":\"domain\",\"title\":{\"text\":\"Activation\"}},\"coloraxis\":{\"colorscale\":[[0.0,\"rgb(103,0,31)\"],[0.1,\"rgb(178,24,43)\"],[0.2,\"rgb(214,96,77)\"],[0.3,\"rgb(244,165,130)\"],[0.4,\"rgb(253,219,199)\"],[0.5,\"rgb(247,247,247)\"],[0.6,\"rgb(209,229,240)\"],[0.7,\"rgb(146,197,222)\"],[0.8,\"rgb(67,147,195)\"],[0.9,\"rgb(33,102,172)\"],[1.0,\"rgb(5,48,97)\"]],\"cmid\":0.0},\"title\":{\"text\":\"Layer 0 Attention Pattern, Head 1\"},\"height\":500,\"width\":500},                        {\"responsive\": true}                    ).then(function(){\n",
              "                            \n",
              "var gd = document.getElementById('715560b7-136a-4090-ad33-e20d518aeea5');\n",
              "var x = new MutationObserver(function (mutations, observer) {{\n",
              "        var display = window.getComputedStyle(gd).display;\n",
              "        if (!display || display === 'none') {{\n",
              "            console.log([gd, 'removed!']);\n",
              "            Plotly.purge(gd);\n",
              "            observer.disconnect();\n",
              "        }}\n",
              "}});\n",
              "\n",
              "// Listen for the removal of the full notebook cells\n",
              "var notebookContainer = gd.closest('#notebook-container');\n",
              "if (notebookContainer) {{\n",
              "    x.observe(notebookContainer, {childList: true});\n",
              "}}\n",
              "\n",
              "// Listen for the clearing of the current output cell\n",
              "var outputEl = gd.closest('.output');\n",
              "if (outputEl) {{\n",
              "    x.observe(outputEl, {childList: true});\n",
              "}}\n",
              "\n",
              "                        })                };                            </script>        </div>\n",
              "</body>\n",
              "</html>"
            ]
          },
          "metadata": {}
        }
      ]
    },
    {
      "cell_type": "markdown",
      "source": [
        "# No quincallada"
      ],
      "metadata": {
        "id": "6KnlPtdO-O8p"
      }
    },
    {
      "cell_type": "code",
      "source": [],
      "metadata": {
        "id": "IntqG0YG-MuJ"
      },
      "execution_count": null,
      "outputs": []
    },
    {
      "cell_type": "markdown",
      "source": [
        "# Quincallada"
      ],
      "metadata": {
        "id": "4Dc1RZEuOcY8"
      }
    },
    {
      "cell_type": "code",
      "source": [
        "# Install an older version of node, so that Svelte works (a web dev framework)\n",
        "!curl -fsSL https://deb.nodesource.com/setup_16.x | sudo -E bash -; sudo apt-get install -y nodejs\n",
        "!pip install git+https://github.com/neelnanda-io/PySvelte.git\n",
        "import sys\n",
        "sys.path.append('/content/PySvelte')"
      ],
      "metadata": {
        "id": "rC6u3SYEImZ9"
      },
      "execution_count": null,
      "outputs": []
    },
    {
      "cell_type": "code",
      "source": [
        "import pysvelte\n",
        "for layer in range(tiny_model.cfg.n_layers):\n",
        "    print(\"Attention for layer\", layer)\n",
        "    pysvelte.AttentionMulti(attention=tiny_cache[f'blocks.{layer}.attn.hook_attn'].permute(1, 2, 0)).show()"
      ],
      "metadata": {
        "id": "EJKrgSZZIIFy"
      },
      "execution_count": null,
      "outputs": []
    },
    {
      "cell_type": "code",
      "source": [
        "imshow(to_numpy(tiny_cache[\"attn\", 0].mean([0, 1])), title=\"Layer 0 Attention Pattern\", height=500, width=500)"
      ],
      "metadata": {
        "id": "g7HnMaZyES--"
      },
      "execution_count": null,
      "outputs": []
    },
    {
      "cell_type": "code",
      "source": [
        "env = TreasureHuntEnv()\n",
        "for i in range(2000):\n",
        "  action = int(input(\"Action: \"))\n",
        "  obs, rewards, done, info = env.step(action)\n",
        "  print(rewards)"
      ],
      "metadata": {
        "colab": {
          "base_uri": "https://localhost:8080/",
          "height": 729
        },
        "id": "OsVqrd1j6zsH",
        "outputId": "f0211516-c72a-4250-d444-475e80dde566"
      },
      "execution_count": 129,
      "outputs": [
        {
          "output_type": "stream",
          "name": "stdout",
          "text": [
            "Action: 0\n",
            "0.0\n",
            "Action: 1\n",
            "0.0\n",
            "Action: 2\n",
            "0.0\n",
            "Action: 3\n",
            "1.0\n",
            "Action: 4\n",
            "0.0\n",
            "Action: 3\n",
            "1.0\n",
            "Action: 3\n",
            "1.0\n",
            "Action: 3\n",
            "Action: 2\n",
            "1.0\n",
            "0.0\n",
            "Action: 4\n",
            "0.0\n"
          ]
        },
        {
          "output_type": "error",
          "ename": "KeyboardInterrupt",
          "evalue": "ignored",
          "traceback": [
            "\u001b[0;31m---------------------------------------------------------------------------\u001b[0m",
            "\u001b[0;31mKeyboardInterrupt\u001b[0m                         Traceback (most recent call last)",
            "\u001b[0;32m<ipython-input-129-e49a76455e27>\u001b[0m in \u001b[0;36m<module>\u001b[0;34m\u001b[0m\n\u001b[1;32m      1\u001b[0m \u001b[0menv\u001b[0m \u001b[0;34m=\u001b[0m \u001b[0mTreasureHuntEnv\u001b[0m\u001b[0;34m(\u001b[0m\u001b[0;34m)\u001b[0m\u001b[0;34m\u001b[0m\u001b[0;34m\u001b[0m\u001b[0m\n\u001b[1;32m      2\u001b[0m \u001b[0;32mfor\u001b[0m \u001b[0mi\u001b[0m \u001b[0;32min\u001b[0m \u001b[0mrange\u001b[0m\u001b[0;34m(\u001b[0m\u001b[0;36m2000\u001b[0m\u001b[0;34m)\u001b[0m\u001b[0;34m:\u001b[0m\u001b[0;34m\u001b[0m\u001b[0;34m\u001b[0m\u001b[0m\n\u001b[0;32m----> 3\u001b[0;31m   \u001b[0maction\u001b[0m \u001b[0;34m=\u001b[0m \u001b[0mint\u001b[0m\u001b[0;34m(\u001b[0m\u001b[0minput\u001b[0m\u001b[0;34m(\u001b[0m\u001b[0;34m\"Action: \"\u001b[0m\u001b[0;34m)\u001b[0m\u001b[0;34m)\u001b[0m\u001b[0;34m\u001b[0m\u001b[0;34m\u001b[0m\u001b[0m\n\u001b[0m\u001b[1;32m      4\u001b[0m   \u001b[0mobs\u001b[0m\u001b[0;34m,\u001b[0m \u001b[0mrewards\u001b[0m\u001b[0;34m,\u001b[0m \u001b[0mdone\u001b[0m\u001b[0;34m,\u001b[0m \u001b[0minfo\u001b[0m \u001b[0;34m=\u001b[0m \u001b[0menv\u001b[0m\u001b[0;34m.\u001b[0m\u001b[0mstep\u001b[0m\u001b[0;34m(\u001b[0m\u001b[0maction\u001b[0m\u001b[0;34m)\u001b[0m\u001b[0;34m\u001b[0m\u001b[0;34m\u001b[0m\u001b[0m\n\u001b[1;32m      5\u001b[0m   \u001b[0mprint\u001b[0m\u001b[0;34m(\u001b[0m\u001b[0mrewards\u001b[0m\u001b[0;34m)\u001b[0m\u001b[0;34m\u001b[0m\u001b[0;34m\u001b[0m\u001b[0m\n",
            "\u001b[0;32m/usr/local/lib/python3.7/dist-packages/ipykernel/kernelbase.py\u001b[0m in \u001b[0;36mraw_input\u001b[0;34m(self, prompt)\u001b[0m\n\u001b[1;32m    861\u001b[0m             \u001b[0mself\u001b[0m\u001b[0;34m.\u001b[0m\u001b[0m_parent_ident\u001b[0m\u001b[0;34m,\u001b[0m\u001b[0;34m\u001b[0m\u001b[0;34m\u001b[0m\u001b[0m\n\u001b[1;32m    862\u001b[0m             \u001b[0mself\u001b[0m\u001b[0;34m.\u001b[0m\u001b[0m_parent_header\u001b[0m\u001b[0;34m,\u001b[0m\u001b[0;34m\u001b[0m\u001b[0;34m\u001b[0m\u001b[0m\n\u001b[0;32m--> 863\u001b[0;31m             \u001b[0mpassword\u001b[0m\u001b[0;34m=\u001b[0m\u001b[0;32mFalse\u001b[0m\u001b[0;34m,\u001b[0m\u001b[0;34m\u001b[0m\u001b[0;34m\u001b[0m\u001b[0m\n\u001b[0m\u001b[1;32m    864\u001b[0m         )\n\u001b[1;32m    865\u001b[0m \u001b[0;34m\u001b[0m\u001b[0m\n",
            "\u001b[0;32m/usr/local/lib/python3.7/dist-packages/ipykernel/kernelbase.py\u001b[0m in \u001b[0;36m_input_request\u001b[0;34m(self, prompt, ident, parent, password)\u001b[0m\n\u001b[1;32m    902\u001b[0m             \u001b[0;32mexcept\u001b[0m \u001b[0mKeyboardInterrupt\u001b[0m\u001b[0;34m:\u001b[0m\u001b[0;34m\u001b[0m\u001b[0;34m\u001b[0m\u001b[0m\n\u001b[1;32m    903\u001b[0m                 \u001b[0;31m# re-raise KeyboardInterrupt, to truncate traceback\u001b[0m\u001b[0;34m\u001b[0m\u001b[0;34m\u001b[0m\u001b[0;34m\u001b[0m\u001b[0m\n\u001b[0;32m--> 904\u001b[0;31m                 \u001b[0;32mraise\u001b[0m \u001b[0mKeyboardInterrupt\u001b[0m\u001b[0;34m(\u001b[0m\u001b[0;34m\"Interrupted by user\"\u001b[0m\u001b[0;34m)\u001b[0m \u001b[0;32mfrom\u001b[0m \u001b[0;32mNone\u001b[0m\u001b[0;34m\u001b[0m\u001b[0;34m\u001b[0m\u001b[0m\n\u001b[0m\u001b[1;32m    905\u001b[0m             \u001b[0;32mexcept\u001b[0m \u001b[0mException\u001b[0m \u001b[0;32mas\u001b[0m \u001b[0me\u001b[0m\u001b[0;34m:\u001b[0m\u001b[0;34m\u001b[0m\u001b[0;34m\u001b[0m\u001b[0m\n\u001b[1;32m    906\u001b[0m                 \u001b[0mself\u001b[0m\u001b[0;34m.\u001b[0m\u001b[0mlog\u001b[0m\u001b[0;34m.\u001b[0m\u001b[0mwarning\u001b[0m\u001b[0;34m(\u001b[0m\u001b[0;34m\"Invalid Message:\"\u001b[0m\u001b[0;34m,\u001b[0m \u001b[0mexc_info\u001b[0m\u001b[0;34m=\u001b[0m\u001b[0;32mTrue\u001b[0m\u001b[0;34m)\u001b[0m\u001b[0;34m\u001b[0m\u001b[0;34m\u001b[0m\u001b[0m\n",
            "\u001b[0;31mKeyboardInterrupt\u001b[0m: Interrupted by user"
          ]
        }
      ]
    }
  ]
}